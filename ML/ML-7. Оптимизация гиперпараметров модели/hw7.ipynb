{
 "cells": [
  {
   "cell_type": "code",
   "execution_count": 4,
   "metadata": {},
   "outputs": [],
   "source": [
    "#импорт библиотек\n",
    "import numpy as np #для матричных вычислений\n",
    "import pandas as pd #для анализа и предобработки данных\n",
    "import matplotlib.pyplot as plt #для визуализации\n",
    "import seaborn as sns #для визуализации\n",
    "\n",
    "from sklearn import linear_model #линейные моделиё\n",
    "from sklearn import tree #деревья решений\n",
    "from sklearn import ensemble #ансамбли\n",
    "from sklearn import metrics #метрики\n",
    "from sklearn import preprocessing #предобработка\n",
    "from sklearn.model_selection import train_test_split #сплитование выборки\n",
    "from sklearn.model_selection import GridSearchCV\n",
    "from sklearn.model_selection import RandomizedSearchCV\n",
    "from sklearn.model_selection import cross_val_score\n",
    "import hyperopt\n",
    "from hyperopt import hp, fmin, tpe, Trials\n",
    "import optuna"
   ]
  },
  {
   "cell_type": "code",
   "execution_count": 5,
   "metadata": {},
   "outputs": [
    {
     "data": {
      "text/html": [
       "<div>\n",
       "<style scoped>\n",
       "    .dataframe tbody tr th:only-of-type {\n",
       "        vertical-align: middle;\n",
       "    }\n",
       "\n",
       "    .dataframe tbody tr th {\n",
       "        vertical-align: top;\n",
       "    }\n",
       "\n",
       "    .dataframe thead th {\n",
       "        text-align: right;\n",
       "    }\n",
       "</style>\n",
       "<table border=\"1\" class=\"dataframe\">\n",
       "  <thead>\n",
       "    <tr style=\"text-align: right;\">\n",
       "      <th></th>\n",
       "      <th>Activity</th>\n",
       "      <th>D1</th>\n",
       "      <th>D2</th>\n",
       "      <th>D3</th>\n",
       "      <th>D4</th>\n",
       "      <th>D5</th>\n",
       "      <th>D6</th>\n",
       "      <th>D7</th>\n",
       "      <th>D8</th>\n",
       "      <th>D9</th>\n",
       "      <th>...</th>\n",
       "      <th>D1767</th>\n",
       "      <th>D1768</th>\n",
       "      <th>D1769</th>\n",
       "      <th>D1770</th>\n",
       "      <th>D1771</th>\n",
       "      <th>D1772</th>\n",
       "      <th>D1773</th>\n",
       "      <th>D1774</th>\n",
       "      <th>D1775</th>\n",
       "      <th>D1776</th>\n",
       "    </tr>\n",
       "  </thead>\n",
       "  <tbody>\n",
       "    <tr>\n",
       "      <th>0</th>\n",
       "      <td>1</td>\n",
       "      <td>0.000000</td>\n",
       "      <td>0.497009</td>\n",
       "      <td>0.10</td>\n",
       "      <td>0.0</td>\n",
       "      <td>0.132956</td>\n",
       "      <td>0.678031</td>\n",
       "      <td>0.273166</td>\n",
       "      <td>0.585445</td>\n",
       "      <td>0.743663</td>\n",
       "      <td>...</td>\n",
       "      <td>0</td>\n",
       "      <td>0</td>\n",
       "      <td>0</td>\n",
       "      <td>0</td>\n",
       "      <td>0</td>\n",
       "      <td>0</td>\n",
       "      <td>0</td>\n",
       "      <td>0</td>\n",
       "      <td>0</td>\n",
       "      <td>0</td>\n",
       "    </tr>\n",
       "    <tr>\n",
       "      <th>1</th>\n",
       "      <td>1</td>\n",
       "      <td>0.366667</td>\n",
       "      <td>0.606291</td>\n",
       "      <td>0.05</td>\n",
       "      <td>0.0</td>\n",
       "      <td>0.111209</td>\n",
       "      <td>0.803455</td>\n",
       "      <td>0.106105</td>\n",
       "      <td>0.411754</td>\n",
       "      <td>0.836582</td>\n",
       "      <td>...</td>\n",
       "      <td>1</td>\n",
       "      <td>1</td>\n",
       "      <td>1</td>\n",
       "      <td>1</td>\n",
       "      <td>0</td>\n",
       "      <td>1</td>\n",
       "      <td>0</td>\n",
       "      <td>0</td>\n",
       "      <td>1</td>\n",
       "      <td>0</td>\n",
       "    </tr>\n",
       "    <tr>\n",
       "      <th>2</th>\n",
       "      <td>1</td>\n",
       "      <td>0.033300</td>\n",
       "      <td>0.480124</td>\n",
       "      <td>0.00</td>\n",
       "      <td>0.0</td>\n",
       "      <td>0.209791</td>\n",
       "      <td>0.610350</td>\n",
       "      <td>0.356453</td>\n",
       "      <td>0.517720</td>\n",
       "      <td>0.679051</td>\n",
       "      <td>...</td>\n",
       "      <td>0</td>\n",
       "      <td>0</td>\n",
       "      <td>0</td>\n",
       "      <td>0</td>\n",
       "      <td>0</td>\n",
       "      <td>0</td>\n",
       "      <td>0</td>\n",
       "      <td>0</td>\n",
       "      <td>0</td>\n",
       "      <td>0</td>\n",
       "    </tr>\n",
       "    <tr>\n",
       "      <th>3</th>\n",
       "      <td>1</td>\n",
       "      <td>0.000000</td>\n",
       "      <td>0.538825</td>\n",
       "      <td>0.00</td>\n",
       "      <td>0.5</td>\n",
       "      <td>0.196344</td>\n",
       "      <td>0.724230</td>\n",
       "      <td>0.235606</td>\n",
       "      <td>0.288764</td>\n",
       "      <td>0.805110</td>\n",
       "      <td>...</td>\n",
       "      <td>0</td>\n",
       "      <td>0</td>\n",
       "      <td>0</td>\n",
       "      <td>0</td>\n",
       "      <td>0</td>\n",
       "      <td>0</td>\n",
       "      <td>0</td>\n",
       "      <td>0</td>\n",
       "      <td>0</td>\n",
       "      <td>0</td>\n",
       "    </tr>\n",
       "    <tr>\n",
       "      <th>4</th>\n",
       "      <td>0</td>\n",
       "      <td>0.100000</td>\n",
       "      <td>0.517794</td>\n",
       "      <td>0.00</td>\n",
       "      <td>0.0</td>\n",
       "      <td>0.494734</td>\n",
       "      <td>0.781422</td>\n",
       "      <td>0.154361</td>\n",
       "      <td>0.303809</td>\n",
       "      <td>0.812646</td>\n",
       "      <td>...</td>\n",
       "      <td>0</td>\n",
       "      <td>0</td>\n",
       "      <td>0</td>\n",
       "      <td>0</td>\n",
       "      <td>0</td>\n",
       "      <td>0</td>\n",
       "      <td>0</td>\n",
       "      <td>0</td>\n",
       "      <td>0</td>\n",
       "      <td>0</td>\n",
       "    </tr>\n",
       "  </tbody>\n",
       "</table>\n",
       "<p>5 rows × 1777 columns</p>\n",
       "</div>"
      ],
      "text/plain": [
       "   Activity        D1        D2    D3   D4        D5        D6        D7  \\\n",
       "0         1  0.000000  0.497009  0.10  0.0  0.132956  0.678031  0.273166   \n",
       "1         1  0.366667  0.606291  0.05  0.0  0.111209  0.803455  0.106105   \n",
       "2         1  0.033300  0.480124  0.00  0.0  0.209791  0.610350  0.356453   \n",
       "3         1  0.000000  0.538825  0.00  0.5  0.196344  0.724230  0.235606   \n",
       "4         0  0.100000  0.517794  0.00  0.0  0.494734  0.781422  0.154361   \n",
       "\n",
       "         D8        D9  ...  D1767  D1768  D1769  D1770  D1771  D1772  D1773  \\\n",
       "0  0.585445  0.743663  ...      0      0      0      0      0      0      0   \n",
       "1  0.411754  0.836582  ...      1      1      1      1      0      1      0   \n",
       "2  0.517720  0.679051  ...      0      0      0      0      0      0      0   \n",
       "3  0.288764  0.805110  ...      0      0      0      0      0      0      0   \n",
       "4  0.303809  0.812646  ...      0      0      0      0      0      0      0   \n",
       "\n",
       "   D1774  D1775  D1776  \n",
       "0      0      0      0  \n",
       "1      0      1      0  \n",
       "2      0      0      0  \n",
       "3      0      0      0  \n",
       "4      0      0      0  \n",
       "\n",
       "[5 rows x 1777 columns]"
      ]
     },
     "execution_count": 5,
     "metadata": {},
     "output_type": "execute_result"
    }
   ],
   "source": [
    "# импортируем данные и смотрим, как они выглядят\n",
    "data = pd.read_csv('data/_train_sem09 (1).csv')\n",
    "data.head()"
   ]
  },
  {
   "cell_type": "code",
   "execution_count": 6,
   "metadata": {},
   "outputs": [
    {
     "data": {
      "image/png": "[encoded data removed]",
      "text/plain": [
       "<Figure size 640x480 with 1 Axes>"
      ]
     },
     "metadata": {},
     "output_type": "display_data"
    }
   ],
   "source": [
    "# проверяем сбалансированность классов\n",
    "sns.countplot(data=data, x='Activity');"
   ]
  },
  {
   "cell_type": "markdown",
   "metadata": {},
   "source": [
    "Классы сбалансированы, поэтому не будем включать параметр stratify при разбиении выборки"
   ]
  },
  {
   "cell_type": "code",
   "execution_count": 7,
   "metadata": {},
   "outputs": [],
   "source": [
    "# создаем матрицу наблюдений X и правильных ответов y\n",
    "# делим выборку на тренировочную и тестовою 70/30\n",
    "# заодно закладываем параметр random_state на все задания\n",
    "X = data.drop(['Activity'], axis=1)\n",
    "y = data['Activity']\n",
    "random_state = 42\n",
    "X_train, X_test, y_train, y_test = train_test_split(X, y, random_state = random_state, test_size = 0.3)"
   ]
  },
  {
   "cell_type": "markdown",
   "metadata": {},
   "source": [
    "Данные готовы к работе.  \n",
    "### **GridSearchCV**  \n",
    "Сначала на модели логистической регрессии"
   ]
  },
  {
   "cell_type": "code",
   "execution_count": 203,
   "metadata": {},
   "outputs": [
    {
     "name": "stdout",
     "output_type": "stream",
     "text": [
      "CPU times: total: 33.5 s\n",
      "Wall time: 53min 30s\n",
      "accuracy на тестовом наборе: 0.77\n",
      "f1_score на тестовом наборе: 0.79\n",
      "Наилучшие значения гиперпараметров: {'C': 0.1, 'penalty': 'l2', 'solver': 'saga'}\n"
     ]
    }
   ],
   "source": [
    "# задаем сетку параметров\n",
    "param_grid = [{'penalty': ['l2', 'none'] , # тип регуляризации\n",
    "              'solver': ['lbfgs', 'sag'], # алгоритм оптимизации\n",
    "               'C': [0.01, 0.1, 0.3, 0.5, 0.7, 0.9, 1]}, # уровень силы регурялизации \n",
    "              {'penalty': ['l1', 'l2'],\n",
    "              'solver': ['liblinear', 'saga'],\n",
    "               'C': [0.01, 0.1, 0.3, 0.5, 0.7, 0.9, 1]}]\n",
    "\n",
    "# задаем перебор гиперпараметров на модели логистической регрессии\n",
    "grid_search = GridSearchCV(\n",
    "    estimator=linear_model.LogisticRegression(\n",
    "        random_state=random_state, #генератор случайных чисел\n",
    "        max_iter=1000 #количество итераций на сходимость \n",
    "    ), \n",
    "    param_grid=param_grid, \n",
    "    cv=5, \n",
    "    n_jobs = -1\n",
    ")  \n",
    "%time grid_search.fit(X_train, y_train) \n",
    "print(\"accuracy на тестовом наборе: {:.2f}\".format(grid_search.score(X_test, y_test)))\n",
    "y_test_pred = grid_search.predict(X_test)\n",
    "print('f1_score на тестовом наборе: {:.2f}'.format(metrics.f1_score(y_test, y_test_pred)))\n",
    "print(\"Наилучшие значения гиперпараметров: {}\".format(grid_search.best_params_))"
   ]
  },
  {
   "cell_type": "markdown",
   "metadata": {},
   "source": [
    "**Случайный лес**"
   ]
  },
  {
   "cell_type": "code",
   "execution_count": 204,
   "metadata": {},
   "outputs": [
    {
     "name": "stdout",
     "output_type": "stream",
     "text": [
      "CPU times: total: 6.53 s\n",
      "Wall time: 3min 13s\n",
      "accuracy на тестовом наборе: 0.80\n",
      "f1_score на тестовом наборе: 0.82\n",
      "Наилучшие значения гиперпараметров: {'max_depth': 15, 'min_samples_leaf': 2, 'n_estimators': 150}\n"
     ]
    }
   ],
   "source": [
    "\n",
    "param_grid = {'min_samples_leaf': list(np.linspace(2, 10, 3, dtype=int)),\n",
    "              'max_depth': list(np.linspace(15, 26, 3, dtype=int)),\n",
    "              'n_estimators': list(np.linspace(100, 200, 3, dtype=int))}\n",
    "\n",
    "grid_search_tree = GridSearchCV(\n",
    "    estimator=ensemble.RandomForestClassifier(random_state=random_state), \n",
    "    param_grid=param_grid, \n",
    "    cv=5, \n",
    "    n_jobs = -1\n",
    "    )  \n",
    "%time grid_search_tree.fit(X_train, y_train) \n",
    "print(\"accuracy на тестовом наборе: {:.2f}\".format(grid_search_tree.score(X_test, y_test)))\n",
    "y_test_pred = grid_search_tree.predict(X_test)\n",
    "print('f1_score на тестовом наборе: {:.2f}'.format(metrics.f1_score(y_test, y_test_pred)))\n",
    "print(\"Наилучшие значения гиперпараметров: {}\".format(grid_search_tree.best_params_))"
   ]
  },
  {
   "cell_type": "markdown",
   "metadata": {},
   "source": [
    "**Вывод**  \n",
    "Перебор параметров занимает длительное время.\n",
    "Метрика f1 на модели логистической регрессии равна 0.79 при полученных лучших гиперпараметрах модели - 'C': 0.1, 'penalty': 'l2', 'solver': 'saga'.  \n",
    "Метрика f1 на модели случайного дерева лучше - 0.82. Гиперпараметры: 'max_depth': 15, 'min_samples_leaf': 2, 'n_estimators': 150"
   ]
  },
  {
   "cell_type": "markdown",
   "metadata": {},
   "source": [
    "### **RandomizedSearchCV**  \n",
    "**Логистическая регрессия**"
   ]
  },
  {
   "cell_type": "code",
   "execution_count": 205,
   "metadata": {},
   "outputs": [
    {
     "name": "stdout",
     "output_type": "stream",
     "text": [
      "CPU times: total: 35.8 s\n",
      "Wall time: 22min 53s\n",
      "accuracy на тестовом наборе: 0.77\n",
      "f1_score на тестовом наборе: 0.79\n",
      "Наилучшие значения гиперпараметров: {'solver': 'saga', 'penalty': 'l2', 'C': 0.1}\n"
     ]
    }
   ],
   "source": [
    "# для чистоты эксперимента используем те же сетки параметров и те же модели\n",
    "param_distributions = [{'penalty': ['l2', 'none'] , # тип регуляризации\n",
    "              'solver': ['lbfgs', 'sag'], # алгоритм оптимизации\n",
    "               'C': [0.01, 0.1, 0.3, 0.5, 0.7, 0.9, 1]}, # уровень силы регурялизации \n",
    "              {'penalty': ['l1', 'l2'],\n",
    "              'solver': ['liblinear', 'saga'],\n",
    "               'C': [0.01, 0.1, 0.3, 0.5, 0.7, 0.9, 1]}]\n",
    "\n",
    "random_search = RandomizedSearchCV(\n",
    "    estimator=linear_model.LogisticRegression(random_state=random_state, max_iter=1000), \n",
    "    param_distributions=param_distributions, \n",
    "    cv=5, \n",
    "    n_iter = 20, \n",
    "    n_jobs = -1\n",
    ")  \n",
    "%time random_search.fit(X_train, y_train) \n",
    "print(\"accuracy на тестовом наборе: {:.2f}\".format(random_search.score(X_test, y_test)))\n",
    "y_test_pred = random_search.predict(X_test)\n",
    "print('f1_score на тестовом наборе: {:.2f}'.format(metrics.f1_score(y_test, y_test_pred)))\n",
    "print(\"Наилучшие значения гиперпараметров: {}\".format(random_search.best_params_))"
   ]
  },
  {
   "cell_type": "markdown",
   "metadata": {},
   "source": [
    "**Случайный лес**"
   ]
  },
  {
   "cell_type": "code",
   "execution_count": 206,
   "metadata": {},
   "outputs": [
    {
     "name": "stdout",
     "output_type": "stream",
     "text": [
      "CPU times: total: 4.86 s\n",
      "Wall time: 2min 30s\n",
      "accuracy на тестовом наборе: 0.80\n",
      "f1_score на тестовом наборе: 0.82\n",
      "Наилучшие значения гиперпараметров: {'n_estimators': 150, 'min_samples_leaf': 2, 'max_depth': 15}\n"
     ]
    }
   ],
   "source": [
    "param_distributions = {'min_samples_leaf': list(np.linspace(2, 10, 3, dtype=int)),\n",
    "              'max_depth': list(np.linspace(15, 26, 3, dtype=int)),\n",
    "              'n_estimators': list(np.linspace(100, 200, 3, dtype=int))}\n",
    "\n",
    "\n",
    "random_search_tree = RandomizedSearchCV(\n",
    "    estimator=ensemble.RandomForestClassifier(random_state=random_state), \n",
    "    param_distributions=param_distributions, \n",
    "    cv=5,\n",
    "    n_iter = 20, \n",
    "    n_jobs = -1\n",
    ")  \n",
    "%time random_search_tree.fit(X_train, y_train) \n",
    "print(\"accuracy на тестовом наборе: {:.2f}\".format(random_search_tree.score(X_test, y_test)))\n",
    "y_test_pred = random_search_tree.predict(X_test)\n",
    "print('f1_score на тестовом наборе: {:.2f}'.format(metrics.f1_score(y_test, y_test_pred)))\n",
    "print(\"Наилучшие значения гиперпараметров: {}\".format(random_search_tree.best_params_))"
   ]
  },
  {
   "cell_type": "markdown",
   "metadata": {},
   "source": [
    "**Выводы**  \n",
    "На модели логистической регрессии при случайном подборе параметров получилась такая же метрика и такой же набор гиперпараметров при вдвое меньших затратах времени.\n",
    "\n",
    "На модели случайного и случайном выборе гиперпараметров значение метрики то же самое ,что и при сплошном переборе - 0,82. Гиперпараметры те же самые. Времени потрачено на 30% меньше."
   ]
  },
  {
   "cell_type": "markdown",
   "metadata": {},
   "source": [
    "### **Hyperopt**  \n",
    "**Логистическая регрессия**"
   ]
  },
  {
   "cell_type": "code",
   "execution_count": 8,
   "metadata": {},
   "outputs": [],
   "source": [
    "# зададим пространство поиска гиперпараметров и совместимость гиперпараметров\n",
    "penalty_list = ['l1', 'l2', None]\n",
    "solver_list = ['lbfgs', 'sag', 'liblinear', 'saga']\n",
    "compatibilyty_dict = {'lbfgs': ['l2', None],\n",
    "                      'sag': ['l2', None],\n",
    "                      'liblinear': ['l1', 'l2'],\n",
    "                      'saga': ['l1', 'l2', None]\n",
    "                      }\n",
    "\n",
    "space = {'penalty': hp.choice('penalty', penalty_list),\n",
    "         'solver': hp.choice('solver', solver_list),\n",
    "         'C': hp.uniform('C', 0.01, 1)\n",
    "         }"
   ]
  },
  {
   "cell_type": "code",
   "execution_count": 9,
   "metadata": {},
   "outputs": [],
   "source": [
    "def hyperopt_lr(params, cv=5, X=X_train, y=y_train, random_state=random_state):\n",
    "    # функция получает комбинацию гиперпараметров в \"params\"\n",
    "    params = {'penalty': str(params['penalty']),\n",
    "              'solver': str(params['solver']),\n",
    "              'C': float(params['C'])\n",
    "              }\n",
    "\n",
    "    if params['penalty'] not in compatibilyty_dict[params['solver']]:\n",
    "        return 0\n",
    "  \n",
    "    # используем эту комбинацию для построения модели\n",
    "    model = linear_model.LogisticRegression(**params, random_state=random_state, max_iter = 1000)\n",
    "\n",
    "    # обучаем модель\n",
    "    model.fit(X, y)\n",
    "    score = metrics.f1_score(y, model.predict(X))\n",
    "    # метрику необходимо минимизировать, поэтому ставим знак минус\n",
    "    return -score"
   ]
  },
  {
   "cell_type": "code",
   "execution_count": 10,
   "metadata": {},
   "outputs": [
    {
     "name": "stdout",
     "output_type": "stream",
     "text": [
      "  0%|          | 0/20 [00:00<?, ?trial/s, best loss=?]"
     ]
    },
    {
     "name": "stdout",
     "output_type": "stream",
     "text": [
      " 10%|█         | 2/20 [02:10<19:37, 65.43s/trial, best loss: -0.8581411600279524]"
     ]
    },
    {
     "name": "stderr",
     "output_type": "stream",
     "text": [
      "c:\\Users\\u1\\AppData\\Local\\Programs\\Python\\Python39\\lib\\site-packages\\sklearn\\linear_model\\_sag.py:350: ConvergenceWarning: The max_iter was reached which means the coef_ did not converge\n",
      "  warnings.warn(\n",
      "\n"
     ]
    },
    {
     "name": "stdout",
     "output_type": "stream",
     "text": [
      " 50%|█████     | 10/20 [04:35<04:07, 24.70s/trial, best loss: -0.8660370759006646]"
     ]
    },
    {
     "name": "stderr",
     "output_type": "stream",
     "text": [
      "c:\\Users\\u1\\AppData\\Local\\Programs\\Python\\Python39\\lib\\site-packages\\sklearn\\linear_model\\_sag.py:350: ConvergenceWarning: The max_iter was reached which means the coef_ did not converge\n",
      "  warnings.warn(\n",
      "\n"
     ]
    },
    {
     "name": "stdout",
     "output_type": "stream",
     "text": [
      " 95%|█████████▌| 19/20 [06:45<00:25, 25.50s/trial, best loss: -0.8692604276200491]"
     ]
    },
    {
     "name": "stderr",
     "output_type": "stream",
     "text": [
      "c:\\Users\\u1\\AppData\\Local\\Programs\\Python\\Python39\\lib\\site-packages\\sklearn\\linear_model\\_sag.py:350: ConvergenceWarning: The max_iter was reached which means the coef_ did not converge\n",
      "  warnings.warn(\n",
      "\n"
     ]
    },
    {
     "name": "stdout",
     "output_type": "stream",
     "text": [
      "100%|██████████| 20/20 [06:49<00:00, 20.47s/trial, best loss: -0.8876404494382022]\n",
      "Наилучшие значения гиперпараметров {'C': 0.7159140762992834, 'penalty': 1, 'solver': 0}\n",
      "CPU times: total: 6min 42s\n",
      "Wall time: 6min 49s\n"
     ]
    }
   ],
   "source": [
    "%%time\n",
    "# начинаем подбор гиперпараметров\n",
    "\n",
    "trials = Trials() # используется для логирования результатов\n",
    "\n",
    "best=fmin(hyperopt_lr, # наша функция \n",
    "          space=space, # пространство гиперпараметров\n",
    "          algo=tpe.suggest, # алгоритм оптимизации, установлен по умолчанию, задавать необязательно\n",
    "          max_evals=20, # максимальное количество итераций\n",
    "          trials=trials, # логирование результатов\n",
    "          rstate=np.random.default_rng(random_state)# фиксируем для повторяемости результата\n",
    "         )\n",
    "print(\"Наилучшие значения гиперпараметров {}\".format(best))"
   ]
  },
  {
   "cell_type": "code",
   "execution_count": 13,
   "metadata": {},
   "outputs": [
    {
     "name": "stdout",
     "output_type": "stream",
     "text": [
      "f1_score на обучающем наборе: 0.89\n",
      "accuracy на тестовом наборе: 0.77\n",
      "f1_score на тестовом наборе: 0.79\n"
     ]
    }
   ],
   "source": [
    "# рассчитаем точность для тестовой выборки\n",
    "model = linear_model.LogisticRegression(\n",
    "    penalty = penalty_list[best['penalty']],\n",
    "    solver = solver_list[best['solver']],\n",
    "    C = float(best['C']),\n",
    "    max_iter = 1000,\n",
    "    random_state = random_state\n",
    ")\n",
    "model.fit(X_train, y_train)\n",
    "y_train_pred = model.predict(X_train)\n",
    "print('f1_score на обучающем наборе: {:.2f}'.format(metrics.f1_score(y_train, y_train_pred)))\n",
    "print(\"accuracy на тестовом наборе: {:.2f}\".format(model.score(X_test, y_test)))\n",
    "y_test_pred = model.predict(X_test)\n",
    "print('f1_score на тестовом наборе: {:.2f}'.format(metrics.f1_score(y_test, y_test_pred)))"
   ]
  },
  {
   "cell_type": "markdown",
   "metadata": {},
   "source": [
    "**Случайный лес**"
   ]
  },
  {
   "cell_type": "code",
   "execution_count": 211,
   "metadata": {},
   "outputs": [],
   "source": [
    "# зададим пространство поиска гиперпараметров\n",
    "space={'n_estimators': hp.quniform('n_estimators', 100, 200, 1),\n",
    "       'max_depth' : hp.quniform('max_depth', 15, 26, 1),\n",
    "       'min_samples_leaf': hp.quniform('min_samples_leaf', 2, 10, 1)\n",
    "      }\n"
   ]
  },
  {
   "cell_type": "code",
   "execution_count": 212,
   "metadata": {},
   "outputs": [],
   "source": [
    "def hyperopt_rf(params, cv=5, X=X_train, y=y_train, random_state=random_state):\n",
    "    # функция получает комбинацию гиперпараметров в \"params\"\n",
    "    params = {'n_estimators': int(params['n_estimators']), \n",
    "              'max_depth': int(params['max_depth']), \n",
    "             'min_samples_leaf': int(params['min_samples_leaf'])\n",
    "              }\n",
    "  \n",
    "    # используем эту комбинацию для построения модели\n",
    "    model = ensemble.RandomForestClassifier(**params, random_state=random_state)\n",
    "\n",
    "    # обучаем модель\n",
    "    model.fit(X, y)\n",
    "    score = metrics.f1_score(y, model.predict(X))\n",
    "    \n",
    "    # обучать модель можно также с помощью кросс-валидации\n",
    "    # применим  cross validation с тем же количеством фолдов\n",
    "    # score = cross_val_score(model, X, y, cv=cv, scoring=\"f1\", n_jobs=-1).mean()\n",
    "\n",
    "    # метрику необходимо минимизировать, поэтому ставим знак минус\n",
    "    return -score"
   ]
  },
  {
   "cell_type": "code",
   "execution_count": 213,
   "metadata": {},
   "outputs": [
    {
     "name": "stdout",
     "output_type": "stream",
     "text": [
      "  0%|          | 0/20 [00:00<?, ?trial/s, best loss=?]"
     ]
    },
    {
     "name": "stdout",
     "output_type": "stream",
     "text": [
      "100%|██████████| 20/20 [01:12<00:00,  3.63s/trial, best loss: -0.9875842497339483]\n",
      "Наилучшие значения гиперпараметров {'max_depth': 18.0, 'min_samples_leaf': 2.0, 'n_estimators': 103.0}\n",
      "CPU times: total: 1min 8s\n",
      "Wall time: 1min 12s\n"
     ]
    }
   ],
   "source": [
    "%%time\n",
    "# начинаем подбор гиперпараметров\n",
    "\n",
    "trials = Trials() # используется для логирования результатов\n",
    "\n",
    "best=fmin(hyperopt_rf, # наша функция \n",
    "          space=space, # пространство гиперпараметров\n",
    "          algo=tpe.suggest, # алгоритм оптимизации, установлен по умолчанию, задавать необязательно\n",
    "          max_evals=20, # максимальное количество итераций\n",
    "          trials=trials, # логирование результатов\n",
    "          rstate=np.random.default_rng(random_state)# фиксируем для повторяемости результата\n",
    "         )\n",
    "print(\"Наилучшие значения гиперпараметров {}\".format(best))"
   ]
  },
  {
   "cell_type": "code",
   "execution_count": 214,
   "metadata": {},
   "outputs": [
    {
     "name": "stdout",
     "output_type": "stream",
     "text": [
      "f1_score на обучающем наборе: 0.99\n",
      "accuracy на тестовом наборе: 0.79\n",
      "f1_score на тестовом наборе: 0.81\n"
     ]
    }
   ],
   "source": [
    "# рассчитаем точность для тестовой выборки\n",
    "model = ensemble.RandomForestClassifier(\n",
    "    random_state=random_state, \n",
    "    n_estimators=int(best['n_estimators']),\n",
    "    max_depth=int(best['max_depth']),\n",
    "    min_samples_leaf=int(best['min_samples_leaf'])\n",
    ")\n",
    "model.fit(X_train, y_train)\n",
    "y_train_pred = model.predict(X_train)\n",
    "print('f1_score на обучающем наборе: {:.2f}'.format(metrics.f1_score(y_train, y_train_pred)))\n",
    "print(\"accuracy на тестовом наборе: {:.2f}\".format(model.score(X_test, y_test)))\n",
    "y_test_pred = model.predict(X_test)\n",
    "print('f1_score на тестовом наборе: {:.2f}'.format(metrics.f1_score(y_test, y_test_pred)))"
   ]
  },
  {
   "cell_type": "markdown",
   "metadata": {},
   "source": [
    "**Выводы**\n",
    "На логистической регрессии метрика не изменилась. Затраты времени сократились еще втрое. Изменился набор гиперпараметров. В этой библиотеке они интерпретируются иначе, индексом в списке.\n",
    "\n",
    "Показатели случайного леса снизились на одну десятую, и изменился набор гиперпараметров. Алгоритм не подобрал оптимальный набор при 20 итерациях. Зато время сократилось до 1-й минуты."
   ]
  },
  {
   "cell_type": "markdown",
   "metadata": {},
   "source": [
    "### **Optuna**  \n",
    "**Логистическая регрессия**"
   ]
  },
  {
   "cell_type": "code",
   "execution_count": 215,
   "metadata": {},
   "outputs": [],
   "source": [
    "# зададим пространство поиска гиперпараметров и совместимость гиперпараметров\n",
    "penalty_list = ['l1', 'l2', None]\n",
    "solver_list = ['lbfgs', 'sag', 'liblinear', 'saga']\n",
    "compatibilyty_dict = {'lbfgs': ['l2', None],\n",
    "                      'sag': ['l2', None],\n",
    "                      'liblinear': ['l1', 'l2'],\n",
    "                      'saga': ['elasticnet', 'l1', 'l2', None]\n",
    "                      }\n",
    "\n",
    "space = {'penalty': hp.choice('penalty', penalty_list),\n",
    "         'solver': hp.choice('solver', solver_list),\n",
    "         'C': hp.uniform('C', 0.01, 1)\n",
    "         }"
   ]
  },
  {
   "cell_type": "code",
   "execution_count": 216,
   "metadata": {},
   "outputs": [],
   "source": [
    "def optuna_log(trial):\n",
    "    C_value = trial.suggest_float('C', 0.01, 1, log = False)\n",
    "    penalty_name = trial.suggest_categorical('penalty', penalty_list)\n",
    "    solver_name = trial.suggest_categorical('solver', solver_list)\n",
    "\n",
    "    if penalty_name not in compatibilyty_dict[solver_name]:\n",
    "        return 0\n",
    "  \n",
    "    if penalty_name is None:    \n",
    "        model = linear_model.LogisticRegression(\n",
    "            penalty = penalty_name,\n",
    "            max_iter = 1000,\n",
    "            random_state = random_state\n",
    "            )\n",
    "    else:\n",
    "        model = linear_model.LogisticRegression(\n",
    "            penalty = penalty_name,\n",
    "            solver = solver_name,\n",
    "            C = C_value,\n",
    "            max_iter = 1000,\n",
    "            random_state = random_state\n",
    "            )  \n",
    "  \n",
    "    model.fit(X_train, y_train)\n",
    "  \n",
    "    score = cross_val_score(model, X_train, y_train, cv = 5, scoring = \"f1\", n_jobs = -1).mean()\n",
    "  \n",
    "    return score"
   ]
  },
  {
   "cell_type": "code",
   "execution_count": 217,
   "metadata": {},
   "outputs": [
    {
     "name": "stderr",
     "output_type": "stream",
     "text": [
      "[I 2023-08-21 17:11:53,487] A new study created in memory with name: LogisticRegression\n"
     ]
    },
    {
     "name": "stderr",
     "output_type": "stream",
     "text": [
      "[I 2023-08-21 17:12:02,811] Trial 0 finished with value: 0.7640612185939148 and parameters: {'C': 0.4115450266177299, 'penalty': 'l2', 'solver': 'liblinear'}. Best is trial 0 with value: 0.7640612185939148.\n",
      "[I 2023-08-21 17:14:08,209] Trial 1 finished with value: 0.7653339376804273 and parameters: {'C': 0.37356986259045344, 'penalty': 'l2', 'solver': 'sag'}. Best is trial 1 with value: 0.7653339376804273.\n",
      "[I 2023-08-21 17:15:54,017] Trial 2 finished with value: 0.7616882617306006 and parameters: {'C': 0.7666032646325585, 'penalty': 'l2', 'solver': 'sag'}. Best is trial 1 with value: 0.7653339376804273.\n",
      "[I 2023-08-21 17:18:42,580] Trial 3 finished with value: 0.7643772775354657 and parameters: {'C': 0.7185156746857603, 'penalty': 'l2', 'solver': 'saga'}. Best is trial 1 with value: 0.7653339376804273.\n",
      "[I 2023-08-21 17:18:47,157] Trial 4 finished with value: 0.7745542374961968 and parameters: {'C': 0.7997417630367816, 'penalty': 'l1', 'solver': 'liblinear'}. Best is trial 4 with value: 0.7745542374961968.\n",
      "[I 2023-08-21 17:18:50,519] Trial 5 finished with value: 0.7602185599426147 and parameters: {'C': 0.8408580685818146, 'penalty': 'l2', 'solver': 'liblinear'}. Best is trial 4 with value: 0.7745542374961968.\n",
      "[I 2023-08-21 17:20:14,599] Trial 6 finished with value: 0.7789788632836843 and parameters: {'C': 0.11620784192551668, 'penalty': 'l2', 'solver': 'sag'}. Best is trial 6 with value: 0.7789788632836843.\n",
      "c:\\Users\\u1\\AppData\\Local\\Programs\\Python\\Python39\\lib\\site-packages\\sklearn\\linear_model\\_logistic.py:458: ConvergenceWarning: lbfgs failed to converge (status=1):\n",
      "STOP: TOTAL NO. of ITERATIONS REACHED LIMIT.\n",
      "\n",
      "Increase the number of iterations (max_iter) or scale the data as shown in:\n",
      "    https://scikit-learn.org/stable/modules/preprocessing.html\n",
      "Please also refer to the documentation for alternative solver options:\n",
      "    https://scikit-learn.org/stable/modules/linear_model.html#logistic-regression\n",
      "  n_iter_i = _check_optimize_result(\n",
      "[I 2023-08-21 17:20:39,722] Trial 7 finished with value: 0.7134898172799248 and parameters: {'C': 0.502182410469719, 'penalty': None, 'solver': 'sag'}. Best is trial 6 with value: 0.7789788632836843.\n",
      "[I 2023-08-21 17:20:42,566] Trial 8 finished with value: 0.7625061997233952 and parameters: {'C': 0.5598408328383958, 'penalty': 'l2', 'solver': 'liblinear'}. Best is trial 6 with value: 0.7789788632836843.\n",
      "c:\\Users\\u1\\AppData\\Local\\Programs\\Python\\Python39\\lib\\site-packages\\sklearn\\linear_model\\_logistic.py:458: ConvergenceWarning: lbfgs failed to converge (status=1):\n",
      "STOP: TOTAL NO. of ITERATIONS REACHED LIMIT.\n",
      "\n",
      "Increase the number of iterations (max_iter) or scale the data as shown in:\n",
      "    https://scikit-learn.org/stable/modules/preprocessing.html\n",
      "Please also refer to the documentation for alternative solver options:\n",
      "    https://scikit-learn.org/stable/modules/linear_model.html#logistic-regression\n",
      "  n_iter_i = _check_optimize_result(\n",
      "[I 2023-08-21 17:21:07,954] Trial 9 finished with value: 0.7134898172799248 and parameters: {'C': 0.39705863638762323, 'penalty': None, 'solver': 'sag'}. Best is trial 6 with value: 0.7789788632836843.\n",
      "[I 2023-08-21 17:21:07,977] Trial 10 finished with value: 0.0 and parameters: {'C': 0.028319689905833223, 'penalty': 'l1', 'solver': 'lbfgs'}. Best is trial 6 with value: 0.7789788632836843.\n",
      "[I 2023-08-21 17:21:07,992] Trial 11 finished with value: 0.0 and parameters: {'C': 0.0200164546723738, 'penalty': 'l1', 'solver': 'lbfgs'}. Best is trial 6 with value: 0.7789788632836843.\n",
      "c:\\Users\\u1\\AppData\\Local\\Programs\\Python\\Python39\\lib\\site-packages\\sklearn\\linear_model\\_sag.py:350: ConvergenceWarning: The max_iter was reached which means the coef_ did not converge\n",
      "  warnings.warn(\n",
      "[I 2023-08-21 17:27:48,448] Trial 12 finished with value: 0.7730656691622262 and parameters: {'C': 0.9539301135223306, 'penalty': 'l1', 'solver': 'saga'}. Best is trial 6 with value: 0.7789788632836843.\n",
      "[I 2023-08-21 17:27:50,259] Trial 13 finished with value: 0.7758329540285054 and parameters: {'C': 0.19776220384830523, 'penalty': 'l1', 'solver': 'liblinear'}. Best is trial 6 with value: 0.7789788632836843.\n",
      "[I 2023-08-21 17:27:50,274] Trial 14 finished with value: 0.0 and parameters: {'C': 0.18843530397670544, 'penalty': 'l1', 'solver': 'sag'}. Best is trial 6 with value: 0.7789788632836843.\n",
      "[I 2023-08-21 17:27:50,274] Trial 15 finished with value: 0.0 and parameters: {'C': 0.20838113061892236, 'penalty': None, 'solver': 'liblinear'}. Best is trial 6 with value: 0.7789788632836843.\n",
      "[I 2023-08-21 17:27:50,306] Trial 16 finished with value: 0.0 and parameters: {'C': 0.19129393915114673, 'penalty': 'l1', 'solver': 'lbfgs'}. Best is trial 6 with value: 0.7789788632836843.\n",
      "[I 2023-08-21 17:29:07,290] Trial 17 finished with value: 0.7718714937115476 and parameters: {'C': 0.10108012255950002, 'penalty': 'l1', 'solver': 'saga'}. Best is trial 6 with value: 0.7789788632836843.\n",
      "[I 2023-08-21 17:31:11,668] Trial 18 finished with value: 0.7660758586828943 and parameters: {'C': 0.2959685520273888, 'penalty': 'l2', 'solver': 'sag'}. Best is trial 6 with value: 0.7789788632836843.\n",
      "[I 2023-08-21 17:31:11,684] Trial 19 finished with value: 0.0 and parameters: {'C': 0.10966553427970266, 'penalty': None, 'solver': 'liblinear'}. Best is trial 6 with value: 0.7789788632836843.\n"
     ]
    },
    {
     "name": "stdout",
     "output_type": "stream",
     "text": [
      "Best parameters: {'C': 0.11620784192551668, 'penalty': 'l2', 'solver': 'sag'}\n",
      "f1_score на обучающем наборе: 0.85\n",
      "accuracy на тестовом наборе: 0.77\n",
      "f1_score на тестовом наборе: 0.79\n"
     ]
    }
   ],
   "source": [
    "study = optuna.create_study(study_name=\"LogisticRegression\", direction=\"maximize\")\n",
    "\n",
    "study.optimize(optuna_log, n_trials=20)\n",
    "print(\"Best parameters: {}\".format(study.best_params))\n",
    "\n",
    "model = linear_model.LogisticRegression(\n",
    "    **study.best_params,\n",
    "    max_iter = 1000,\n",
    "    random_state = random_state\n",
    "    )\n",
    "\n",
    "model.fit(X_train, y_train)\n",
    "y_train_pred = model.predict(X_train)\n",
    "print('f1_score на обучающем наборе: {:.2f}'.format(metrics.f1_score(y_train, y_train_pred)))\n",
    "\n",
    "print(\"accuracy на тестовом наборе: {:.2f}\".format(model.score(X_test, y_test)))\n",
    "y_test_pred = model.predict(X_test)\n",
    "print('f1_score на тестовом наборе: {:.2f}'.format(metrics.f1_score(y_test, y_test_pred)))"
   ]
  },
  {
   "cell_type": "markdown",
   "metadata": {},
   "source": [
    "**Случайный лес**"
   ]
  },
  {
   "cell_type": "code",
   "execution_count": 218,
   "metadata": {},
   "outputs": [],
   "source": [
    "def optuna_rf(trial):\n",
    "  # задаем пространства поиска гиперпараметров\n",
    "  n_estimators = trial.suggest_int('n_estimators', 100, 200, 1)\n",
    "  max_depth = trial.suggest_int('max_depth', 15, 26, 1)\n",
    "  min_samples_leaf = trial.suggest_int('min_samples_leaf', 2, 10, 1)\n",
    "\n",
    "  # создаем модель\n",
    "  model = ensemble.RandomForestClassifier(n_estimators=n_estimators,\n",
    "                                          max_depth=max_depth,\n",
    "                                          min_samples_leaf=min_samples_leaf,\n",
    "                                          random_state=random_state)\n",
    "  # обучаем модель\n",
    "  model.fit(X_train, y_train)\n",
    "  score = metrics.f1_score(y_train, model.predict(X_train))\n",
    "\n",
    "  return score"
   ]
  },
  {
   "cell_type": "code",
   "execution_count": 219,
   "metadata": {},
   "outputs": [
    {
     "name": "stderr",
     "output_type": "stream",
     "text": [
      "[I 2023-08-21 17:31:38,601] A new study created in memory with name: RandomForestClassifier\n"
     ]
    },
    {
     "name": "stderr",
     "output_type": "stream",
     "text": [
      "[I 2023-08-21 17:31:42,488] Trial 0 finished with value: 0.9121813031161473 and parameters: {'n_estimators': 173, 'max_depth': 24, 'min_samples_leaf': 8}. Best is trial 0 with value: 0.9121813031161473.\n",
      "[I 2023-08-21 17:31:45,357] Trial 1 finished with value: 0.8954802259887006 and parameters: {'n_estimators': 104, 'max_depth': 26, 'min_samples_leaf': 10}. Best is trial 0 with value: 0.9121813031161473.\n",
      "[I 2023-08-21 17:31:48,958] Trial 2 finished with value: 0.9466242488511841 and parameters: {'n_estimators': 147, 'max_depth': 15, 'min_samples_leaf': 4}. Best is trial 2 with value: 0.9466242488511841.\n",
      "[I 2023-08-21 17:31:52,792] Trial 3 finished with value: 0.9216034054629301 and parameters: {'n_estimators': 176, 'max_depth': 15, 'min_samples_leaf': 6}. Best is trial 2 with value: 0.9466242488511841.\n",
      "[I 2023-08-21 17:31:55,472] Trial 4 finished with value: 0.893210749646393 and parameters: {'n_estimators': 138, 'max_depth': 15, 'min_samples_leaf': 10}. Best is trial 2 with value: 0.9466242488511841.\n",
      "[I 2023-08-21 17:31:58,775] Trial 5 finished with value: 0.9090909090909092 and parameters: {'n_estimators': 144, 'max_depth': 26, 'min_samples_leaf': 9}. Best is trial 2 with value: 0.9466242488511841.\n",
      "[I 2023-08-21 17:32:02,598] Trial 6 finished with value: 0.9410518884574656 and parameters: {'n_estimators': 177, 'max_depth': 23, 'min_samples_leaf': 5}. Best is trial 2 with value: 0.9466242488511841.\n",
      "[I 2023-08-21 17:32:05,270] Trial 7 finished with value: 0.8952583156404812 and parameters: {'n_estimators': 151, 'max_depth': 16, 'min_samples_leaf': 10}. Best is trial 2 with value: 0.9466242488511841.\n",
      "[I 2023-08-21 17:32:08,018] Trial 8 finished with value: 0.9893465909090908 and parameters: {'n_estimators': 103, 'max_depth': 22, 'min_samples_leaf': 2}. Best is trial 8 with value: 0.9893465909090908.\n",
      "[I 2023-08-21 17:32:11,896] Trial 9 finished with value: 0.8934513274336282 and parameters: {'n_estimators': 182, 'max_depth': 15, 'min_samples_leaf': 10}. Best is trial 8 with value: 0.9893465909090908.\n",
      "[I 2023-08-21 17:32:14,533] Trial 10 finished with value: 0.9879347054648687 and parameters: {'n_estimators': 101, 'max_depth': 19, 'min_samples_leaf': 2}. Best is trial 8 with value: 0.9893465909090908.\n",
      "[I 2023-08-21 17:32:17,830] Trial 11 finished with value: 0.9882937211777226 and parameters: {'n_estimators': 103, 'max_depth': 19, 'min_samples_leaf': 2}. Best is trial 8 with value: 0.9893465909090908.\n",
      "[I 2023-08-21 17:32:20,973] Trial 12 finished with value: 0.9889953851615194 and parameters: {'n_estimators': 118, 'max_depth': 20, 'min_samples_leaf': 2}. Best is trial 8 with value: 0.9893465909090908.\n",
      "[I 2023-08-21 17:32:23,902] Trial 13 finished with value: 0.9704731412308787 and parameters: {'n_estimators': 123, 'max_depth': 21, 'min_samples_leaf': 3}. Best is trial 8 with value: 0.9893465909090908.\n",
      "[I 2023-08-21 17:32:26,777] Trial 14 finished with value: 0.9536611248673506 and parameters: {'n_estimators': 122, 'max_depth': 21, 'min_samples_leaf': 4}. Best is trial 8 with value: 0.9893465909090908.\n",
      "[I 2023-08-21 17:32:30,793] Trial 15 finished with value: 0.9687721788502485 and parameters: {'n_estimators': 120, 'max_depth': 19, 'min_samples_leaf': 3}. Best is trial 8 with value: 0.9893465909090908.\n",
      "[I 2023-08-21 17:32:33,859] Trial 16 finished with value: 0.9207360226468507 and parameters: {'n_estimators': 114, 'max_depth': 22, 'min_samples_leaf': 7}. Best is trial 8 with value: 0.9893465909090908.\n",
      "[I 2023-08-21 17:32:37,782] Trial 17 finished with value: 0.9850852272727272 and parameters: {'n_estimators': 132, 'max_depth': 17, 'min_samples_leaf': 2}. Best is trial 8 with value: 0.9893465909090908.\n",
      "[I 2023-08-21 17:32:43,564] Trial 18 finished with value: 0.9542715349166961 and parameters: {'n_estimators': 198, 'max_depth': 24, 'min_samples_leaf': 4}. Best is trial 8 with value: 0.9893465909090908.\n",
      "[I 2023-08-21 17:32:46,869] Trial 19 finished with value: 0.9286723163841807 and parameters: {'n_estimators': 161, 'max_depth': 18, 'min_samples_leaf': 6}. Best is trial 8 with value: 0.9893465909090908.\n"
     ]
    },
    {
     "name": "stdout",
     "output_type": "stream",
     "text": [
      "CPU times: total: 1min 5s\n",
      "Wall time: 1min 8s\n"
     ]
    }
   ],
   "source": [
    "%%time\n",
    "# cоздаем объект исследования\n",
    "# можем напрямую указать, что нам необходимо максимизировать метрику direction=\"maximize\"\n",
    "study = optuna.create_study(study_name=\"RandomForestClassifier\", direction=\"maximize\")\n",
    "# ищем лучшую комбинацию гиперпараметров n_trials раз\n",
    "study.optimize(optuna_rf, n_trials=20)"
   ]
  },
  {
   "cell_type": "code",
   "execution_count": 220,
   "metadata": {},
   "outputs": [
    {
     "name": "stdout",
     "output_type": "stream",
     "text": [
      "Наилучшие значения гиперпараметров {'n_estimators': 103, 'max_depth': 22, 'min_samples_leaf': 2}\n",
      "f1_score на обучающем наборе: 0.99\n"
     ]
    }
   ],
   "source": [
    "# выводим результаты на обучающей выборке\n",
    "print(\"Наилучшие значения гиперпараметров {}\".format(study.best_params))\n",
    "print(\"f1_score на обучающем наборе: {:.2f}\".format(study.best_value))"
   ]
  },
  {
   "cell_type": "code",
   "execution_count": 221,
   "metadata": {},
   "outputs": [
    {
     "name": "stdout",
     "output_type": "stream",
     "text": [
      "accuracy на тестовом наборе: 0.79\n",
      "f1_score на тестовом наборе: 0.81\n"
     ]
    }
   ],
   "source": [
    "# рассчитаем точность для тестовой выборки\n",
    "model = ensemble.RandomForestClassifier(**study.best_params,random_state=random_state, )\n",
    "model.fit(X_train, y_train)\n",
    "y_train_pred = model.predict(X_train)\n",
    "print(\"accuracy на тестовом наборе: {:.2f}\".format(model.score(X_test, y_test)))\n",
    "y_test_pred = model.predict(X_test)\n",
    "print('f1_score на тестовом наборе: {:.2f}'.format(metrics.f1_score(y_test, y_test_pred)))"
   ]
  },
  {
   "cell_type": "markdown",
   "metadata": {},
   "source": [
    "**Вывод**  \n",
    "На модели Логистической регрессии затраченное время составило более 19 минут. Набор гиперпараметров 'C': 0.11620784192551668, 'penalty': 'l2', 'solver': 'sag'. А метрика f1 - те же 0,79.\n",
    "\n",
    "На модели случайного леса метрика составила 0,81. А затраченное время - чуть более минуты."
   ]
  },
  {
   "cell_type": "markdown",
   "metadata": {},
   "source": [
    "# **Общий вывод**  \n",
    "Модель случайного леса показала более высокие метрики во всех методах подбора гиперпараметров.\n",
    "\n",
    "В модели логистической регрессии, напротив, метрики везде одинаковые, и тут следует уделить внимание потраченному времени, особенно на слабых компьютерах.\n",
    "\n",
    "В модели случайного леса продвинутые методы оптимизации показали себя не с лучшей стороны в части максимальной метрики. Сплошной или случайный перебор оказался надежнее."
   ]
  }
 ],
 "metadata": {
  "kernelspec": {
   "display_name": "Python 3",
   "language": "python",
   "name": "python3"
  },
  "language_info": {
   "codemirror_mode": {
    "name": "ipython",
    "version": 3
   },
   "file_extension": ".py",
   "mimetype": "text/x-python",
   "name": "python",
   "nbconvert_exporter": "python",
   "pygments_lexer": "ipython3",
   "version": "3.9.10"
  },
  "orig_nbformat": 4
 },
 "nbformat": 4,
 "nbformat_minor": 2
}
