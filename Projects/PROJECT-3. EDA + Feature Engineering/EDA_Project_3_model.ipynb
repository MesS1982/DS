{
 "cells": [
  {
   "cell_type": "code",
   "execution_count": 1,
   "metadata": {},
   "outputs": [],
   "source": [
    "import pandas as pd"
   ]
  },
  {
   "cell_type": "code",
   "execution_count": 43,
   "metadata": {},
   "outputs": [
    {
     "name": "stdout",
     "output_type": "stream",
     "text": [
      "<class 'pandas.core.frame.DataFrame'>\n",
      "RangeIndex: 386803 entries, 0 to 386802\n",
      "Data columns (total 17 columns):\n",
      " #   Column                                      Non-Null Count   Dtype  \n",
      "---  ------                                      --------------   -----  \n",
      " 0   hotel_address                               386803 non-null  object \n",
      " 1   additional_number_of_scoring                386803 non-null  int64  \n",
      " 2   review_date                                 386803 non-null  object \n",
      " 3   average_score                               386803 non-null  float64\n",
      " 4   hotel_name                                  386803 non-null  object \n",
      " 5   reviewer_nationality                        386803 non-null  object \n",
      " 6   negative_review                             386803 non-null  object \n",
      " 7   review_total_negative_word_counts           386803 non-null  int64  \n",
      " 8   total_number_of_reviews                     386803 non-null  int64  \n",
      " 9   positive_review                             386803 non-null  object \n",
      " 10  review_total_positive_word_counts           386803 non-null  int64  \n",
      " 11  total_number_of_reviews_reviewer_has_given  386803 non-null  int64  \n",
      " 12  reviewer_score                              386803 non-null  float64\n",
      " 13  tags                                        386803 non-null  object \n",
      " 14  days_since_review                           386803 non-null  object \n",
      " 15  lat                                         384355 non-null  float64\n",
      " 16  lng                                         384355 non-null  float64\n",
      "dtypes: float64(4), int64(5), object(8)\n",
      "memory usage: 50.2+ MB\n",
      "None\n"
     ]
    },
    {
     "data": {
      "text/html": [
       "<div>\n",
       "<style scoped>\n",
       "    .dataframe tbody tr th:only-of-type {\n",
       "        vertical-align: middle;\n",
       "    }\n",
       "\n",
       "    .dataframe tbody tr th {\n",
       "        vertical-align: top;\n",
       "    }\n",
       "\n",
       "    .dataframe thead th {\n",
       "        text-align: right;\n",
       "    }\n",
       "</style>\n",
       "<table border=\"1\" class=\"dataframe\">\n",
       "  <thead>\n",
       "    <tr style=\"text-align: right;\">\n",
       "      <th></th>\n",
       "      <th>hotel_address</th>\n",
       "      <th>additional_number_of_scoring</th>\n",
       "      <th>review_date</th>\n",
       "      <th>average_score</th>\n",
       "      <th>hotel_name</th>\n",
       "      <th>reviewer_nationality</th>\n",
       "      <th>negative_review</th>\n",
       "      <th>review_total_negative_word_counts</th>\n",
       "      <th>total_number_of_reviews</th>\n",
       "      <th>positive_review</th>\n",
       "      <th>review_total_positive_word_counts</th>\n",
       "      <th>total_number_of_reviews_reviewer_has_given</th>\n",
       "      <th>reviewer_score</th>\n",
       "      <th>tags</th>\n",
       "      <th>days_since_review</th>\n",
       "      <th>lat</th>\n",
       "      <th>lng</th>\n",
       "    </tr>\n",
       "  </thead>\n",
       "  <tbody>\n",
       "    <tr>\n",
       "      <th>0</th>\n",
       "      <td>Stratton Street Mayfair Westminster Borough Lo...</td>\n",
       "      <td>581</td>\n",
       "      <td>2/19/2016</td>\n",
       "      <td>8.4</td>\n",
       "      <td>The May Fair Hotel</td>\n",
       "      <td>United Kingdom</td>\n",
       "      <td>Leaving</td>\n",
       "      <td>3</td>\n",
       "      <td>1994</td>\n",
       "      <td>Staff were amazing</td>\n",
       "      <td>4</td>\n",
       "      <td>7</td>\n",
       "      <td>10.0</td>\n",
       "      <td>[' Leisure trip ', ' Couple ', ' Studio Suite ...</td>\n",
       "      <td>531 day</td>\n",
       "      <td>51.507894</td>\n",
       "      <td>-0.143671</td>\n",
       "    </tr>\n",
       "    <tr>\n",
       "      <th>1</th>\n",
       "      <td>130 134 Southampton Row Camden London WC1B 5AF...</td>\n",
       "      <td>299</td>\n",
       "      <td>1/12/2017</td>\n",
       "      <td>8.3</td>\n",
       "      <td>Mercure London Bloomsbury Hotel</td>\n",
       "      <td>United Kingdom</td>\n",
       "      <td>poor breakfast</td>\n",
       "      <td>3</td>\n",
       "      <td>1361</td>\n",
       "      <td>location</td>\n",
       "      <td>2</td>\n",
       "      <td>14</td>\n",
       "      <td>6.3</td>\n",
       "      <td>[' Business trip ', ' Couple ', ' Standard Dou...</td>\n",
       "      <td>203 day</td>\n",
       "      <td>51.521009</td>\n",
       "      <td>-0.123097</td>\n",
       "    </tr>\n",
       "    <tr>\n",
       "      <th>2</th>\n",
       "      <td>151 bis Rue de Rennes 6th arr 75006 Paris France</td>\n",
       "      <td>32</td>\n",
       "      <td>10/18/2016</td>\n",
       "      <td>8.9</td>\n",
       "      <td>Legend Saint Germain by Elegancia</td>\n",
       "      <td>China</td>\n",
       "      <td>No kettle in room</td>\n",
       "      <td>6</td>\n",
       "      <td>406</td>\n",
       "      <td>No Positive</td>\n",
       "      <td>0</td>\n",
       "      <td>14</td>\n",
       "      <td>7.5</td>\n",
       "      <td>[' Leisure trip ', ' Solo traveler ', ' Modern...</td>\n",
       "      <td>289 day</td>\n",
       "      <td>48.845377</td>\n",
       "      <td>2.325643</td>\n",
       "    </tr>\n",
       "    <tr>\n",
       "      <th>3</th>\n",
       "      <td>216 Avenue Jean Jaures 19th arr 75019 Paris Fr...</td>\n",
       "      <td>34</td>\n",
       "      <td>9/22/2015</td>\n",
       "      <td>7.5</td>\n",
       "      <td>Mercure Paris 19 Philharmonie La Villette</td>\n",
       "      <td>United Kingdom</td>\n",
       "      <td>No Negative</td>\n",
       "      <td>0</td>\n",
       "      <td>607</td>\n",
       "      <td>Friendly staff quiet comfortable room spotles...</td>\n",
       "      <td>11</td>\n",
       "      <td>8</td>\n",
       "      <td>10.0</td>\n",
       "      <td>[' Leisure trip ', ' Solo traveler ', ' Standa...</td>\n",
       "      <td>681 day</td>\n",
       "      <td>48.888697</td>\n",
       "      <td>2.394540</td>\n",
       "    </tr>\n",
       "    <tr>\n",
       "      <th>4</th>\n",
       "      <td>Molenwerf 1 1014 AG Amsterdam Netherlands</td>\n",
       "      <td>914</td>\n",
       "      <td>3/5/2016</td>\n",
       "      <td>8.5</td>\n",
       "      <td>Golden Tulip Amsterdam West</td>\n",
       "      <td>Poland</td>\n",
       "      <td>Torn sheets</td>\n",
       "      <td>4</td>\n",
       "      <td>7586</td>\n",
       "      <td>The staff was very friendly and helpful Break...</td>\n",
       "      <td>20</td>\n",
       "      <td>10</td>\n",
       "      <td>9.6</td>\n",
       "      <td>[' Business trip ', ' Couple ', ' Standard Dou...</td>\n",
       "      <td>516 day</td>\n",
       "      <td>52.385601</td>\n",
       "      <td>4.847060</td>\n",
       "    </tr>\n",
       "  </tbody>\n",
       "</table>\n",
       "</div>"
      ],
      "text/plain": [
       "                                       hotel_address  \\\n",
       "0  Stratton Street Mayfair Westminster Borough Lo...   \n",
       "1  130 134 Southampton Row Camden London WC1B 5AF...   \n",
       "2   151 bis Rue de Rennes 6th arr 75006 Paris France   \n",
       "3  216 Avenue Jean Jaures 19th arr 75019 Paris Fr...   \n",
       "4          Molenwerf 1 1014 AG Amsterdam Netherlands   \n",
       "\n",
       "   additional_number_of_scoring review_date  average_score  \\\n",
       "0                           581   2/19/2016            8.4   \n",
       "1                           299   1/12/2017            8.3   \n",
       "2                            32  10/18/2016            8.9   \n",
       "3                            34   9/22/2015            7.5   \n",
       "4                           914    3/5/2016            8.5   \n",
       "\n",
       "                                  hotel_name reviewer_nationality  \\\n",
       "0                         The May Fair Hotel      United Kingdom    \n",
       "1            Mercure London Bloomsbury Hotel      United Kingdom    \n",
       "2          Legend Saint Germain by Elegancia               China    \n",
       "3  Mercure Paris 19 Philharmonie La Villette      United Kingdom    \n",
       "4                Golden Tulip Amsterdam West              Poland    \n",
       "\n",
       "       negative_review  review_total_negative_word_counts  \\\n",
       "0             Leaving                                   3   \n",
       "1       poor breakfast                                  3   \n",
       "2   No kettle in room                                   6   \n",
       "3          No Negative                                  0   \n",
       "4         Torn sheets                                   4   \n",
       "\n",
       "   total_number_of_reviews                                    positive_review  \\\n",
       "0                     1994                                 Staff were amazing   \n",
       "1                     1361                                           location   \n",
       "2                      406                                        No Positive   \n",
       "3                      607   Friendly staff quiet comfortable room spotles...   \n",
       "4                     7586   The staff was very friendly and helpful Break...   \n",
       "\n",
       "   review_total_positive_word_counts  \\\n",
       "0                                  4   \n",
       "1                                  2   \n",
       "2                                  0   \n",
       "3                                 11   \n",
       "4                                 20   \n",
       "\n",
       "   total_number_of_reviews_reviewer_has_given  reviewer_score  \\\n",
       "0                                           7            10.0   \n",
       "1                                          14             6.3   \n",
       "2                                          14             7.5   \n",
       "3                                           8            10.0   \n",
       "4                                          10             9.6   \n",
       "\n",
       "                                                tags days_since_review  \\\n",
       "0  [' Leisure trip ', ' Couple ', ' Studio Suite ...           531 day   \n",
       "1  [' Business trip ', ' Couple ', ' Standard Dou...           203 day   \n",
       "2  [' Leisure trip ', ' Solo traveler ', ' Modern...           289 day   \n",
       "3  [' Leisure trip ', ' Solo traveler ', ' Standa...           681 day   \n",
       "4  [' Business trip ', ' Couple ', ' Standard Dou...           516 day   \n",
       "\n",
       "         lat       lng  \n",
       "0  51.507894 -0.143671  \n",
       "1  51.521009 -0.123097  \n",
       "2  48.845377  2.325643  \n",
       "3  48.888697  2.394540  \n",
       "4  52.385601  4.847060  "
      ]
     },
     "execution_count": 43,
     "metadata": {},
     "output_type": "execute_result"
    }
   ],
   "source": [
    "hotels = pd.read_csv('data\\hotels.csv')\n",
    "print(hotels.info())\n",
    "hotels.head()"
   ]
  },
  {
   "cell_type": "code",
   "execution_count": 44,
   "metadata": {},
   "outputs": [
    {
     "data": {
      "text/plain": [
       "1492"
      ]
     },
     "execution_count": 44,
     "metadata": {},
     "output_type": "execute_result"
    }
   ],
   "source": [
    "hotels['hotel_name'].nunique()"
   ]
  },
  {
   "cell_type": "code",
   "execution_count": 47,
   "metadata": {},
   "outputs": [
    {
     "name": "stdout",
     "output_type": "stream",
     "text": [
      "2015-08-04 00:00:00\n",
      "2017-08-03 00:00:00\n"
     ]
    }
   ],
   "source": [
    "hotels['review_date'] = pd.to_datetime(hotels['review_date'])\n",
    "print(hotels['review_date'].min())\n",
    "print(hotels['review_date'].max())"
   ]
  },
  {
   "cell_type": "code",
   "execution_count": 55,
   "metadata": {},
   "outputs": [
    {
     "data": {
      "text/plain": [
       "\"[' Business trip ', ' Solo traveler ', ' Standard Double or Twin Room ', ' Stayed 1 night ']\""
      ]
     },
     "execution_count": 55,
     "metadata": {},
     "output_type": "execute_result"
    }
   ],
   "source": [
    "hotels['tags'].iloc[10]"
   ]
  },
  {
   "cell_type": "code",
   "execution_count": 76,
   "metadata": {},
   "outputs": [
    {
     "name": "stdout",
     "output_type": "stream",
     "text": [
      "Количество тегов:  2368\n"
     ]
    }
   ],
   "source": [
    "tags = set()\n",
    "for i in range(0, hotels.shape[0]):\n",
    "    lst = hotels['tags'].iloc[i]\n",
    "    lst = lst.replace(\"[' \", \"\").replace(\" '\", \"\").replace(\" ' \", \"\"). replace(\"]\", \"\").replace(', ', ',')\n",
    "    lst = lst.split(',')\n",
    "    # print(lst)\n",
    "    for t in lst:\n",
    "        tags.add(t)\n",
    "print('Количество тегов: ', len(tags))"
   ]
  },
  {
   "cell_type": "code",
   "execution_count": 84,
   "metadata": {},
   "outputs": [
    {
     "name": "stdout",
     "output_type": "stream",
     "text": [
      "[('Leisure trip', 313593), ('Submitted from a mobile device', 230778), ('Couple', 189212), ('Stayed 1 night', 145373), ('Stayed 2 nights', 100263), ('Solo traveler', 81235), ('Stayed 3 nights', 72000), ('Business trip', 61989), ('Group', 49088), ('Family with young children', 45836), ('Stayed 4 nights', 35748), ('Double Room', 26386), ('Standard Double Room', 24151), ('Superior Double Room', 23550), ('Family with older children', 19802), ('Deluxe Double Room', 18623), ('Double or Twin Room', 16824), ('Stayed 5 nights', 15611), ('Standard Double or Twin Room', 13062), ('Classic Double Room', 12716), ('Superior Double or Twin Room', 10238), ('2 rooms', 9287), ('Stayed 6 nights', 7399), ('Standard Twin Room', 7325), ('Single Room', 7227), ('Twin Room', 6279), ('Stayed 7 nights', 5549), ('Executive Double Room', 4763), ('Classic Double or Twin Room', 4576), ('Superior Twin Room', 4540), ('Club Double Room', 4485), ('Deluxe Double or Twin Room', 4465), ('Queen Room', 4071), ('Deluxe King Room', 3993), ('Superior Queen Room', 3686), ('Standard Single Room', 3470), ('Junior Suite', 3392), ('Triple Room', 3385), ('Classic Room', 3322), ('Superior Room', 3292), ('Superior King Room', 3208), ('Standard Room', 3171), ('Deluxe Room', 2956), ('Double Guest Room', 2629), ('Standard Queen Room', 2611), ('Deluxe Single Room', 2469), ('Small Double Room', 2373), ('Queen Guest Room', 2355), ('Deluxe Twin Room', 2309), ('King Room', 2135), ('Basic Double Room', 2125), ('Comfort Double Room', 2005), ('Executive King Room', 1962), ('Stayed 8 nights', 1910), ('Small Queen Room', 1890), ('Comfort Double or Twin Room', 1832), ('Double or Twin Room 1 2 Adults', 1812), ('Standard Double Room without Window', 1808), ('Classic Twin Room', 1798), ('Family Room', 1651), ('Twin Guest Room', 1643), ('Travelers with friends', 1630), ('Suite', 1404), ('Superior King or Twin Room', 1331), ('Deluxe King or Twin Room', 1234), ('Deluxe Double', 1232), ('King Guest Room', 1202), ('Cosy Double Room', 1191), ('Executive Double or Twin Room', 1061), ('Standard Double Twin Room', 1060), ('With a pet', 1045), ('Club Twin Room', 1039), ('Standard Triple Room', 1022), ('Double Hilton Guestroom', 1001), ('Double Room Non Smoking', 977), ('Classic King Room', 977), ('Stayed 9 nights', 966), ('Executive Room', 940), ('Standard', 934), ('Economy Double Room', 880), ('Quadruple Room', 873), ('Large Double Room', 867), ('Superior Single Room', 846), ('Executive Twin Room', 825), ('Luxury Double Room', 824), ('Superior Double Room with Internal View', 821), ('Double Room with Two Double Beds', 816), ('Classic Single Room', 803), ('Dorsett Double Room', 787), ('Premier Double Room', 765), ('Studio', 728), ('Superior Double or Twin Room 1 2 Adults', 723), ('Twin Hilton Guest Room', 711), ('Family Room 2 Adults 2 Children', 699), ('Compact Double Room', 685), ('Standard Room with 1 Double Bed', 677), ('City King or Twin Room', 676), ('Studio King Family', 664), ('Stayed 10 nights', 663), ('Classic Queen Room', 591), ('Deluxe Queen Room', 566), ('City King Room', 551), ('Queen or Two Double Beds Room', 549), ('Standard Double', 547), ('Superior Triple Room', 546), ('Deluxe Triple Room', 544), ('Comfort Room', 544), ('Studio Suite', 543), ('Queen Room Non Smoking', 526), ('Premium Double or Twin Room', 526), ('Superior Twin Room with Internal View', 518), ('Twin Room Non Smoking', 509), ('King Hilton Guest Room', 490), ('One Bedroom Suite', 489), ('Double Room 1 Adult', 483), ('Double Room with View', 478), ('Art King Room', 467), ('Executive King Room with Lounge Access', 452), ('Standard King Room', 450), ('Premium Double Room', 449), ('Deluxe Room Barlow Wing', 446), ('Double Room with Courtyard View', 442), ('Deluxe King Room with River View', 414), ('Studio Double Family', 395), ('Double or Twin Room Non Smoking', 394), ('Double Room 1 2 Adults', 393), ('Queen Room Mobility Access', 390), ('City Twin Room', 379), ('3 rooms', 360), ('Double Room with Sofa Bed', 358), ('Cosy Single Room', 356), ('Standard Double Room No Window', 348), ('Room Selected at Check In', 321), ('Business Double or Twin Room', 321), ('Superior Shard King', 308), ('Stayed 11 nights', 306), ('Comfort Triple Room', 304), ('Deluxe King Room Balcony with Eiffel Tower View', 303), ('Superior Double Room Disability Access', 300), ('Double or Twin Room with Spa Access', 296), ('Double Deluxe Room', 290), ('Deluxe King Room with City View', 289), ('Double Room with Spa Bath', 288), ('Superior Room with 2 Single Beds', 288), ('Double Room with Terrace', 285), ('Deluxe with Two Double Beds', 280), ('Deluxe King Room with Stadium View', 279), ('Club Single Room', 278), ('Standard Double Room with Bridge View', 271), ('Double or Twin Ground Floor', 270), ('Standard Room with 1 Single Bed', 268), ('One Bedroom Apartment', 264), ('Queen Room with Mobility Access', 259), ('Deluxe One Bedroom Apartment', 258), ('Deluxe Double Room with Two Double Beds', 252), ('Double Room with City View', 251), ('Double Room with Single Bed', 251), ('Basic Single Room', 241), ('Duplex Double Room', 234), ('Luxury Room', 233), ('Small Single Room', 233), ('Large Twin Room', 231), ('Standard Room with Queen Bed', 231), ('Executive Family Room', 231), ('Comfort Twin Double Room', 231), ('Standard Room with Spa access', 227), ('Deluxe Double or Twin Room with Canal View', 226), ('Deluxe Double Room 1 2 Adults', 225), ('Superior Double Twin Room', 225), ('Double Room with Sofa Bed Non Smoking', 224), ('Luxury Suite', 224), ('Standard Room with 2 Single Beds', 223), ('Superior Double Room with City View', 222), ('Queen Hilton Guest Room', 221), ('Stayed 12 nights', 217), ('Superior Double or Twin Room with View', 216), ('Executive Double Room River View', 214), ('Wonderful Double or Twin Room', 214), ('Standard Room 1 2 adults', 210), ('Special Offer Double Room', 210), ('Superior', 209), ('Double Room with Balcony', 209), ('Superior Room with Queen size bed and Sofa Bed', 205), ('Double Studio', 204), ('Standard Quadruple Room', 204), ('Classic Triple Room', 204), ('Superior Deluxe Room', 202), ('Classic Double or Twin Room with Spa Access', 202), ('Queen Guest Room with Sofa Bed', 200), ('Deluxe Double and Single Room', 200), ('Superior Double Room with Terrace', 198), ('Business Double Room', 197), ('Deluxe King Room with Balcony', 194), ('Superior Room with Queensize Bed and double couch 2 adults 2 children', 193), ('Double Room with Street View', 193), ('Double or Twin Room with City View', 192), ('Double Hilton Deluxe Room', 188), ('Double or Twin Room with Courtyard View', 185), ('Double or Twin Room with Terrace', 185), ('Stayed 14 nights', 184), ('Deluxe Double Room with View', 179), ('Superior Double or Twin Room with Terrace', 179), ('Superior Double', 177), ('Standard Family Room', 177), ('Quality Double or Twin Room', 176), ('Privilege Double Room', 175), ('Stayed 13 nights', 174), ('Double or Twin Room with View', 174), ('King Double Room', 173), ('Camper Room', 173), ('Double or Twin Room with Extra Bed', 173), ('King Double or Twin Room', 173), ('Studio Triple', 172), ('Superior Room with Queen Bed Sofa', 172), ('Large Room', 171), ('Deluxe King with Balcony', 170), ('Superior King Room Barlow Wing', 169), ('Triple Room 2 Adults 1 Child', 168), ('Standard Double or Twin Room with Balcony', 168), ('Double Room with Eiffel Tower View', 165), ('Wonderful Room', 164), ('Prestige Double Room', 164), ('Standard Suite', 164), ('Junior Double Room', 163), ('Double Room with Public Transport Ticket', 163), ('Studio King', 161), ('Chelsea Double Suite', 161), ('Studio Double Room', 157), ('Classic Room with Courtyard View', 156), ('Executive Single Room', 156), ('Special Offer Queen Room', 156), ('Cabin Single Room', 154), ('Double or Twin Room with Balcony', 152), ('Family Suite', 152), ('Double Room with Extra Bed', 150), ('Executive Suite', 149), ('Urban Double or Twin Room', 147), ('Superior Double Room with Spa Access', 147), ('Double Suite', 146), ('Superior Double Room with Balcony', 143), ('Junior Suite 2 Adults', 143), ('Deluxe Guest Room', 143), ('Superior Suite with 1 Double Bed and 1 Single Bed', 143), ('Dalston King', 142), ('Family Room 3 Adults', 140), ('Executive Queen Room with Lounge Access', 139), ('Economy Twin Room', 139), ('Club Room', 138), ('Premier King Room with City View', 138), ('Superior Room with Spa access', 137), ('Queen Double Room', 136), ('Double Room Annex', 136), ('Single Room with Shower', 135), ('Two Bedroom Apartment', 133), ('Double Room 2 Adults', 133), ('Superior King Room with Sofa Bed', 133), ('Family Room 4 Adults', 132), ('Standard Twin Room with Bridge View', 132), ('Superior Room with 1 Queen Bed', 131), ('Superior Queen Room with Sofa', 131), ('Deluxe Studio', 130), ('Double Room Disability Access', 129), ('Large Comfort Double or Twin Room', 129), ('Double or Twin Room with Sea View', 128), ('Family Room with sofa bed', 127), ('Comfort Twin Room', 127), ('Superior Double Room with Two Double Beds', 126), ('Grand Deluxe Double or Twin Room', 124), ('Two Connecting Double Rooms', 123), ('Deluxe Suite', 122), ('Superior King Room Eiffel Tower View', 122), ('Executive Studio', 122), ('Classic Double or Twin Room with City View', 121), ('Signature Luxury King with Balcony', 120), ('Deluxe Double or Twin Room with City View', 119), ('Queen Hilton Superior Room', 118), ('Queen Room with Sofa Bed', 116), ('Family Junior Suite 3 Adults 1 Child', 116), ('Superior Family Room', 115), ('Deluxe Family Room', 115), ('Superior Studio with City View', 115), ('Standard Double Room with View Terrace', 113), ('Executive Studio Suite', 113), ('Twin Room Disability Access', 112), ('City Room', 112), ('Deluxe Junior Suite', 112), ('Deluxe Double Studio', 111), ('Executive Club Double Room', 111), ('Souterraine Double or Twin Room', 110), ('Two Connecting Rooms', 110), ('Premier Single Room', 110), ('Classic King Twin Room', 109), ('Superior Twin Room Barlow Wing', 109), ('Deluxe Double or Twin Room 1 2 Adults', 109), ('Club King Room', 109), ('Superior Room with Queen Bed', 108), ('Standard Room with Double Bed and Sofa Bed', 107), ('Room with Ramblas View', 107), ('Standard Queen Room with Sofa Bed', 107), ('Executive Studio City View Family', 105), ('River View Deluxe', 104), ('Double Room with River View', 104), ('Economy Single Room', 104), ('Nhow Double or Twin Room', 104), ('King Deluxe Guest Room', 103), ('Superior Double Room with 1 Double Bed and 1 Sofa Bed 2 places', 103), ('Executive Triple Room', 103), ('King Room Non Smoking', 103), ('Special Offer Superior Double Room', 102), ('Junior Suite with Spa Access', 102), ('Deluxe One Bedroom Suite', 102), ('Superior Queen Suite with Sofa Bed', 101), ('Twin Deluxe Room', 100), ('Family Room 2 Adults 1 Child', 100), ('Comfort Double or Twin Room 1 2 Adults', 100), ('Compact Double Room with Private Bathroom', 100), ('Deluxe Double Room with River View', 100), ('Standard Double Room with Park View', 99), ('Classic Double or Twin Room 1 2 Adults', 99), ('Apartment', 99), ('One Room Suite with Kitchenette', 99), ('Privilege Room with a double bed upper floors', 99), ('Standard Double Room with Two Single Beds', 98), ('Deluxe Room with Two Double Beds', 97), ('Classic Double or Single Room', 97), ('Premier Twin Room', 96), ('Souterrain Double Room', 96), ('Single Room Annex', 96), ('Double Room Free Wi Fi', 95), ('Superior Plus Double Room', 94), ('Superior Room with 1 kingsize bed', 94), ('Deluxe Double Room with Terrace', 94), ('Discovery Double Room', 93), ('Deluxe Double Room with State Opera View', 93), ('Comfort Double or Twin Room Non Smoking', 92), ('Deluxe Double Room with City View', 92), ('Queen Bed Leisure', 91), ('Standard Room for 1 or 2 people with Kitchenette', 91), ('Junior Suite 1 2 Adults', 91), ('Deluxe Double or Twin Room 2 adults 1 child', 90), ('Deluxe Queen Room with River View', 90), ('Duplex Room', 90), ('Queen Room Upper Floors', 88), ('King Executive Room with Lounge Access', 88), ('Comfort Single Room', 87), ('Stayed 15 nights', 87), ('Double Room Curieuse', 87), ('Single Room with Double Bed', 86), ('Queen Guestroom', 85), ('Twin Superior Room', 85), ('Executive Double Room with Whirlpool', 85), ('Special Offer Double or Twin Room', 85), ('Double Room Cosy', 85), ('Standard Guest Room', 84), ('Superior Double Room with free unlimited WIFI', 84), ('Mini Room', 84), ('Twin Room with Spa Bath', 84), ('Superior Room with Queensize Bed and Single Sofa Bed', 84), ('Superior Double Bedroom', 84), ('Club Double or Twin Room', 83), ('Cozy Double or Twin Room', 83), ('Superior Double or Twin Room with Free Wifi', 83), ('Maisonette', 82), ('Standard Room with Queensize bed and Single Sofa Bed', 82), ('Deluxe Double Room with Spa Bath', 82), ('Executive Room with City View', 82), ('Classic Guest room 1 King or 2 Twin Single Bed s', 82), ('Small Double or Twin Room', 82), ('Executive Twin Room with Lounge Access', 82), ('King Deluxe Room', 81), ('Triple Family Guestroom', 81), ('Marina Double Suite', 81), ('Executive Studio City View', 81), ('Accessible Queen Guest Room', 80), ('Double Queen Waterfront', 80), ('Executive Club Room', 79), ('Special Room', 79), ('Duplex Suite', 79), ('Junior Double', 78), ('Superior M Double Room', 78), ('Executive Queen Room', 78), ('Single Guest Room', 78), ('Fabulous Double or Twin Room', 78), ('Deluxe Double Room with Eiffel Tower view', 77), ('Family Room 4 guest', 77), ('Wonderful Exchange King', 77), ('Deluxe Single Room with View', 76), ('Superior Double Room with View', 76), ('Corner Suite', 76), ('King Room with Balcony', 76), ('Triple Hilton Family Room', 76), ('Andaz Double Room', 75), ('Deluxe Studio Suite', 75), ('Apartment 1 2 Adults', 75), ('Art Room with Iconic View', 74), ('Quality Single Room', 74), ('Duplex Junior Suite with Spa access', 74), ('Executive Double Room with Air Conditioning', 74), ('Garden King Room', 73), ('Luxury Four Poster', 73), ('Twin Room with Public Transport Ticket', 73), ('Superior Double or Twin Room with Spa Access', 73), ('Eiffel Tower View King Room', 73), ('King Guestroom', 73), ('Superior Double or Twin Room XL', 73), ('Superior Double Double', 72), ('Executive King Room Non Smoking', 72), ('Standard Room with 1 Double Bed and 1 Sofa Bed', 72), ('Superior Double or Twin Room with City View', 72), ('Double Family Guestroom', 71), ('Classic Double Room with Garden View', 71), ('Family Suite 2 Adults 2 Children', 71), ('Classic Room with Queen Bed', 71), ('Double Room with Garden View', 71), ('Superior Double Room with Queen size bed', 71), ('Superior Room with City View', 71), ('Superior Room with Spa Fitness Access', 70), ('Souterrain Comfort Room', 70), ('Superior Double Room with Balcony and City View', 69), ('Two Bedroom Suite', 69), ('Junior Triple Room', 69), ('Standard Apartment', 69), ('Business Class Room', 69), ('Junior Suite 3 Adults', 69), ('Standard Double or Twin Room with Extra bed 2 Adults 1 Child', 68), ('Executive Queen Room with Sofa', 68), ('Penthouse Suite with Terrace and City View', 68), ('Standard Studio', 68), ('Business Single Room', 68), ('Secret Double Room', 68), ('Standard Double Room with View', 68), ('Superior Queen Room with Single Sofa Bed', 68), ('Deluxe Room with Courtyard View', 68), ('Superior Room with 1 Queen Bed 1 Sofa Bed', 68), ('Superior Room with Double Bed and Sofa Bed', 67), ('Studio Room', 67), ('Deluxe Double or Twin Room with Terrace', 67), ('King Hilton Guestroom', 67), ('Executive Double', 67), ('Superior Room with View of Big Ben', 67), ('Executive Queen Room with Balcony', 67), ('X Ordinary Room', 66), ('Royal Mews View Classic Double', 66), ('Deluxe Double Room Canal View', 66), ('Design Double or Twin Room', 65), ('Superior Room with 1 Double Bed', 65), ('Standard Room with One Double Bed and Single Sofa Bed', 65), ('Superior Family Room 2 Adults 1 Child', 65), ('Family Room with Spa access', 65), ('Double Room Attic', 65), ('Standard Double Room with Queen Bed', 65), ('Classic Triple Room 3 Adults', 64), ('Luxury Family Room', 64), ('Privilege King Room', 64), ('Double Room Intemporelle', 64), ('Deluxe Double Room with Private Access to Pool and Spa', 63), ('Tradition Double Room', 63), ('Double Hilton Deluxe', 63), ('Queen Guest Room with River View', 62), ('Premier Room with Balcony', 62), ('penta Standard Room', 62), ('Classic Double Room Loge Classique', 61), ('Superior Plus Twin Room', 61), ('Double Room with French Bed', 61), ('Double Room with Private Bathroom', 61), ('Budget Single Room', 61), ('Premier King Room Barlow Wing', 60), ('Deluxe King Room with Water View', 60), ('Classique Double Room', 60), ('Twin Room 1 2 Adults', 60), ('Queen Deluxe Room', 59), ('Standard Double or Twin Room Annex Building', 59), ('Twin Hilton Deluxe Room', 59), ('King Superior Room', 58), ('Superior Deluxe Double or Twin Room', 58), ('Deluxe Double Twin Room', 58), ('Superior Queen Room with 2 Single Sofa Beds', 58), ('Quintuple Room', 58), ('Chelsea Twin Suite', 57), ('Superior Studio', 57), ('Superior Twin or Double Room', 57), ('Deluxe', 57), ('Classic Double Room with Breakfast', 57), ('One Bed Feature Room', 57), ('Deluxe Double Room 1 2 adults', 57), ('Queen or Twin Room', 56), ('Small Double Room Annex building', 56), ('Privilege Room', 56), ('Double Room with Free Airport Shuttle Service from 5 00am to 00 30am', 56), ('Family Superior Room', 56), ('Superior Twin Room with View', 55), ('Standard Double or Twin Room 1 2 Adults', 55), ('Luxury King Room', 55), ('Double or Twin Room with Extra Bed with Balcony', 55), ('Suite with Hot Tub', 55), ('Cozy Exchange King', 55), ('Superior Quadruple Room', 55), ('Double Room Medium', 54), ('Superior Double or Twin Room with Balcony', 54), ('Twin Room with Free Airport Shuttle Service from 5 00am to 00 30am', 54), ('Superior Queen Room with Double Sofa', 54), ('Single Hilton Guestroom', 54), ('Privilege Room with Double Bed', 54), ('Single Room with Private Bathroom', 54), ('Double or Twin Room 2 Adults', 53), ('Family Room with King Bed', 53), ('Treat your Partner Package Double Room', 53), ('Superior King', 52), ('Special Offer Executive Double Twin Room with Access to Nagomi Health', 52), ('Superior Queen Suite with Sofa', 52), ('Double Family Guest Room', 52), ('Queen Room with Eiffel Tower View', 52), ('Grand Deluxe King or Twin Room', 52), ('Montcalm Club Double Room', 52), ('Condal Double or Twin Room', 51), ('Superior Room with canal view', 51), ('Superior Room with Two Double Beds and Balcony', 51), ('Basic Double', 51), ('Executive King Room Non Smoking with Executive Lounge Access', 51), ('Luxury Double or Twin Room', 51), ('Deluxe Double Room Annex', 50), ('Economy Double or Twin Room', 50), ('Superior Double Room with Park View', 50), ('Standard Double or Twin Room with Balcony 1 Adult', 50), ('Executive King Room with Air Conditioning', 50), ('Deluxe Eiffel Tower King Room', 50), ('Standard Studio Suite', 50), ('Art Twin Room', 49), ('Special Offer Double Twin Room Stay and Park', 49), ('Double or Twin Room 1 or 2 adults', 49), ('Superior Double Room with Private Patio', 49), ('Standard Room with Spa Access', 49), ('Triple Studio', 49), ('Deluxe Double Room with Garden View', 49), ('Superior Twin Room with Two Double Beds', 49), ('Deluxe Double or Twin Room with Spa Access', 49), ('Aldwych Double Twin Room', 49), ('Large King Room', 48), ('Classic Family Room', 48), ('Classic Twin Room with Garden View', 48), ('Comfort Quadruple Room', 48), ('Double or Twin Room with Terrace and Spa Access', 48), ('Superior Family Room 2 Adults 2 Children', 48), ('Executive Junior Suite', 47), ('Superior Room with Queensize Bed and Single Sofa Bed 2 Adults 1 Child', 47), ('Double Room XL', 47), ('Luxury Room 1 Queensize Bed Twin bedded Room On Request', 47), ('Single Studio', 47), ('King Guest Room Wheelchair Accessible', 46), ('Standard Room with queen size bed and double sofa bed', 46), ('Deluxe King Room with Terrace', 46), ('Grand Superior King or Twin Room', 46), ('King City View Room', 46), ('Deluxe Double Room with Four Poster Bed', 46), ('Executive Double or Twin Room with Spa Access', 46), ('Standard Double or Twin Room Tea Time Wine Tasting Included', 46), ('King Room with River View', 45), ('Junior King Suite', 45), ('Hilton Deluxe King Room', 45), ('Delightful Queen Room', 45), ('Superior Twin Room with Extra Bed', 45), ('Executive Double Room with Lounge Access', 45), ('Comfort Double or Twin Room with Extra Bed', 45), ('Double or Twin Room with Extra Bed 3 Adults with Free Airport Shuttle Service from 5 00am to 00 30am', 45), ('Royal Room with Ramblas view', 45), ('Executive Room 2 adults 2 children', 45), ('Club Room with Club Lounge Access Free Wifi', 45), ('Executive Double Room with Two Double Beds with Lounge Access', 45), ('Super Deluxe Double Room', 44), ('Royal Mews View King Room', 44), ('Standard Queen or Twin Room Lower Ground Floor', 44), ('Twin Room 1 2 people', 44), ('Executive Premium Room with a Queen Bed', 44), ('Twin Room with Extra Bed', 44), ('Family Quadruple Room', 44), ('Small Twin Room', 44), ('Luxury Junior Suite', 44), ('Classic Double Room with free pool and hammam access', 44), ('Superior Double Room with Garden View', 44), ('Twin Hilton Guestroom', 44), ('Twin Deluxe Guest Room', 43), ('Large Penthouse Suite with Terrace and City View', 43), ('Queen Room with Sofa Bed Non Smoking', 43), ('Standard Double Room with Tea Time Included', 43), ('Deluxe Twin Room Balcony with Eiffel Tower View', 43), ('Superior Room Swimming Pool Hammam Access upon reservation', 43), ('Superior Double or Twin Room with Landmark View', 43), ('Superior Room with Queen Bed and Sofa', 43), ('Superior Suite with 1 Double Bed and 2 Single Beds', 43), ('Deluxe Contemporary Room', 43), ('Double or Twin Room with Extra Bed 3 Adults', 42), ('Executive Deluxe Studio Suite', 42), ('Deluxe Queen Room with View', 42), ('Panorama Double Room', 42), ('Superior Double Room with Free Access to Steam Bath', 42), ('Queen Room with Two Queen Beds 4 Adults', 42), ('Queen Hilton Deluxe', 42), ('Kings Junior Suite', 42), ('Classic Studio', 42), ('Suite Room', 42), ('One Bedroom Studio Suite', 42), ('Two Adjacent Rooms 6 persons', 42), ('Superior Queen Room with Courtyard Garden or City View', 42), ('King Hilton Plaza Room', 41), ('Executive Double Room with Spa Access', 41), ('Superior Studio Apartment', 41), ('Deluxe Club Double Room', 41), ('Small Single Room with Balcony', 41), ('Romantic Special Offer', 41), ('Junior Suite with Terrace', 41), ('Deluxe Twin Room with City View', 41), ('Deluxe Double with Winter Garden View', 41), ('Royal Suite with Canal View', 41), ('Superior Plus Room', 41), ('Superior Double Room Loge Sup rieure', 41), ('Park King', 41), ('Double Room Single Use', 41), ('Luxury Double Room Mezzanine', 41), ('Family Room Two Connecting Rooms', 41), ('Champagne Shopping package Double Room', 41), ('Superior Deluxe Double Room with Canal View', 41), ('Superior Deluxe Room with Spa Bath', 41), ('Superior Triple Room 3 Adults', 40), ('Large Triple Room', 40), ('Deluxe Double or Twin Room with Mountain View', 40), ('Single Room Lower Ground Floor', 40), ('Privilege Double Room 2 Adults 1 child', 40), ('King Hilton Waterfront', 40), ('Superior Room with 1 Queensize Bed and Double Sofa bed', 40), ('Double Room Insolite', 40), ('Premier Deluxe Double Room', 40), ('Montcalm Club Room', 40), ('Classic Double Room with Shower', 40), ('Hypoallergenic Double or Twin Room', 39), ('Family Studio', 39), ('Deluxe King Room with Club Lounge Access', 39), ('Loft', 39), ('Double Room Baronne', 39), ('Deluxe Double Room with Bath', 39), ('Double Room 1 Adult with Free Airport Shuttle Service from 5 00am to 00 30am', 39), ('Iconic King Room With City View', 39), ('Interior Double or Twin Room', 39), ('Standard Room Sopi', 38), ('Accessible Twin Room', 38), ('Executive King or Twin Room with Lounge Access', 38), ('Stayed 16 nights', 38), ('King Grand Premier Room', 38), ('Double Room City', 38), ('Superior Double or Twin Room with Terrace Spa acces', 38), ('Club SuperKing Room', 38), ('Interior Facing Double Room With Natural Light', 38), ('Standard King Room Non Smoking', 38), ('Double or Twin Room Allergy Free', 37), ('River Double Suite', 37), ('Superior Guest room 1 King or 2 Twin Single Bed s', 37), ('Premium Triple Room', 37), ('King Grand Deluxe Room', 37), ('Standard Room with 1 Kingsize Bed', 37), ('Penthouse Suite', 37), ('Premier Double or Twin Room', 37), ('Spare Room Double', 36), ('Tiny Single Room', 36), ('Comfort Double Room with Extra Bed', 36), ('Premium Double or Twin Room XL', 36), ('Queen Superior Room', 36), ('Business Apartment with Public Transport Ticket', 36), ('Double Room with Small Double Bed', 36), ('Comfort Double or Twin Room with Balcony', 36), ('Emperor Suite', 36), ('Master Bedroom Double', 36), ('Club Eiffel Tower King Room', 36), ('Special Offer Deluxe Room', 36), ('Superior Queen Room with Sofa Bed', 36), ('Standard Double or Twin Room with Extra Bed 3 Adults', 36), ('Classic Room with 2 double beds 2 Adults', 35), ('Weekend Offer Standard Studio', 35), ('Double or Twin Room with Bathroom', 35), ('Boudoir Double Room', 35), ('Superior Quadruple Room With Balcony', 35), ('Classic Cosy Room', 35), ('Triple Room with Spa Bath', 35), ('Double or Twin Room with Bath', 35), ('Classic Suite', 35), ('Chambers Junior Suite with Club Lounge Access', 35), ('Standard Double Room Disability Access', 35), ('Large Single Room', 35), ('Suite 3 Adults', 35), ('Premium Deluxe Double Room', 35), ('Standard Double Room with Sofa Bed 3 Adults', 35), ('Superior Two Bedroom Apartment', 35), ('Privilege Super King or Twin Room', 35), ('Privilege Room with 1 Double Bed', 35), ('Privilege Room with 1 Kingsize Bed', 34), ('Superior King Room with River View', 34), ('Studio Twin', 34), ('Double Superior Room', 34), ('Eiffel Tower View Twin Room', 34), ('Superior Twin Room with City View', 34), ('Duplex Suite with Spa Access', 34), ('Classic Double Room La Parisienne', 34), ('Superior Double Room with View Non Smoking', 34), ('Family Room with Balcony', 34), ('Eiffel Tower Junior Suite', 34), ('Superior Double or Twin Room with Balcony 1 Adult', 34), ('Luxury Twin Room', 34), ('Level Room with Executive Lounge Access', 34), ('Executive Double or Twin Room with No view', 34), ('Premier Shard King Room', 34), ('Superior Premium Queen Room', 33), ('King Room with Courtyard View', 33), ('Superior Double Room with Terrace and Private Pool', 33), ('Attach Suite', 33), ('Superior Junior Suite', 33), ('King or Twin Room with River View', 33), ('Two Adjoining Superior Suite', 33), ('Junior Suite with River View and Balcony', 33), ('Quality Double or Twin Room with Extra Bed', 33), ('Exclusive Double or Twin Room', 33), ('Suite with Spa Access 2 Adults', 33), ('Deluxe Double Room with Gallery View', 33), ('Twin Guestroom', 33), ('Luxury Suite Patio', 32), ('Twin Hilton Deluxe', 32), ('Comfort Double Room Courtyard Side', 32), ('Deluxe Double Room with City View and Balcony', 32), ('Exclusive Suite', 32), ('Deluxe Garden Room', 32), ('Superior Suite 2 Adults 2 Children', 32), ('Deluxe Double Room with Spa Access', 32), ('Privilege Double Room with Eiffel Tower View', 32), ('Luxury Room with Spa Access', 32), ('Executive Club Twin Room', 32), ('King Suite with Lounge Access', 32), ('Special Offer Princess Relax', 32), ('Double Room Disability Access Non Smoking', 31), ('Executive Double or Twin Room with Harbour View', 31), ('Double or Twin Room 1 Adult', 31), ('Deluxe Queen Room with Balcony', 31), ('Standard Room with Queen Bed and Sofa', 31), ('Luxury 1 Bed Suite', 31), ('Superior Twin Double Room', 31), ('Budget Double Room Second Floor', 31), ('Observatory King', 30), ('Executive Room with queen size bed and double sofa bed 2 adults 2 children', 30), ('Queen Room Disability Access Non Smoking', 30), ('Single Hilton Guest Room', 30), ('Superior Queen Room with Pool Access', 30), ('Classic Room with 1 Queen bed', 30), ('Canal View Superior Deluxe Room with Spa Bath', 30), ('Park Deluxe King', 30), ('Small Double Room Canal View', 30), ('Privilege Double or Twin Room', 30), ('Twin Room with Cathedral View', 30), ('Suite with Balcony', 29), ('Paseo de Gracia Double or Twin Room', 29), ('Intuition Room', 29), ('One Bedroom Suite with Kitchenette', 29), ('Studio 2 Adults', 29), ('Executive Double or Twin Room La Ravissante', 29), ('Twin Executive Room with Lounge Access', 29), ('Single Room with Shared Bathroom', 29), ('Privilege Room with King bed', 29), ('Deluxe Double Room without Window', 28), ('Camper Suite', 28), ('Executive Double Room Eiffel Studio D Artiste with view of Paris', 28), ('Twin Room with City View 1 2 Adults', 28), ('Grand Suite', 28), ('4 rooms', 28), ('Junior Suite with Extra Bed', 28), ('Double Executive Room with Lounge Access', 28), ('Family Room with King Bed and Sofa Bed', 28), ('King Suite', 28), ('Superior Double or Twin Room with Pool Spa Access', 28), ('Superior Double Room La S duisante', 28), ('Apartment for 3 to 4 People with Kitchenette', 27), ('Executive King Room with Executive Lounge Access', 27), ('Stayed 17 nights', 27), ('Standard Quad Room', 27), ('Double Room Lady Soul', 27), ('King Corner Room', 27), ('Queensgate Double Room', 27), ('Loft Suite', 27), ('Superior Double Room with Sofa Bed', 27), ('Standard Room with 1 Double Bed and 1 Double Sofa bed', 27), ('Twin Room with Private Bathroom', 27), ('Superior Double Room with Saint Germain des Pr s Church View', 27), ('Deluxe Double or Twin Room with Sea View', 27), ('Comfort Double or Twin Room for Single Use', 27), ('Deluxe Double Room with Balcony', 27), ('One Bedroom Suite with City View', 27), ('Junior Deluxe Double Room', 27), ('Comfort Double Room with Terrace', 27), ('Grand Deluxe Double Room', 27), ('Standard room with 1 queen bed and sofa', 27), ('Cosy Room', 27), ('Superior Room with 1 Double bed and Sofa 3 adults', 26), ('Duplex', 26), ('Deluxe Duplex Room', 26), ('Executive Room with Two Double Beds', 26), ('Premium King Room', 26), ('King Deluxe Room with Canal View', 26), ('Grande Suite', 26), ('Grand Deluxe Room', 26), ('Junior Suite with Executive Lounge Access', 26), ('Triple Room 3 Adults', 26), ('King Accessible Superior Room', 26), ('Garden Room', 26), ('Executive King Room with City View', 26), ('Spectacular Room', 26), ('Superior Double Twin Room with Free Parking', 26), ('Deluxe Double plus Single Bed', 26), ('Single Cabin Room', 26), ('Double Room GWR Tower', 26), ('Premium Double or Twin Room with View', 25), ('Superior Double or Twin Room with Extra Bed', 25), ('Twin Room with Courtyard View', 25), ('Family Apartment', 25), ('Classic Double or Twin Room with extra bed', 25), ('penta Plus Room', 25), ('Classic Double Room with View', 25), ('Spring Package Deluxe Double or Twin Room', 25), ('Luxury Double Room Small', 25), ('Apartment 4 Adults', 25), ('Double Double Room', 25), ('Duplex Twin Room', 25), ('Superior Double Room with Terrace and City View', 25), ('Double Room Marquise', 25), ('Deluxe L Double Room', 25), ('Junior Suite with Lounge Access', 25), ('Superior Room with 1 Queensize Bed Canal view', 25), ('Saint Honor Double Suite', 25), ('Twin Room with Extra Bed 3 Adults', 24), ('Standard Compact Double Room', 24), ('Superior Room with a shower or a bath', 24), ('One Bedroom King Suite with Sofa Bed', 24), ('Luxury Suite with whirlpool', 24), ('Executive Queen Room with Two Queen Beds with lounge Access', 24), ('Double Room Crash Pad Under 30s', 24), ('Stayed 18 nights', 24), ('Superior Triple Room XL', 24), ('Deluxe Double Room with Courtyard View', 24), ('Garden View King', 24), ('Executive Double Room with Double Bed and Sofa Bed', 24), ('Family Two Bedroom Suite', 24), ('Superior Double or Twin Room with Canal View', 24), ('Suite with City View', 24), ('Budget Double Room', 24), ('Superior Queen Suite with Sofa Bed 2 Adults', 24), ('Superior Capucines Room', 24), ('Standard Double Room with Sea View', 23), ('Stayed 19 nights', 23), ('Apartment 3 Adults', 23), ('Double Room L', 23), ('Standard Double or Twin with view', 23), ('Deluxe Barcelona city View', 23), ('Sextuple Room', 23), ('Small Double Room without Window', 23), ('Residence Suite', 23), ('Premier Double or Twin Room with Extra Bed', 23), ('Superior Suite', 23), ('Triple Room with Spa Access', 23), ('Special Offer Only For Cruise Passengers', 23), ('Executive Room with 1 Queen bed', 23), ('Executive King Room with Panoramic View', 23), ('Comfort King or Twin Room', 23), ('Superior Duplex Room', 23), ('Traditional Double Room', 23), ('Executive Room with Canal View', 23), ('Superior Suite Junior', 23), ('Deluxe Family Room with 1 Double and 2 Single Beds 4 Adults', 22), ('Economy Single Room basement no window', 22), ('Premier Twin Room with City View', 22), ('Comfort Double or Twin Room with Rambla View', 22), ('Corner Double Room', 22), ('Deluxe Room with view', 22), ('Double Room with Four Poster Bed', 22), ('Panorama Suite', 22), ('Junior Suite with Balcony', 22), ('Business Double Room with WiFi and Breakfast', 22), ('Family Queen Room', 22), ('Standard Guestroom', 22), ('Premium Double Room with Garden View', 22), ('Double Twin Superior Room', 21), ('Garden Twin Room', 21), ('Panoramic Room', 21), ('Elegance Double or Twin Room', 21), ('Imperial Club Double Room with access to the Club Lounge', 21), ('Delightful King Twin Room', 21), ('Deluxe Family Room with View', 21), ('Family Room 2 Adults 2 Children with Access to Nagomi Health', 21), ('Double Room Crash Pad', 21), ('Superior Premium Room with Queen Bed Sofa', 21), ('Executive Deluxe Room', 21), ('Canal View King', 21), ('Quadruple Room with Shower', 21), ('Small Double Room with Terrace', 21), ('Business Room', 21), ('Standard Room with Double Bed', 21), ('Top Deluxe Room', 21), ('One Bedroom Apartment with City View', 21), ('Double or Twin Room with Park View', 21), ('Junior Suite Double 1 2 Adults', 21), ('Suite with Terrace', 21), ('Wonderful Sky Room', 21), ('Classic Room with One Queen Bed', 21), ('Superior Double Room with Free Pool Access', 21), ('Interconnecting Double Rooms', 21), ('Prestige Suite', 21), ('Deluxe Double Room with Canal View', 21), ('Luxury Twin Room Solarium', 21), ('Privilege Double or Twin Room with Spa Access', 21), ('Superior Metropolitan Park Double Room', 21), ('Executive Double Room with Access to Executive Lounge', 21), ('Superior Room with 1 Double Bed and 1 Sofa Bed 3 Adults', 21), ('Queensgate Twin Room', 21), ('Double Room with Extra Bed 2 Adults 1 Child', 20), ('Budget Single Room Non Smoking', 20), ('Two Adjacent Classic Rooms', 20), ('Luxury Triple Room', 20), ('Deluxe Two Bedroom Apartment', 20), ('2 Adjacent Non Communicating Rooms', 20), ('Amiral Single Room', 20), ('Double Room for Single Use', 20), ('Junior Suite with City View', 20), ('Classic Junior Suite', 20), ('Superior King with Balcony', 20), ('King Room with View', 20), ('1 King Bed Guest Room', 20), ('Executive Suite with View', 20), ('Premium Double or Twin Room with Terrace and Spa Access', 20), ('Twin Suite', 20), ('Junior Deluxe Twin Room', 20), ('Standard Duplex Room 1 2 Adults', 20), ('Room with View', 20), ('Exclusive Double Room', 20), ('Superior Queen Room 2 adults', 20), ('Two Bedroom Suite with Two Bathrooms', 19), ('One Bedroom Queen Suite', 19), ('Family Room with View', 19), ('Deluxe King', 19), ('Superior Room with 1 Double Bed and 1 Sofa Bed 1 place', 19), ('Business Double Room with Courtyard View and Public Transport Ticket', 19), ('Stayed 21 nights', 19), ('Double Room with Shower', 19), ('Executive Room with River View', 19), ('King Cathedral View Room', 19), ('Triple Room Disability Access', 19), ('King Room with Sofa Bed and Balcony', 19), ('Comfort Room with Extra Bed', 19), ('Hyatt Queen Room', 19), ('Superior Room with 2 Double Beds', 19), ('Classic Designer', 19), ('King Premier Room', 19), ('Hyatt King Room', 19), ('Deluxe Double Room or Twin Room', 19), ('Deluxe Imperial Room', 19), ('Romantic Double Room', 19), ('Superior One Bedroom Apartment', 19), ('Superior Room Queen Bed', 19), ('Executive Family Room 2 Adults and 2 Children', 18), ('Premium Twin Room', 18), ('Deluxe Queen Guestroom', 18), ('Premium Superior Double Room', 18), ('Superior Deluxe Double Room', 18), ('Luxury King Room with River View', 18), ('Executive Double Room with City View', 18), ('King Size Double Room', 18), ('Room with Dock View Upper Deck', 18), ('Junior Suite with Spa Access Free Wifi', 18), ('Superior Double or Twin Room with Courtyard view', 18), ('Classic Double Room Les Pop', 18), ('Classic Double Room with Free Access to Hamman', 18), ('Deluxe Triple Room with View', 18), ('Cosy Twin Room', 18), ('King Junior Suite', 18), ('Club Double or Twin Room with Executive Lounge Access', 18), ('Superior Executive Room', 18), ('Studio Apartment', 18), ('Superior Room with Balcony with Spa Access', 18), ('Executive King or Twin Room', 18), ('Superior Double Room with Terrace and Cathedral View', 18), ('Classique Square', 18), ('City Garden Room', 18), ('Junior Suite with access to the Club Lounge', 18), ('King Room Mobility Accessible', 18), ('Family Executive Room 2 Adults 2 Children', 18), ('Classic Apartment', 18), ('Superior room with Queen bed and sofa', 18), ('Superior Twin Room with Park View', 18), ('Marina Suite with Canal View', 18), ('Classic Quadruple Room', 18), ('Queen Suite with Lounge Access', 18), ('Superior Suite 3 Adults 1 Child', 18), ('Souterrain Triple Room', 18), ('Room with Dock View Main Deck', 17), ('Double Deluxe Plus Room', 17), ('Superior Double Room with Sea View', 17), ('Luxury Quadruple Room', 17), ('King Junior Suite City View with Access to Executive Lounge', 17), ('Junior Suite with Private Pool', 17), ('Two Adjacent Double Rooms', 17), ('Deluxe King Guestroom', 17), ('Cool Corner Suite', 17), ('Director s Double Room', 17), ('Deluxe Twin Room 2 Adults', 17), ('Deluxe Room with City View', 17), ('Superior Double Room with Spa Access Free Wifi', 17), ('Chambers Grand Junior Suite with Club Lounge Access', 17), ('Duplex Apartment 6 Adults', 17), ('Deluxe with Garden', 17), ('Smart Double or Twin Room', 17), ('Double or Twin Room 2 Adult 1 Children', 17), ('Double Room with St Stephen s Cathedral View', 17), ('King Room Disability Access Non Smoking', 17), ('King Room Second Floor', 17), ('Superior Room Pigalle', 17), ('Prestige Double or Twin Room', 17), ('King Studio', 17), ('Club Queen Room', 17), ('Park Deluxe Twin', 17), ('Double Room with Extra Bed 2 Adults 1 Child with Ramblas View', 17), ('Superior Deluxe King or Double Room', 17), ('Double Room with Shared Bathroom', 17), ('REN Room Free Wifi', 17), ('Executive King Room with Sofa Bed Non Smoking', 17), ('Triple Room Free Wi Fi', 17), ('Privilege Twin King Room', 17), ('Gallery Suite', 17), ('Superior Double or Twin Room Non Smoking', 17), ('Stayed 20 nights', 17), ('Deluxe Room with Terrace', 17), ('Privilege Junior Suite with Spa Access', 16), ('2 Connecting Rooms 5 people', 16), ('Double Room with Mobile Phone', 16), ('Club King Room with Lounge Access', 16), ('Family Duplex Room', 16), ('Special Offer Twin Double Room Stay and Park', 16), ('Economy Plus Double Room', 16), ('Art Deco Double Room', 16), ('Mezzanine Suite', 16), ('Duplex Junior Suite', 16), ('Standard Double Room with Parking', 16), ('Deluxe Double or Twin Room 3 Adults', 16), ('Suite 2 Adults', 16), ('Andaz King Twin Room', 16), ('Executive Suite 2 Adults 2 Children', 16), ('Park Studio King', 16), ('Classic Twin View', 16), ('Premium Room 2 Adults', 16), ('Luxury Suite Superior', 16), ('Superior Room with Queensize Bed and single sofa bed 3 adults', 16), ('Small Double Room with Canal View', 16), ('Executive Double Room with Eiffel Tower View', 16), ('Junior Suite Executive', 16), ('Double or Twin Room Single Use', 16), ('Deluxe Room 2 Adults', 16), ('Large Deluxe Room', 16), ('Falconers Two Bedroom Suite', 16), ('Junior Suite with Private Pool Spa Access', 16), ('Suite with Duomo View', 16), ('Suite with St Stephen s Cathedral View', 16), ('Premium Double or Twin Room with View and Terrace', 16), ('Deluxe King Room with Canary Wharf View', 16), ('Corner Suite with Lounge Access', 16), ('City Twin Room with Surprise Package', 16), ('Embassy Suite', 16), ('Superior Suite with View', 16), ('Classic Room with Garden View', 16), ('Executive Suite with Balcony', 16), ('Standard Room With 2 Zip Beds', 16), ('Executive room with Executive lounge access Free Wifi', 15), ('Master Bedroom Suite', 15), ('Junior Suite Avenue', 15), ('Family Room Two connecting Rooms', 15), ('Comfort Double Room With Sacr Coeur View', 15), ('Economy Double Room basement no window', 15), ('Executive Double Room with Executive Lounge Access', 15), ('Prestige Family Room', 15), ('Hoxton Studio Suite', 15), ('Double Room with City View 1 2 Adults', 15), ('Superior Premium Room with Queen Bed and Sofa Bed', 15), ('Superior Double Room with Duomo View', 15), ('Deluxe Guest room 1 King or 2 Twin Single Bed s', 15), ('Superior Double or Twin Room Tea Time Wine Tasting Included', 15), ('Deluxe Quadruple Room', 15), ('Club Double Room with Lounge Access', 15), ('Executive Double Room Studio D Artiste', 15), ('Executive Suite 2 Adults', 15), ('Standard Room with 1 Queen Bed', 15), ('Deluxe Room 1 or 2 people', 15), ('Standard Double or Twin Room with View', 15), ('Classic Double Room with Courtyard View', 15), ('King Junior Suite with Lounge Access', 15), ('Twin Grand Deluxe Room', 15), ('Deluxe Apartment', 15), ('Mus e d Orsay Double Room', 15), ('Standard Double Room Pigalle 15', 15), ('Fabulous Exchange King', 15), ('Urban Junior Suite', 15), ('Magistrate King', 15), ('King Hilton Deluxe Room', 15), ('Junior Family Suite 2 Adults', 15), ('Deluxe Metropolitan City Double Room', 15), ('Superior Double or Twin Room with Parking', 14), ('Superior Double Room Single use', 14), ('River View Balcony Suite', 14), ('Luxury Double Room with Balcony', 14), ('Small Double Room with Extra Bed Annex building', 14), ('Comfort Single Room with Window and Double Bed', 14), ('Superior Double Studio', 14), ('Standard Triple Room with Queen Bed and Sofa Bed', 14), ('Luxury Room 2 Adults with canal view', 14), ('Queen Room with Balcony', 14), ('Accessible Twin Guest Room', 14), ('Junior Suite 1 3 Adults', 14), ('Nadler Deluxe Double Room', 14), ('Wonderful Double Room', 14), ('Suite 4 Adults', 14), ('Standard Double Room Single Use', 14), ('Standard Twin Room with Arc de Triomphe View', 14), ('Suite with Spa Access 1 Adult', 14), ('Deluxe Double or Twin Room with Landmark View', 14), ('Family 2 Connecting Rooms', 14), ('Room with River View Upper Deck', 14), ('Deluxe Double Room with 1 Extra Bed', 14), ('Superior Deluxe Double or Twin Room with Spa Access', 14), ('2 Adjacent Rooms', 14), ('Standard Double Studio', 14), ('Superior Double Room 1 2 Adults', 14), ('Twin Studio', 14), ('Luxury Double Room with Balcony and River View', 14), ('Queensgate Triple Room', 14), ('Deluxe Double or Twin Room with Balcony', 14), ('Superior Room queen size bed and double sofa bed', 14), ('Fabulous Room', 14), ('Single Room with Courtyard View', 14), ('Montcalm Club Twin Room', 14), ('Business Double Room Ground Floor', 14), ('Marina Twin Suite', 14), ('Privilege Room With View', 14), ('Junior Suite with Canal View', 14), ('Deluxe Triple Room with Tea Time Included', 14), ('2 Connecting Rooms 4 people', 14), ('Pasha Suite', 13), ('Club Room with Club Lounge Access', 13), ('Deluxe Double Room with Extra Bed', 13), ('Executive King Room with View', 13), ('Double Room with City View 1 Adult', 13), ('Standard Twin Room with Sofa', 13), ('Special Offer Twin Room', 13), ('Junior King Suite with View 2 Adults', 13), ('Deluxe King Plus', 13), ('Large Canal View King', 13), ('Executive Room Free Executive Lounge Access', 13), ('Classic Master Suite', 13), ('Executive Room with queen size bed and single sofa bed', 13), ('Double Room with Arc de Triomphe View a Glass of Champagne', 13), ('Trash City Suite', 13), ('Sensation Room', 13), ('Atrium', 13), ('Grand Executive King Room', 13), ('Superior Double Room with Sofa Bed 3 Adults', 13), ('Superior Premium Queen Room with Sofa Bed', 13), ('Superior King Room with Balcony', 13), ('Superior Twin Room with Eiffel Tower View', 13), ('Lower Ground Double Room', 13), ('Club Double Room with free Internet and Breakfast', 13), ('Luxury King Room 3 Adults', 13), ('Superior Pantheon Room', 13), ('Executive Queen Room with Lounge Access Mobility Access', 13), ('Principle Double', 13), ('Deluxe King Guestroom with view', 13), ('Single Room with Free Airport Shuttle Service from 5 00am to 00 30am', 13), ('Kube Double or Twin Room', 13), ('Club Deluxe Room', 13), ('Standard Room with Queen Bed Renovated', 13), ('Double Room Ground Floor', 12), ('Double Deluxe room with Roman Bath', 12), ('King Room with Executive lounge access', 12), ('Suite with Spa Access 3 Adults', 12), ('Double Room Relax', 12), ('Single Room Non Smoking', 12), ('Garden View Queen', 12), ('Hyatt King Room with View', 12), ('Quintuple Room 5 Adults', 12), ('Double or Twin Room with Sofa Bed', 12), ('Classic King View', 12), ('Executive Twin Room with Access to Executive Lounge', 12), ('Junior Suite with River View', 12), ('Studio with Courtyard View', 12), ('Deluxe Executive Room', 12), ('Double Room Luxury XXL King size bed', 12), ('King Executive Room', 12), ('Superior Room with Two Double Beds and View', 12), ('Two Connecting Superior Double Rooms', 12), ('Suite with Private Pool', 12), ('Suite with Spa Bath', 12), ('Superior Double Room with free pool and hammam access', 12), ('The Level Room with Executive Lounge Access', 12), ('Standard Room with Mobile Phone', 12), ('One Bedroom Suite with Sea View', 12), ('Junior Suite Courtyard', 12), ('Superior Double Room with Terrace and View', 12), ('Junior Suite with Cathedral View', 12), ('Apartment with City View Top Floor', 12), ('Twin City View Room', 12), ('Twin Room with Partial Sea View', 12), ('Premier King Room', 12), ('Premium Room Grand Pigalle', 12), ('Family Room 2 Adults 3 Children', 12), ('King Room with Eiffel Tower View', 12), ('Double Room with Extra Bed 3 Adults', 12), ('Suite 5 Adults', 12), ('Suite Duplex', 12), ('Double for Single Use', 12), ('Park Queen', 12), ('Privilege Double or Twin Room Courtyard side', 12), ('Superior Double Room Les Artys Les Fifties', 12), ('Two Bedroom Family', 12), ('Family Suite with two connecting rooms', 12), ('Family Suite 4 Adults', 12), ('Double Room D couverte', 12), ('Superior Room for 1 2 people with Kitchenette', 11), ('Townhouse Deluxe', 11), ('Twin Room with View', 11), ('Nhow Premium Double or Twin Room', 11), ('Superior Room Non Smoking', 11), ('Deluxe Double Room with Separate Lounge Area', 11), ('Apartment 6 Adults', 11), ('Deluxe Double Room with Patio', 11), ('Superior room Design Style Free Wifi', 11), ('Luxury Double Room Medium', 11), ('Junior Suite with Courtyard View', 11), ('Twin Deluxe with Canal View', 11), ('Business King Room', 11), ('Grand Deluxe Contemporary Room', 11), ('Garden Cottage', 11), ('One Bedroom King Suite', 11), ('Standard Double Room Ground Floor', 11), ('Premium Room', 11), ('Executive Suite with Lounge Access', 11), ('Basic Double or Twin Room with Parking', 11), ('Standard Double Room with Bath', 11), ('Confort Queen Room', 11), ('Mega Room', 11), ('Superior Double Room Free Wi Fi', 11), ('Urban Deluxe', 11), ('Double Room Tour Eiffel with Shower', 11), ('Classic Double Room with Street View', 11), ('Double Room 1 Adult with Eiffel Tower View', 11), ('Superior Double Room 3 Adults', 11), ('Superior Double or Twin Room Moon Blue', 11), ('Superior Triple Room with 3 Single Beds', 11), ('Suite Breakfast and Bottle of Champagne Included', 11), ('Superior Queen Suite with Sofa 3 Adults', 11), ('Junior Suite with Eiffel Tower View', 11), ('Double Room Moulin Rouge with Shower', 11), ('Two Double Bed Guest Room', 11), ('Superior Romantic Double Room', 11), ('Deluxe Single Room with Shared Bathroom', 11), ('Superior Queen Room Non Smoking', 11), ('Executive Queen Room Non Smoking', 11), ('Grand Executive Club Room', 11), ('Superior Designer', 11), ('Twin Hilton Plaza Room', 11), ('Superior Twin Room with Courtyard Garden or City View', 11), ('Superior Double or Twin Room with Garden View', 10), ('Amsterdam Street Art Queen Guest Room', 10), ('Deluxe King Room with Paris View', 10), ('Superior Room with 1 Double Bed and 1 Sofa Bed 2 places', 10), ('Stayed 27 nights', 10), ('Standard Twin Room with Tea Time Included', 10), ('Single Room Joy', 10), ('Privilege Junior Suite with Terrace and Spa Access', 10), ('Congress Suite', 10), ('Four Poster Suite', 10), ('Standard Twin Room with 2 single beds', 10), ('Double Room Trocad ro with Spa Bath', 10), ('Xscape King', 10), ('Executive King Twin Room', 10), ('Junior Suite with Club Lounge Access', 10), ('Deluxe King Room with Club Lounge Access and Balcony', 10), ('Grand Duplex Suite', 10), ('Double or Twin Room with Garden View', 10), ('Double Room with Park View', 10), ('Double Room with Sauna Access', 10), ('Hyatt Twin Room', 10), ('Superior Queen Room with Paris View', 10), ('Deluxe Room Henry Monnier', 10), ('Superior Double Room with 1 extra bed', 10), ('Deluxe Room with Club Lounge access', 10), ('Executive Deluxe King Room', 10), ('Cool Corner Room', 10), ('Emotion Room', 10), ('Deluxe Family Room 4 Adults', 10), ('Superior Room with 1 Queen Bed and Sofa', 10), ('Business Plus Double Room with Balcony', 10), ('King Guest Room with Sofa Bed', 10), ('Stayed 30 nights', 10), ('Kings Deluxe Junior Suite', 10), ('Junior Suite with Park View', 10), ('Nelson Double Room', 10), ('Classic Double Room with City View', 10), ('Petite Double Room', 10), ('Superior Double Room with Street View', 10), ('Classic Triple Room 2 Adults', 10), ('Deluxe Room with spa access', 10), ('Comfort Suite', 10), ('Deluxe Twin or Double Room', 10), ('Executive Double Room with Spa Bath', 10), ('Drop Dead Gorgeous Splash Suite', 10), ('Executive Room with Garden View', 10), ('Premium Quadruple Room', 10), ('Squint Splash Suite', 10), ('Urban Suite', 10), ('The Level Executive Service Room', 10), ('Regency Suite', 10), ('superior Double or Twin Room with extra bed', 10), ('Triple Room Relax', 10), ('Kings Three Bedroom Suite', 10), ('King Executive Plus Room', 10), ('Standard 1 Bedroom Apartment', 10), ('Superior Double or Twin Room XL with Extra bed', 10), ('Twin Room with Sea View', 10), ('Townhouse Club', 9), ('Privilege Superior Room', 9), ('Superior Double or Twin Room with Sauna Access', 9), ('Deluxe Studio Apartment 2 Adults', 9), ('Deluxe Park View', 9), ('Grand Junior Suite', 9), ('Garden View Twins', 9), ('Deluxe Double or Twin Room with Canal View Annex building', 9), ('Two Connecting Double and Twin rooms', 9), ('City Apartment', 9), ('Deluxe Double Room with Balcony Non Smoking', 9), ('Royal Double Room', 9), ('Mosaic Double Room', 9), ('Premium Double Room with Balcony', 9), ('Superior Room with 1 Double Bed and 1 Single Bed', 9), ('Standard Double Room with Sofa', 9), ('Superior Twin Room with Cathedral View', 9), ('Standard Double Room Non Smoking', 9), ('Queen Suite', 9), ('Superior Queen Single Room', 9), ('Triple Apartment', 9), ('Superior Twin Room 2 adults', 9), ('Classic Room with 2 double beds', 9), ('Premium Junior Suite with King size Bed', 9), ('Double Room Op ra Garnier with Spa Bath', 9), ('Studio Twin Room 3 adults', 9), ('Classic Double or Twin Room with Pool Access', 9), ('Compact Double Room shared bathroom', 9), ('Superior Twin Room with Free Pool Access', 9), ('Superior King Room with Lounge Access', 9), ('Hilton Queen Family Room', 9), ('Romantic Offer Double Room', 9), ('Classic Double Room 1 Adult', 9), ('Standard Room with 2 Double Beds', 9), ('Junior Suite with 1 King Size Bed', 9), ('Family Room 4 People', 9), ('Executive Room City View', 9), ('Deluxe Twin Studio', 9), ('Executive Double or Twin Room with City View', 9), ('Deluxe Double or Twin Room Light my Fire', 9), ('Suite 1 2 Adults with Spa Access', 9), ('Falconers One Bedroom Suite', 9), ('Executive Room with queen size bed and single sofa bed 2 Adults 1 child', 9), ('King Room with Partial Sea View', 9), ('Mezzanine Room', 9), ('Deluxe double or Twin Room', 9), ('Deluxe Balcony Room', 9), ('Non Smoking Standard Room with 1 Double Bed', 9), ('Club King Room Non Smoking with Executive Lounge Access', 9), ('Deluxe Double Room with Two Single Beds', 9), ('Executive Room with 1 Queensize Bed', 9), ('King Suite with Sofa Bed Non Smoking', 9), ('3 Connecting Rooms', 9), ('Club Double or Twin Room with Club Lounge Access', 8), ('Deluxe Designer', 8), ('Executive Double Room with Turkish Bath', 8), ('Single Room with Bathroom', 8), ('Superior Room with Extra Bed 3 Adults', 8), ('Loft Junior Suite', 8), ('Luxury Room 3 Adults with canal view', 8), ('Ruyschen Suite', 8), ('Large Double or Twin Room', 8), ('Deluxe Twin Room Annex', 8), ('Double Executive Room', 8), ('Exclusive Guest room 1 King or 2 Twin Single Bed s', 8), ('Family room Free Wi Fi', 8), ('Economy Quadruple Room', 8), ('Family Premium Room 2 Adults 2 Children', 8), ('Standard Room with queen size bed and double sofa bed 3 Adults', 8), ('Deluxe Double Room 2 Adults 1 Child', 8), ('Kings One Bedroom Suite', 8), ('Luxury Triple Room with Garden View', 8), ('Ambassadors Room', 8), ('Cozy Room', 8), ('Classic Single Room with Garden View', 8), ('Suite Parisienne', 8), ('Room with River View Main Deck', 8), ('Executive Room with Terrace', 8), ('Executive Queen Room with Eiffel Tower View', 8), ('Suite Avenue', 8), ('Superior Four Poster Room', 8), ('Single Room with Bath', 8), ('Mandarin Room', 8), ('Stayed 22 nights', 8), ('Deluxe Double Room with Private Patio', 8), ('View Queen', 8), ('Quadruple Room Annex', 8), ('Superior Business Room with a Double Bed and Sofa Bed', 8), ('Two Bedroom Family Room', 8), ('King Room with Knightsbridge View', 8), ('Superior Double Room with Free Access to Hamman', 8), ('Family Room with Bathroom', 8), ('Classic Twin Room with View', 8), ('Master Suite with Club Lounge Access', 8), ('Deluxe Queen Room with Two Queen Beds', 8), ('Premium Double Twin Room', 8), ('Deluxe King Room with Garden View', 8), ('Comfort Single Room with Shower', 8), ('Superior King Room with Iconic View', 8), ('Executive Double or Twin Room Canal View', 8), ('Small Deluxe Room with Canal View', 8), ('Single Room City', 8), ('Studio Deluxe Suite', 8), ('Deluxe Eiffel Tower Twin Room', 8), ('King Atrium Suite with Lounge Access', 8), ('Double Room with Patio View', 8), ('Marquise Superior Double or Twin Room', 8), ('Family Room 2 connected Double Rooms', 8), ('Royal Suite Split Level with Spa Bath Annex building', 8), ('Superior Room with Club Lounge Access Free Wifi', 8), ('Superior Twin Room with Private Pool', 8), ('Studio Disability Access', 8), ('Superior King or Double Room', 8), ('Deluxe Twin Room with Spa Access', 8), ('Junior Suite with Spa Bath', 8), ('Double Hilton Guest Room Plus', 8), ('Special Offer Comfort Double Room with Parking', 8), ('Premier Room', 8), ('Deluxe Double with Terrace', 7), ('Duplex King Suite 2 Adults 2 Children', 7), ('Superior Double Room Pigalle 17', 7), ('Junior Suite with Private Access to Pool and Spa', 7), ('King Deluxe Family Room', 7), ('Executive King or Twin Room with Lounge Access and Park View', 7), ('King Room with City View', 7), ('King Grand Premier with Canal View', 7), ('Superior Room 3 Adults', 7), ('Two Bedroom Family Joining Suite with Mobile Phone 2 adults 3 children', 7), ('Grand Deluxe Imperial Room', 7), ('Room with Park View', 7), ('Deluxe Twin Room with View', 7), ('Superior Double Room Breakfast included', 7), ('Superior Room with Spa Access Free Wifi', 7), ('Double Room Comtesse', 7), ('Suite 2 Adults 2 Children', 7), ('Junior Suite Basement', 7), ('Mayfair Suite with Lounge Access', 7), ('Stanhope Suite', 7), ('Superior Double Room with Massage Chair', 7), ('Executive Queen Room Mobility Access with Lounge Access', 7), ('Deluxe Suite with City View', 7), ('Signature Suite', 7), ('Family Room 3 Adults 1 Child', 7), ('Junior Suite with Gallery View', 7), ('Classic Double Single Use', 7), ('Deluxe Boulevard Double Room', 7), ('Deluxe room with 1 queen bed', 7), ('Queen Junior Suite', 7), ('Two Connecting Basic Rooms', 7), ('Double or Twin Room Select', 7), ('Exclusive Suite Eiffel', 7), ('Panorama Guest room 1 King or 2 Twin Single Bed s', 7), ('Premier Deluxe Twin Room', 7), ('Junior Suite with View', 7), ('Two Adjacent Double or Twin Rooms', 7), ('Family Room 2 Adults 1 Children', 7), ('Family Room with Two Double Beds', 7), ('Junior Suite with Queen Size Bed', 7), ('Family Junior Suite 4 adults', 7), ('Souterrain Executive Double Room', 7), ('Double Room with Club Lounge Access', 7), ('Privilege Room with Double Bed and Single Sofa Bed', 7), ('Deluxe Premium Double Room', 7), ('Suite with Sofa Bed', 7), ('Business Studio Suite', 7), ('Grand Premium Double or Twin with Sea View', 7), ('View King Room', 7), ('One Bedroom Suite with Kitchen', 7), ('Deluxe Plus Double Room', 7), ('Superior Garden View Room', 7), ('Deluxe Boulevard Twin Room', 7), ('Two Interconnecting Rooms', 7), ('Junior Suite Cathedral View with Access to Executive Lounge', 7), ('Superior Twin Room with Paris View', 7), ('Ambassador Suite', 7), ('Twin Guest Room Plus', 7), ('Luxury Room Club Sofitel with Spa Access', 7), ('Stayed 28 nights', 7), ('Deluxe Double Room with Free Access to Hamman', 7), ('Deluxe Triple Room with Paris View', 7), ('Deluxe Twin', 7), ('Large Suite', 7), ('Deluxe Twin Room Souterrain Basement', 7), ('Deluxe Family Room with Two Double Beds with Paris View', 7), ('Studio Attrape R ve', 7), ('Standard Duplex Room 3 Adults', 7), ('One Bedroom Deluxe Suite', 7), ('Deluxe Double or Twin Room with Ramblas View', 7), ('Large Family Suite', 7), ('Terrace Suite with Lounge Access', 7), ('Double Guest Room with River View', 7), ('Superior Twin Room with Pool Access', 7), ('Premium Double or Twin Room XL with View', 7), ('Double Room Audacieuse', 7), ('Executive Twin Room 1 2 Adults', 7), ('Premium View Double Room', 7), ('Family Apartment 2 Adults 2 Children', 7), ('Junior Suite Twin 1 2 Adults', 6), ('Two Connecting Double or Twin Rooms', 6), ('City Suite', 6), ('Deluxe King Room Wheelchair Accessible', 6), ('Double Room Courtyard', 6), ('Squint Penthouse Suite', 6), ('Club Level Classic Rooms', 6), ('Twin Room with Mobile Phone', 6), ('Loft Suite Disability Access', 6), ('Deluxe Double or Twin Room with Opera View', 6), ('Deluxe Double Room with Club Lounge Access', 6), ('Executive Room Queen size Bed', 6), ('Privilege Room with 1 Queen Size bed', 6), ('Two Connecting Double Rooms 5 adults', 6), ('Double or Twin Room with Balcony or Terrace', 6), ('Luxury Two Bedroom Apartment', 6), ('Standard Double or Twin Room 3 Adults', 6), ('One Bedroom Suite with Lounge Access', 6), ('Suite 2 Adults 1 Child', 6), ('2 Twin Beds Guest Room', 6), ('Superior Suite with City View', 6), ('Executive Twin Room with Whirlpool', 6), ('Art Deco Deluxe Room', 6), ('Twin Room with Pool View', 6), ('Deluxe Triple Room with Canal View', 6), ('Stayed 26 nights', 6), ('Special Offer Double Room 3 nights minimum', 6), ('Privilege Double Room with free pool and hammam access', 6), ('Junior Suite Immersive Art Experience', 6), ('Two Bedroom Penthouse Apartment', 6), ('Privilege Double Room with Terrace', 6), ('Classic Room with 2 Double Beds 4 Adults', 6), ('Corner Twin Room', 6), ('Triple Room with Terrace', 6), ('Prestige Room with Garden View Free WiFi', 6), ('Cosy Family', 6), ('King Room with Hyde Park View', 6), ('Penthouse King Executive Room with Access to Executive Lounge', 6), ('Privilege Room 3 Adults', 6), ('Cosmopolitan Suite', 6), ('Studio King 3 adults', 6), ('Executive Triple Room 2 Adults 1 Child', 6), ('Andaz Large King Room', 6), ('Grand Premium Double or Twin with City View', 6), ('Jimmie Martin Penthouse Suite', 6), ('Deluxe Double Room with Spa Access Free Wifi', 6), ('Deluxe Room with Whirlpool', 6), ('Adjacent Double Rooms', 6), ('One Bedroom Park Suite', 6), ('Bunk Bed Room', 6), ('Superior Double Room with Roll In Shower Disability Access', 6), ('Premium Superior Queen Room', 6), ('Deluxe King Suite', 6), ('Junior Suite with Mountain View', 6), ('King Hilton Executive Room with Access to Executive Lounge', 6), ('Junior Suite XL', 6), ('Deluxe Twin or Single Room', 6), ('Junior Suite with Access to Executive Lounge', 6), ('Classic Room Breakfast Included', 6), ('Privilege Top Floor with Terrace', 6), ('Deluxe Room with 1 Double Bed', 6), ('Stayed 23 nights', 6), ('Comfort Plus Double Room', 6), ('Executive King', 6), ('Hoxton Family Suite', 6), ('Premium Double or Twin Room with Garden View', 6), ('Premium Suite', 6), ('Superior Room with Queen size Bed and Double Sofa Bed', 6), ('Premier River King Room', 6), ('Executive Triple Room with Garden View', 6), ('Superior Double or Twin Room XL with View', 6), ('Superior Room with Balcony or Terrace', 6), ('Double or Twin Room In dite', 6), ('Basic Double Room NR', 6), ('Superior Double or Twin Room for Single Use', 6), ('Champagne Shopping package Twin Room', 6), ('Premium Double Room with Views', 6), ('Ambassador Junior Suite', 6), ('Executive Suite 3 Adults', 6), ('Single Room with Spa Access', 6), ('Superior Queen Suite with Sofa Bed 3 Adults', 6), ('Standard Twin Room 2 Adults 1 Child', 6), ('Executive Double Twin City View', 6), ('Classic Double Room for Single Use', 6), ('King Family Room', 6), ('Junior Family Suite 3 Adults', 6), ('penta Junior Suite', 6), ('Suite without Window', 6), ('Special Offer Double Room with Parking', 6), ('Executive Room 1 Queen size Bed 1 Sofa Bed Balcony', 6), ('Supreme Twin Room', 6), ('Eiffel Tower Suite', 6), ('King Hilton Sea View', 6), ('Exclusive Double or Twin Room La Mondaine', 6), ('Family Room Annex', 6), ('Junior Suite Blue', 5), ('King Room with City View Top floors', 5), ('Deluxe Twin Room 3 Adults', 5), ('Privilege Double Room with Saint Germain des Pr s Church View', 5), ('Double or Twin Room with Pool View', 5), ('2 Connecting Rooms 4 Adults', 5), ('Two Connecting Rooms with Free Access to Hamman', 5), ('Park Suite', 5), ('Superior Double Room with Extra Bed', 5), ('Executive Four Poster Room', 5), ('Executive Twin Room with Access to The Level Lounge', 5), ('Penthouse Junior Suite with Access to Executive Lounge', 5), ('Suite with Rambla View', 5), ('Superior Double Room with Tea Time Included', 5), ('Classic Double Room with Private Terrace', 5), ('Queen Suite with Balcony and City View', 5), ('Paris Style Queen or Twin Room with Spa access', 5), ('Suite Oc ane', 5), ('Duplex Suite with State Opera View Top Floor', 5), ('Privilege Room with Double Bed and Single Sofa Bed 3 Adults', 5), ('Executive Studio Apartment 2 Adults 1 child', 5), ('Quadruple Suite', 5), ('Fabulous Sky Room', 5), ('Deluxe Suite with Executive Lounge Access', 5), ('Souterrain Twin Room', 5), ('Autentic Double Room', 5), ('Stayed 24 nights', 5), ('Deluxe Room With Pool Access', 5), ('Bridal Suite with view', 5), ('Executive Room Swimming Pool Hammam Access upon reservation', 5), ('Basic Twin Room', 5), ('Superior Double or Twin Room with Free Airport Shuttle Service from 5 00am to 00 30am', 5), ('Prestige Room Swimming Pool Hammam Access upon reservation', 5), ('Delegate Deluxe Double Room', 5), ('Large Canal View Queen', 5), ('King Junior Suite with View', 5), ('Superior Double or Twin Room with Extra Bed 2 Adults 1 Child', 5), ('King One Bedroom Suite', 5), ('Deluxe Double or Twin Room Annex', 5), ('Standard Room with terrace', 5), ('One Bedroom Suite with Air Conditioning', 5), ('Double or Twin Room with Panoramic View', 5), ('Twin Room with Park View', 5), ('Large Garden View King', 5), ('Executive Penthouse with Canal View', 5), ('Junior Suite with VIP Services', 5), ('Suite Family and Friends', 5), ('Premium Family Room', 5), ('Deluxe Room 3 Adults', 5), ('Luxury Studio Suite', 5), ('King Room with Pool View', 5), ('Spectacular Double Room', 5), ('Double or Twin Room with Parking', 5), ('Executive Room with Queen Bed', 5), ('Deluxe Double Room with Connecting Doors', 5), ('Superior Apartment 4 Adults', 5), ('Large Comfort Twin Room Disability Access', 5), ('Superior Twin Room with Terrace', 5), ('Business Twin Room with Courtyard View and Public Transport Ticket', 5), ('Superior King Suite', 5), ('Two Connecting Classic Double Rooms', 5), ('Superior Room 2 Single Beds', 5), ('Executive Suite with Spa Bath', 5), ('Collection Suite', 5), ('Business Double Room with Balcony', 5), ('Triple Room Luxury XXL King Size Bed', 5), ('Standard Double Room with Terrace', 5), ('Mandarin Junior Suite', 5), ('Family Room XL', 5), ('Executive Studio with London Eye View', 5), ('Suite Family Room', 5), ('Junior Triple Suite', 5), ('Double Queen Family Suite with Access to Executive Lounge', 5), ('Superior Room with Double Bed', 5), ('Club Double Room with Club Lounge Access', 5), ('Apartment Suite', 5), ('Twin Executive Room', 5), ('Double Accessible Guest Room', 5), ('Deluxe Double Room with Panoramic View', 5), ('Double Room with Canal View', 5), ('Executive Double Room Top Floor', 5), ('Double without credit card', 5), ('Accessible Double Guest Room', 5), ('Junior Suite with Double Bed', 5), ('Wonderful Bank with Canal View', 5), ('Single Room with Sauna Access', 5), ('Imperial Suite', 5), ('Modern Double Room Echo', 4), ('Modern Double Room Narcisse', 4), ('Junior King Suite with Lounge Access', 4), ('Junior Suite with Bath', 4), ('Standard Room with Two Single Beds Renovated', 4), ('Four Seasons King Junior Suite', 4), ('Junior Suite 2 Adults 1 Child', 4), ('Business Double Room with 500 Frequent Flyer Miles', 4), ('Royal Duplex Suite', 4), ('Two Adjacent Rooms', 4), ('Single Room with Park View', 4), ('Junior Suite Canal View', 4), ('2 Connecting Deluxe Rooms with VIP Service for Kids', 4), ('Deluxe Double Room with Terrace and Eiffel Tower View', 4), ('Park View Studio', 4), ('Superior Apartment 3 Adults', 4), ('Stunning City Studio', 4), ('Superior King Suite 3 adults', 4), ('Suite Deluxe', 4), ('Andaz Large Suite', 4), ('Suite Elys e', 4), ('Deluxe Premium King Room', 4), ('Superior King Room Non Smoking', 4), ('Business Double or Twin Room Facing the Sea', 4), ('Single Room with Arc de Triomphe View', 4), ('Deluxe Double Room with Terrace and Private Pool', 4), ('King Duplex Suite', 4), ('Hilton Superior Double Room', 4), ('Loft Suite with Terrace', 4), ('Premier Suite', 4), ('Deluxe Suite with River View', 4), ('Suite Couture', 4), ('5 rooms', 4), ('Fabulous Bank King', 4), ('Superior Room with One Double Bed', 4), ('Junior Suite Double', 4), ('Universitat Double or Twin Room', 4), ('One Bedroom River View Suite', 4), ('Grand Suite with Canal View', 4), ('Premium Deluxe Double Room with River View', 4), ('Guest Queen Room with Two Queen Beds', 4), ('Executive Room with 1 Queen Bed and 1 Sofa 3 Adults', 4), ('Junior Double Suite', 4), ('Superior Room with Balcony and Opera Garnier View', 4), ('King Suite Non Smoking', 4), ('King Room Mobility Accessible Non Smoking', 4), ('Canal View Queens', 4), ('Privilege Family Room', 4), ('Premium King or Queen Room', 4), ('Executive Double or Twin Room with view of Big Ben and Lounge Access', 4), ('Studio Twin Room', 4), ('Duplex Family Suite with Spa Bath', 4), ('Grand Premier Family Room', 4), ('Triple Room with Park View', 4), ('Studio Suite Bank', 4), ('Corner View Suite', 4), ('Deluxe Double Room Corner', 4), ('Junior Suite Give me the night', 4), ('Suite Split Level', 4), ('Executive Double Room With Free Access to Steam Bath', 4), ('Superior Twin Room with Sofa Bed Non Smoking', 4), ('Special Offer Sleep ParK Fly', 4), ('King Executive Suite with Lounge Access', 4), ('Large Double Room with Champs Elysees View', 4), ('Stayed 25 nights', 4), ('Premier Junior Suite 1 2 Adults', 4), ('Studio Suite with Lounge Access', 4), ('Penthouse Suite Family', 4), ('Double Room with City View Top Floor', 4), ('Executive Double Room with Sofa Bed', 4), ('Couture Deluxe Double Room', 4), ('Plaza Club Room', 4), ('Connecting Double Rooms', 4), ('Deluxe Double Room with View and Disability Access', 4), ('Superior Room with 1 Single Bed', 4), ('Family Room Free Wi Fi', 4), ('Triple Junior Suite', 4), ('Junior King Suite with Pool Access', 4), ('Junior Suite with Sea View', 4), ('Deluxe Room with Spa Fitness Access', 4), ('Executive Double or Twin Room with Executive Lounge Access', 4), ('King Suite with Sofa Bed 4 Adults', 4), ('Standard Queen Room with Two Queen Beds', 4), ('Luxury One Bedroom Apartment', 4), ('King Superior Plus Room', 4), ('Deluxe Accessible Twin Room with View', 4), ('Superior Queen Room with Extra Bed 2 Adults', 4), ('Corner Larger Executive room with Executive lounge access Free Wifi', 4), ('Executive Business Room with Double Bed', 4), ('Two Connecting Rooms 3 persons', 4), ('Executive Double or Twin Room 3 Adults', 4), ('Deluxe Junior Suite with Lounge Access', 4), ('Standard Twin Room Non Smoking', 4), ('Deluxe Double or Twin Room with VIP Services', 4), ('Prestige Twin Room', 4), ('Deluxe Family Room with 1 Double and 2 Single Beds 3 Adults', 4), ('Twin Room with Executive Lounge access', 4), ('La Petite Maison', 4), ('Park Executive Suite', 4), ('Presidential Suite', 4), ('Double or Twin Room Ladies Special', 4), ('Superior Room with King Bed', 4), ('Hilton Superior Twin Room', 4), ('Junior Suite with View of the Eiffel Tower', 4), ('Canal View Deluxe Triple Room with Spa Bath Annex building', 4), ('Executive Room with Queen Bed and a Sofa Non Smoking', 4), ('Senior Suite 1 3 Adults', 3), ('2 Double Rooms next to each other', 3), ('Deluxe Double Room Swimming Pool Hammam Access upon reservation', 3), ('Deluxe Two Bedroom Suite', 3), ('Grand Premier King Room', 3), ('Duplex Suite with Sofa Bed', 3), ('Twin Premier Room', 3), ('Room Assigned at Check in', 3), ('Marvelous Suite Exchange', 3), ('Family Communicating Rooms', 3), ('Junior Alcove Suite with Access to Executive Lounge', 3), ('Deluxe Double or Twin Room with Parking', 3), ('Special Offer Comfort Double Room with Breakfast and Parking Included', 3), ('Superior Double or Twin Room with Eiffel Tower partial view', 3), ('Twin or Double Room with Terrace', 3), ('Luxury Suite Triple', 3), ('Suite Grand Lit', 3), ('Hyde Park Junior Suite with Park View', 3), ('Club King Room with View and Lounge Access', 3), ('Grand Superior Room', 3), ('Attic Suite 1 or 2 people', 3), ('Junior Suite with Terrace and City view', 3), ('Business Single Room with Balcony', 3), ('One Bedroom Suite with Park View', 3), ('Junior Suite with Kingsize Bed 3 persons', 3), ('Family Room Two Connecting Rooms VIP Welcome for Kids', 3), ('Privilege Room with a double bed', 3), ('Deluxe Queen Room with Sofa', 3), ('Luxury Double Room Large', 3), ('Superior Room with 1 Queen Bed and Sofa 3 Adults', 3), ('K Suite', 3), ('Executive Room with 1 Queen Bed and 1 Sofa 2 Adults', 3), ('Wonderful Bank King', 3), ('Prestige Double Room with Eiffel Tower View', 3), ('Landmark Junior Suite', 3), ('Superior Double Room 2 Adults 1 Child', 3), ('Deluxe Triple Room with Spa Access', 3), ('Superior Double or Twin Room with Extra Bed 3 Adults', 3), ('Deluxe Apartment 4 Adults 2 Children', 3), ('King Suite with Executive Lounge Access', 3), ('Executive Room with Queen Bed Renovated', 3), ('Suite King', 3), ('Suite with free pool and hammam access', 3), ('King Plaza Executive Room', 3), ('Deluxe Twin Room with Eiffel Tower View', 3), ('Urban Triple Room', 3), ('Hyatt Queen Room with View', 3), ('Two Connecting Superior Twin Rooms', 3), ('Standard Double Room 2 Adults', 3), ('Hyatt Twin Room with View', 3), ('Double or Twin Room Business Advantage', 3), ('Junior Suite Lavender', 3), ('Cool Corner Exchange', 3), ('Executive Deluxe', 3), ('Family Junior Suite', 3), ('Twin Plaza Executive Room', 3), ('Junior Suite with Executive Lounge Access and Free Wifi', 3), ('King Magistrate Suite', 3), ('Executive Black Suite', 3), ('Executive Queen Room With Sofa Bed', 3), ('Double Room with Parking', 3), ('Deluxe Double Room With Free Access to Steam Bath', 3), ('Junior Suite My Ch rie Amour', 3), ('Signature Double Room', 3), ('4 Person Suite', 3), ('Junior Suite 5 Adults', 3), ('Junior Suite Parisienne', 3), ('Two Adjacent Deluxe Rooms', 3), ('Junior Room', 3), ('Single Room with Garden View', 3), ('Superior Apartment 2 Adults', 3), ('Junior Suite Double or Twin', 3), ('Executive Room with One Queensize Bed with Balcony', 3), ('Loft Double Room with Terrace', 3), ('Triple Room with Mobile Phone 3 adults', 3), ('Junior Suite 2 Adults 2 Children', 3), ('Superior Deluxe Double Room Pigalle 22', 3), ('Suite with View', 3), ('Apartments 4 Adults', 3), ('Park King or Twin', 3), ('Hilton Relaxation Room', 3), ('Special Offer Deluxe Double Room', 3), ('Double Room Capricieuse', 3), ('Deluxe Room with Two Single Beds', 3), ('Junior Suite Blue Sunshine', 3), ('Single Room Tea Time Wine Tasting Included', 3), ('Terrace Junior Suite', 3), ('King Executive Waterfront with Access to Executive Lounge', 3), ('Curve Suite with Lounge Access', 3), ('Park Deluxe King or Twin', 3), ('Standard room with 1 queen bed and sofa 3 Adults', 3), ('Superior Room with Garden View Free Wifi', 3), ('Deluxe Double Room Non Smoking', 3), ('Deluxe Family Room with SPA Access', 3), ('Queen Room with Roll In Shower Mobility Access Non Smoking', 3), ('Premier Double Room with Panoramic View and Executive Lounge Access', 3), ('Suite with Extra Bed', 3), ('View Twin', 3), ('Junior Suite with Shower', 3), ('Junior Suite With Private Garden', 3), ('Junior Suite 4 Adults', 3), ('Suite 1 2 Adults', 3), ('Twin Room Mobility Access', 3), ('Two Adjoining Double Rooms', 3), ('Double Junior Suite', 3), ('Junior King Suite with View 3 Adults', 3), ('Junior Suite 3 Adults with Spa Access', 3), ('Deluxe Double Room with Private Pool', 3), ('Solo Room', 3), ('New Amsterdam Suite', 3), ('Eiffel Suite', 3), ('Two Connecting Double Rooms with Pool Access', 3), ('Superior Double Room with Sofa Bed and Pool View', 3), ('King or Double Room with Panoramic View', 3), ('Double or Twin Room with Extra Bed 2 Adults 1 Child', 3), ('Executive Double or Twin Room with Club Lounge Access', 3), ('Superior room 3 persons', 3), ('Executive Double Room with Access to The Level Lounge', 3), ('Duplex Room 4 Adults', 3), ('Superior One Bedroom Suite', 3), ('Deluxe Junior Partial River View', 3), ('Prestige Suite 2 Adults with canal view', 3), ('One Bedroom King Suite 2 Adults', 3), ('Stayed 29 nights', 3), ('Deluxe Double Room with Lounge Access', 3), ('Duke of Monmouth Suite', 3), ('Suite with Spa Access', 2), ('Deluxe Double Room Pigalle 21', 2), ('King Deluxe One Bedroom Suite with Lounge Access', 2), ('Quadruple Apartment', 2), ('Art Deco Deluxe Room View and Terrace', 2), ('Executive Master Suite', 2), ('Executive Double Room with Square View', 2), ('Superior Suite 3 Adults', 2), ('Superior Room with Garden View', 2), ('Special Offer Classic Room with Parking', 2), ('One Bedroom Family Suite', 2), ('Superior Triple Room with 1 Double Bed 1 Single Bed', 2), ('Executive Junior Suite with Sea View', 2), ('Special Offer Classic Room', 2), ('Gallery Suite with Spa Access Free Wifi', 2), ('Park Deluxe Room', 2), ('Twin Room with City View Top Floor', 2), ('Superior Room with Balcony', 2), ('Minsters Deluxe Two Bedroom Suite', 2), ('Superior Room with 1 Double Bed and Sofa', 2), ('Deluxe Double or Twin Room with Spa Bath', 2), ('Deluxe Room with Spa Access Free Wifi', 2), ('Park Junior Suite', 2), ('Halkin Room', 2), ('Comfort Double Room with Park View', 2), ('Standard Room with Queen Bed and Sofa Bed', 2), ('Double Room Large Heritage', 2), ('Club Junior Suite', 2), ('Deluxe Room with 1 King bed', 2), ('Accessible Studio Suite', 2), ('Op ra Junior Suite', 2), ('Executive Room with views of Paris Queen size bed and Double Sofa Bed 2 Adults 2 Children', 2), ('Suite 1 3 Adults', 2), ('Prestige One Bedroom Suite with River View', 2), ('Junior Suite with Queen Bed 3 Adults', 2), ('Regency King Suite with Lounge Access', 2), ('Superior Double Room 1 Adult', 2), ('Penthouse Suite with View', 2), ('Supreme Double Room', 2), ('Royal Penthouse with Canal View', 2), ('Parisian Junior Suite', 2), ('The Duplex', 2), ('Superior Twin Room with Extra Bed 2 adults 1 child', 2), ('Family Apartment 4 Adults with Spa access', 2), ('Emotion Room with Terrace', 2), ('Ring Suite', 2), ('Three Bedroom Suite', 2), ('Superior Double Room with Courtyard View', 2), ('Mandarin Double or Twin Room', 2), ('Couture Junior Suite', 2), ('Suite with Garden View', 2), ('Junior Suite with living room', 2), ('Hilton Deluxe Twin Room Plus', 2), ('Deluxe Family Room 3 Adults', 2), ('Double Deluxe Suite', 2), ('Deluxe Triple Suite', 2), ('Double Room 2 Adults 1 Child', 2), ('Luxury Suite Conservatory with Lounge Access', 2), ('Special Offer Superior Queen Room', 2), ('Double or Twin Room with Terrace and Panoramic View', 2), ('Comfort Triple Room with Spa Bath', 2), ('Standard Family Suite with Two Connecting Rooms 4 Adults', 2), ('Design One Bedroom Suite', 2), ('Premium Double or Twin Room with Sea View', 2), ('One Bedroom Suite with Executive Lounge Access', 2), ('Cabaret Junior Suite', 2), ('Superior Double Room Non Smoking', 2), ('Superior Queen Room with Extra Bed 3 Adults', 2), ('Executive Suite with Free Airport Shuttle Service from 5 00am to 00 30am', 2), ('Classic Adjacent Rooms', 2), ('Elisabeth Suite', 2), ('Business Single Room with Courtyard View', 2), ('One Bedroom Suite 1 2 Adults', 2), ('Palais Suite', 2), ('Superior Double or Twin Room XL with Extra Bed 3 Adults', 2), ('Executive Twin Room with City View', 2), ('Twin Executive Plus Room', 2), ('Deluxe Plus Double or Twin Room', 2), ('Twin Grand Premier Room', 2), ('Two Adjacent Double Rooms with free pool and hammam access', 2), ('Adjacent Rooms', 2), ('Executive Double or Twin Room with Private Terrace', 2), ('Presidential suite with view terrace', 2), ('Four Seasons Suite', 2), ('Executive Room Selected at Check In', 2), ('Two Connecting Rooms 2 Adults 2 Children', 2), ('Executive Room with queen size bed and single sofa bed 3 Adults', 2), ('Two Bedroom Superior Suite', 2), ('King Suite with Sofa Bed 3 Adults', 2), ('Standard Triple Room 3 Adults', 2), ('Deluxe Junior Suite with Spa Bath', 2), ('Junior Suite High Floor', 2), ('Standard Double Room with Panoramic View', 2), ('Deluxe Queen Room with Pool View', 2), ('Executive Queen Suite', 2), ('Secret Room with Spa Access', 2), ('Executive Room with Two Queen Beds', 2), ('Junior Suite Jungle Fever with Hot Tub', 2), ('Premium Double Room with Terrace', 2), ('Master Suite', 2), ('Club Suite with Club Lounge Access', 2), ('Suite VIP welcome', 2), ('Double Room Disability Access Tub', 2), ('Grand Suite Duplex', 2), ('Executive Suite with Queen Bed and Sofa Bed 2 Adults', 2), ('Superior Double or Twin Room with Patio', 2), ('Double Queen Executive Waterfront with Access to Executive Lounge', 2), ('Balcony Suite with Executive Lounge Access', 2), ('Junior Suite Twin', 2), ('King Junior Suite with Executive Lounge Access', 2), ('Deluxe Quadruple Room with Canal View', 2), ('Superior Twin Room with Airconditioning', 2), ('Vend me Deluxe Room', 2), ('Special Offer Single Room with Continental Breakfast', 2), ('Fabulous Bank Canal', 2), ('Two Connecting Double Rooms 2 Adults 2 Children', 2), ('The Level Grand Premium Double or Twin Room with City View', 2), ('Executive Queen Room with Sofa Bed 3 Adults', 2), ('Superior Double Room with London Eye View', 2), ('Two Adjacent Classic Double Rooms', 2), ('Suite Room 1 or 2 people', 2), ('Classic Single Room with Spa Access', 2), ('Special Offer Standard Double or Twin Room', 2), ('Business Apartment 1 Adult', 2), ('Superior Classic Double Room', 2), ('Park Deluxe Executive King', 2), ('Executive Double Room Single Use', 2), ('Executive Room with Double Bed', 2), ('Superior Double Room Ground Floor', 2), ('Privilege Room with 2 Double Beds', 2), ('Double Room large', 2), ('Hansen Suite', 2), ('Skylight Deluxe Executive Room', 2), ('Deluxe King or Queen Room', 2), ('Suite with Eiffel Tower View', 2), ('Junior Suite 2 Adults with Free Airport Shuttle Service from 5 00am to 00 30am', 2), ('Superior Room with 2 zip beds', 2), ('Superior Oversized Queen Room', 2), ('Double Room Medium Heritage', 2), ('Superior Double Room with Terrace and Mountain View', 2), ('Business Double Room 1 Adult', 2), ('Large Double Room with Garden View', 2), ('Chic Twin or Double Room', 2), ('Large One Bedroom Apartment', 2), ('Superior Double Room Plus L Insolente', 2), ('Business Plus Single Room with Balcony', 2), ('Executive Deluxe Double Room', 2), ('Deluxe Quadruple Room with Paris View', 2), ('Park Deluxe View Twin', 2), ('Privilege Suite', 2), ('Suite with Eiffel Tower View VIP welcome', 2), ('Cabine Single Room', 2), ('Junior Suite Premium with Spa Access', 2), ('Club Suite', 2), ('Classic Twin or Double Room', 2), ('Executive Room Non Smoking', 2), ('Junior king Suite 3 Adults', 2), ('Executive Room with View and Lounge Access', 2), ('Premium Lafayette', 2), ('Room Sous les Toits 18m with Montmartre View', 2), ('Queen Single Room', 2), ('Premium King Room with View', 2), ('Hilton Superior King Room', 2), ('Guest Room with Balcony', 2), ('Suite Reloj', 2), ('Deluxe Double Room 1 Adult', 2), ('Triple Room with City View', 2), ('Executive Queen Room 2 adults', 2), ('Superior Queen Room with Sofa Bed Non Smoking', 2), ('Special Offer Double Room with Continental Breakfast', 2), ('Interconnecting Rooms', 2), ('Special Offer Double Room Park and Sleep inklusive Breakfast', 2), ('Prestige Double Room With View', 2), ('Family Room Free WiFi', 2), ('Superior Double Room New Style', 2), ('Junior Suite Triple', 2), ('Prestige Triple Room', 2), ('Double Room Duchesse', 2), ('Queen Room with Executive Lounge Access', 2), ('Executive Deluxe Double Room with Spa Access', 2), ('Junior Suite with Spa Access 3 Adults', 2), ('Deluxe King Studio Suite', 2), ('Queen Family Room', 2), ('Suite Canal View', 2), ('Studio Suite with Club Lounge Access', 2), ('King Deluxe Family Room Connecting Doors', 2), ('Premier Shard Suite', 2), ('Double Room Mus e d Orsay with Spa Bath', 2), ('Duplex Deluxe Triple Room 2 Adults 1 Child', 2), ('King Room with Sea View', 1), ('Penthouse', 1), ('Superior Double or Twin Room XL with Extra Bed 2 Adults 1 Child', 1), ('Double Room Atelier d Artiste with Spa Bath', 1), ('Octagon Suite with Lounge Access', 1), ('Grand Executive Room', 1), ('Design Suite', 1), ('Comfort Family Room', 1), ('Hilton Executive Suite with Lounge Access', 1), ('Accessible King Room with Lounge Access', 1), ('Deluxe King Room Disability Access', 1), ('Deluxe One Bedroom Suite with River View', 1), ('Twin Junior Suite City View with Access to Executive Lounge', 1), ('Junior Suite with Bath and Shower', 1), ('Luxury Suite antique theme', 1), ('Junior Suite 3 Adults or 2 Adults 1 Child', 1), ('Park Twin', 1), ('Junior Suite Tendre Ros e', 1), ('Suite Cocotte', 1), ('Two Bedroom Deluxe Suite', 1), ('Privilege Room with Extra Bed 3 Adults', 1), ('Junior Queen Suite with Sofa Bed', 1), ('Executive with Two Double Beds', 1), ('Executive Room with Two Double Beds and Executive Lounge Access', 1), ('Suite with Glass of Champagne', 1), ('Deluxe Double Room 3 Adult', 1), ('Deluxe Family Room with 1 Double and 2 Single Beds', 1), ('Apartement', 1), ('Deluxe Eiffel Twin', 1), ('Easter Special Executive King Room', 1), ('Superior One Bedroom Suite with Executive Lounge Access', 1), ('Junior Suite Saint Honor', 1), ('Suite with Knightsbridge View', 1), ('LM Club Double or Twin Room', 1), ('Green Park Suite', 1), ('Family Room Two connecting Rooms 3 Adults', 1), ('Queen Suite with City View', 1), ('Queen Guest Room with Terrace', 1), ('Oscar Wilde Room', 1), ('Double Room with 2 tickets for a Cruise on the Seine river', 1), ('Tradition Twin Room', 1), ('Deluxe Double or Twin Room Disability Access', 1), ('Triple Executive Room', 1), ('Two Connecting Double Rooms 4 Adults', 1), ('Junior Suite 3 Adults with Paris View', 1), ('Twin Hilton Executive Room with Access to Executive Lounge', 1), ('Suite with River View', 1), ('Artist s Studio King Junior Suite with Spa access', 1), ('Superior King Room with Pool View', 1), ('Twin Bed Suite', 1), ('Principe Suite', 1), ('FAMILY PLAN', 1), ('Executive Double Room with Mobile Phone', 1), ('Executive Double Room with Terrace', 1), ('Double or Twin Junior Suite', 1), ('One Bedroom Apsley Suite', 1), ('Basic Double or Twin Room', 1), ('Superior Suite 2 Adults', 1), ('Standard Family Suite with Two Connecting Rooms', 1), ('One Bedroom Executive Suite with Lounge Access', 1), ('One Bedroom Suite with Sofa Bed', 1), ('Room with Paris View', 1), ('Executive Double or Twin Room With Terrace', 1), ('Eiffel Suite with partial view', 1), ('Art Deco Room Balcony', 1), ('Deluxe Double or Twin Room with Pool Access', 1), ('Superior Junior Suite Single Use', 1), ('Superior Suite Water Front', 1), ('Suite Aurore', 1), ('Executive Premium Queen Room with Sofa Bed', 1), ('Executive Suite 1 King', 1), ('Park Suite King', 1), ('Junior Suite with Free Bottle of Champagne', 1), ('Superior Suite 4 Adults', 1), ('Knightsbridge Suite', 1), ('Royal Suite', 1), ('Club Twin Room with Lounge Access', 1), ('Twin Hilton Room Plus', 1), ('Business Suite', 1), ('Courtyard Suite with St Stephen s Cathedral view', 1), ('Luxury Suite music theme', 1), ('Suite Marignan Eiffel', 1), ('Superior Twin Room with Tea Time Included', 1), ('Four Seasons Twin Junior Suite', 1), ('Queen Guest Room Mobility Accessible', 1), ('Standard Double Room with Sofa Bed', 1), ('Universitat Single Room', 1), ('Deluxe Double Room with City View and Spa Access', 1), ('Townhouse Apartment', 1), ('Rooftop Suite', 1), ('Junior Suite Split Level with Lounge Access', 1), ('Duplex King Suite 3 Adults', 1), ('Suite Designer', 1), ('Suite Free Executive Lounge Access', 1), ('Suite with Executive Lounge Access', 1), ('Tower Suite with Lounge Access', 1), ('Prestige Suite with Private Terrace', 1), ('Triple Room Annex', 1), ('2 Connecting Double Rooms', 1), ('Double Room with Fitness Equipment', 1), ('Studio My Little Haussmann', 1), ('Classic Double Room with Balcony', 1), ('Penthouse Plaza Suite with Access to Executive Lounge', 1), ('Marvelous Suite', 1), ('Junior Suite Free Wifi', 1), ('Studio with Spa Access', 1), ('Park Room', 1), ('Deluxe Double Room with Hammam', 1), ('Junior Suite with Lounge Access and City View', 1), ('Ma tre Superior Double or Twin Room with Street View', 1), ('Ground Floor Queen Room Disability Access', 1), ('Twin Room with City View', 1), ('Prestige King Room Non Smoking', 1), ('Luxury Duplex Room', 1), ('Executive Twin Room with River View', 1), ('Bunk Bed in Twin Room Pigalle 12', 1), ('Deluxe Triple Room Swimming Pool Hammam Access upon reservation', 1), ('Double Room Rouge Epic e', 1), ('Art Room XL with Iconic View', 1), ('King Suite Non Smoking with Executive Lounge Access', 1), ('Apartment Attic', 1), ('Special Offer Classic Double Room', 1), ('Ashburn Suite', 1), ('Duplex King Suite', 1), ('Two Adjoining Rooms', 1), ('Two Adjoining Rooms with Dock View Main Deck', 1), ('Junior Suite with Hydromassage Shower', 1), ('Suite with Garden View and Parking', 1), ('Two Adjacent Double Room', 1), ('Club Suite with Executive Lounge Access', 1), ('Deluxe King Room 2 Adults', 1), ('Junior Suite with Extra Bed 3 Adults', 1), ('Family King Room', 1), ('La Rouge Suite', 1), ('Small Double Room 1 2 adults', 1), ('Junior Conservatory with King Bed', 1), ('Penthouse Suite with Balcony', 1), ('Family Room Sleeps Four', 1), ('Couture Suite', 1), ('Executive Double Room with Spa Fitness Access', 1), ('King Room or Twin Room Disability Access', 1), ('Belgravia Suite', 1), ('One Double Suite NonSmoking', 1), ('Suite with Panoramic View', 1), ('One Bedroom Classic Suite', 1), ('Deluxe Room 2 Adults 1 Child', 1), ('Executive Double Room Eiffel Tower View with 1 Queensize and Sofa Bed', 1), ('Suite with Balcony and Spa Access', 1), ('Junior Suite Sans Mod ration', 1), ('Andaz Suite', 1), ('Deluxe Double Room with Balcony and Free Pool Access', 1), ('Superior Double Room with Sofa', 1), ('Standard Double Room with Two Double Beds', 1), ('King One Bedroom Suite with Lounge Access', 1), ('Superior Room with Sofa Bed', 1), ('Marvellous Suite', 1), ('Junior Suite With Free Access to Steam Bath', 1), ('Four Connecting Rooms', 1), ('Two Adjacent Rooms 5 Adults', 1), ('Park Deluxe Queen', 1), ('Suite Trocadero Balcony with Eiffel Tower View', 1), ('Suite with Spa Access 4 Adults', 1), ('Bobo Queen or Twin Room with Spa access', 1), ('Privil ge Suite with 1 Double Bed and Sofa', 1), ('2 double Connecting Rooms', 1), ('Twin Junior Suite', 1), ('Executive King Suite', 1), ('Deluxe One Bedroom Park Suite', 1), ('Junior Suite with Pool Access', 1), ('Mansart Executive Room', 1), ('Suite with Club Lounge Access', 1), ('One Bedroom Suite with Courtyard View', 1), ('Premium Room 3 adults', 1), ('Park Deluxe Suite', 1), ('Amsterdam Street Art Double Guest Room', 1), ('Parisian Suite', 1), ('Superior Suite with Garden View', 1), ('Twin Hilton Sea View', 1), ('La Reflet Junior Suite', 1), ('Luxury Single Room', 1), ('Smart Triple Room', 1), ('Park Suite View', 1), ('Family Suite with Balcony', 1), ('Two Bedroom Suite with Terrace', 1), ('Park Deluxe View', 1), ('Exception Room', 1), ('Comfort Plus Twin Room', 1), ('Junior Suite Attic', 1), ('Two Double Adjoining Rooms', 1), ('Executive Apartment', 1), ('2 Connecting Rooms', 1), ('One Bedroom City Suite', 1), ('Deluxe Twin Room with Terrace and Eiffel Tower View', 1), ('Family Room 5 Adults', 1), ('Executive King Suite with Lounge Access', 1), ('Suite with City View and Parking', 1), ('Townhouse Suite', 1), ('Executive Vend me Triple Room', 1), ('Standard Double Room with City View', 1), ('Double Room Radieuse', 1), ('Suite Terasse Eiffel', 1), ('Diamond Suite Spa', 1), ('Twin Grand Premier with Canal View', 1), ('Small Studio', 1), ('Superior Executive Twin Room', 1), ('The Rooks Nest', 1), ('Fantastic Suite', 1), ('Superior Room with Queen size bed and Sofa Bed 2 Adults', 1), ('Queen One Bedroom Suite', 1), ('Suite with hammam', 1), ('Two Connected Double Rooms', 1), ('Standard Double or Twin Room with Extra Bed', 1), ('Champs Elys es Prestige Junior Suite', 1), ('Suite Juliana', 1), ('penta PlayerPad Suite', 1), ('Double room 1 or 2 people', 1), ('2 Connecting Rooms 5 Adults', 1), ('Loft Double Room', 1), ('Signature Room', 1), ('Suite Tea Time Wine Tasting Included', 1), ('Executive Premium Queen Room', 1), ('Two Connecting Executive Rooms', 1), ('Champs Elys es Prestige Room', 1), ('Family Room with View 2 Adults 2 Children', 1), ('River Twin Suite', 1), ('Privilege Room with Hammam', 1), ('King Room with Sofa Bed', 1), ('Double Room 3 Adults', 1), ('Four Seasons Executive King Suite', 1), ('Horizon Suite with Dock View', 1), ('One Bedroom King Suite with Garden View', 1), ('Executive Double Room with Park View', 1), ('Double Twin Rooms Next to Each Other', 1), ('La Mathurin Suite', 1), ('Executive Suite with River View', 1), ('Junior Suite Royal', 1), ('Superior Double Room with Terrace and Jacuzzi', 1), ('Family Room 6 Adults', 1), ('Two Adjoining Rooms with Dock View Upper Deck', 1), ('Special Offer Double or Twin Room with Parking', 1), ('Westminster Suite with King Bed', 1), ('Quadruple Room 2 Adults 2 Children', 1), ('Art Deco Room Terrace', 1), ('Executive Double Room Non Smoking', 1)]\n"
     ]
    }
   ],
   "source": [
    "tags = dict()\n",
    "for i in range(0, hotels.shape[0]):\n",
    "    lst = hotels['tags'].iloc[i]\n",
    "    lst = lst.replace(\"[' \", \"\").replace(\" '\", \"\").replace(\" ' \", \"\"). replace(\"]\", \"\").replace(', ', ',')\n",
    "    lst = lst.split(',')\n",
    "    # print(lst)\n",
    "    for t in lst:\n",
    "        if t not in tags:\n",
    "            tags[t] = 1\n",
    "        else:\n",
    "            tags[t] +=1\n",
    "tags = sorted(tags.items(), key=lambda kv: kv[1], reverse=True)\n",
    "print(tags)\n"
   ]
  },
  {
   "attachments": {},
   "cell_type": "markdown",
   "metadata": {},
   "source": [
    "Первоначальная версия датасета содержит 17 полей со следующей информацией:\n",
    "\n",
    "hotel_address — адрес отеля;  \n",
    "review_date — дата, когда рецензент разместил соответствующий отзыв;  \n",
    "average_score — средний балл отеля, рассчитанный на основе последнего комментария за последний год;  \n",
    "hotel_name — название отеля;  \n",
    "reviewer_nationality — страна рецензента;  \n",
    "negative_review — отрицательный отзыв, который рецензент дал отелю;  \n",
    "review_total_negative_word_counts — общее количество слов в отрицательном отзыв;  \n",
    "positive_review — положительный отзыв, который рецензент дал отелю;  \n",
    "review_total_positive_word_counts — общее количество слов в положительном отзыве.  \n",
    "reviewer_score — оценка, которую рецензент поставил отелю на основе своего опыта;  \n",
    "total_number_of_reviews_reviewer_has_given — количество отзывов, которые рецензенты дали в прошлом;  \n",
    "total_number_of_reviews — общее количество действительных отзывов об отеле;  \n",
    "tags — теги, которые рецензент дал отелю;  \n",
    "days_since_review — количество дней между датой проверки и датой очистки;  \n",
    "additional_number_of_scoring — есть также некоторые гости, которые просто поставили оценку сервису, но не оставили отзыв. Это число указывает, сколько там действительных оценок без проверки.  \n",
    "lat — географическая широта отеля;  \n",
    "lng — географическая долгота отеля."
   ]
  },
  {
   "cell_type": "code",
   "execution_count": 38,
   "metadata": {},
   "outputs": [],
   "source": [
    "object_columns = [s for s in hotels.columns if hotels[s].dtypes == 'object']\n",
    "hotels.drop(object_columns, axis = 1, inplace=True)\n",
    "\n",
    "hotels = hotels.fillna(0)\n",
    "\n",
    "# непрерывные признаки\n",
    "num_cols = ['total_number_of_reviews', 'review_total_negative_word_counts', 'review_total_positive_word_counts',\n",
    "            'total_number_of_reviews_reviewer_has_given', 'additional_number_of_scoring']\n",
    "\n",
    "# категориальные признаки\n",
    "hotels['lng'] = hotels['lng'].abs()\n",
    "cat_cols = ['average_score', 'lat', 'lng']"
   ]
  },
  {
   "cell_type": "code",
   "execution_count": 42,
   "metadata": {},
   "outputs": [
    {
     "data": {
      "text/plain": [
       "<AxesSubplot: >"
      ]
     },
     "execution_count": 42,
     "metadata": {},
     "output_type": "execute_result"
    },
    {
     "data": {
      "image/png": "[encoded data removed]",
      "text/plain": [
       "<Figure size 640x480 with 1 Axes>"
      ]
     },
     "metadata": {},
     "output_type": "display_data"
    }
   ],
   "source": [
    "from sklearn.feature_selection import f_classif # anova\n",
    "\n",
    "imp_num = pd.Series(f_classif(X[num_cols], y)[0], index = num_cols)\n",
    "imp_num.sort_values(inplace = True)\n",
    "imp_num.plot(kind = 'barh')"
   ]
  },
  {
   "cell_type": "code",
   "execution_count": 39,
   "metadata": {},
   "outputs": [],
   "source": [
    "# Разбиваем датафрейм на части, необходимые для обучения и тестирования модели  \n",
    "# Х - данные с информацией об отелях, у - целевая переменная (рейтинги отелей)  \n",
    "X = hotels.drop(['reviewer_score'], axis = 1)  \n",
    "y = hotels['reviewer_score'] "
   ]
  },
  {
   "cell_type": "code",
   "execution_count": 40,
   "metadata": {},
   "outputs": [
    {
     "data": {
      "text/html": [
       "<div>\n",
       "<style scoped>\n",
       "    .dataframe tbody tr th:only-of-type {\n",
       "        vertical-align: middle;\n",
       "    }\n",
       "\n",
       "    .dataframe tbody tr th {\n",
       "        vertical-align: top;\n",
       "    }\n",
       "\n",
       "    .dataframe thead th {\n",
       "        text-align: right;\n",
       "    }\n",
       "</style>\n",
       "<table border=\"1\" class=\"dataframe\">\n",
       "  <thead>\n",
       "    <tr style=\"text-align: right;\">\n",
       "      <th></th>\n",
       "      <th>additional_number_of_scoring</th>\n",
       "      <th>average_score</th>\n",
       "      <th>review_total_negative_word_counts</th>\n",
       "      <th>total_number_of_reviews</th>\n",
       "      <th>review_total_positive_word_counts</th>\n",
       "      <th>total_number_of_reviews_reviewer_has_given</th>\n",
       "      <th>lat</th>\n",
       "      <th>lng</th>\n",
       "    </tr>\n",
       "  </thead>\n",
       "  <tbody>\n",
       "    <tr>\n",
       "      <th>0</th>\n",
       "      <td>581</td>\n",
       "      <td>8.4</td>\n",
       "      <td>3</td>\n",
       "      <td>1994</td>\n",
       "      <td>4</td>\n",
       "      <td>7</td>\n",
       "      <td>51.507894</td>\n",
       "      <td>0.143671</td>\n",
       "    </tr>\n",
       "    <tr>\n",
       "      <th>1</th>\n",
       "      <td>299</td>\n",
       "      <td>8.3</td>\n",
       "      <td>3</td>\n",
       "      <td>1361</td>\n",
       "      <td>2</td>\n",
       "      <td>14</td>\n",
       "      <td>51.521009</td>\n",
       "      <td>0.123097</td>\n",
       "    </tr>\n",
       "    <tr>\n",
       "      <th>2</th>\n",
       "      <td>32</td>\n",
       "      <td>8.9</td>\n",
       "      <td>6</td>\n",
       "      <td>406</td>\n",
       "      <td>0</td>\n",
       "      <td>14</td>\n",
       "      <td>48.845377</td>\n",
       "      <td>2.325643</td>\n",
       "    </tr>\n",
       "    <tr>\n",
       "      <th>3</th>\n",
       "      <td>34</td>\n",
       "      <td>7.5</td>\n",
       "      <td>0</td>\n",
       "      <td>607</td>\n",
       "      <td>11</td>\n",
       "      <td>8</td>\n",
       "      <td>48.888697</td>\n",
       "      <td>2.394540</td>\n",
       "    </tr>\n",
       "    <tr>\n",
       "      <th>4</th>\n",
       "      <td>914</td>\n",
       "      <td>8.5</td>\n",
       "      <td>4</td>\n",
       "      <td>7586</td>\n",
       "      <td>20</td>\n",
       "      <td>10</td>\n",
       "      <td>52.385601</td>\n",
       "      <td>4.847060</td>\n",
       "    </tr>\n",
       "    <tr>\n",
       "      <th>...</th>\n",
       "      <td>...</td>\n",
       "      <td>...</td>\n",
       "      <td>...</td>\n",
       "      <td>...</td>\n",
       "      <td>...</td>\n",
       "      <td>...</td>\n",
       "      <td>...</td>\n",
       "      <td>...</td>\n",
       "    </tr>\n",
       "    <tr>\n",
       "      <th>386798</th>\n",
       "      <td>107</td>\n",
       "      <td>9.0</td>\n",
       "      <td>0</td>\n",
       "      <td>617</td>\n",
       "      <td>10</td>\n",
       "      <td>10</td>\n",
       "      <td>51.494028</td>\n",
       "      <td>0.191050</td>\n",
       "    </tr>\n",
       "    <tr>\n",
       "      <th>386799</th>\n",
       "      <td>272</td>\n",
       "      <td>8.4</td>\n",
       "      <td>0</td>\n",
       "      <td>3224</td>\n",
       "      <td>93</td>\n",
       "      <td>1</td>\n",
       "      <td>48.192379</td>\n",
       "      <td>16.399451</td>\n",
       "    </tr>\n",
       "    <tr>\n",
       "      <th>386800</th>\n",
       "      <td>457</td>\n",
       "      <td>6.8</td>\n",
       "      <td>12</td>\n",
       "      <td>2751</td>\n",
       "      <td>9</td>\n",
       "      <td>21</td>\n",
       "      <td>51.520795</td>\n",
       "      <td>0.131084</td>\n",
       "    </tr>\n",
       "    <tr>\n",
       "      <th>386801</th>\n",
       "      <td>365</td>\n",
       "      <td>8.1</td>\n",
       "      <td>0</td>\n",
       "      <td>1567</td>\n",
       "      <td>6</td>\n",
       "      <td>28</td>\n",
       "      <td>51.515125</td>\n",
       "      <td>0.160066</td>\n",
       "    </tr>\n",
       "    <tr>\n",
       "      <th>386802</th>\n",
       "      <td>222</td>\n",
       "      <td>9.0</td>\n",
       "      <td>20</td>\n",
       "      <td>1209</td>\n",
       "      <td>20</td>\n",
       "      <td>2</td>\n",
       "      <td>51.493109</td>\n",
       "      <td>0.190208</td>\n",
       "    </tr>\n",
       "  </tbody>\n",
       "</table>\n",
       "<p>386803 rows × 8 columns</p>\n",
       "</div>"
      ],
      "text/plain": [
       "        additional_number_of_scoring  average_score  \\\n",
       "0                                581            8.4   \n",
       "1                                299            8.3   \n",
       "2                                 32            8.9   \n",
       "3                                 34            7.5   \n",
       "4                                914            8.5   \n",
       "...                              ...            ...   \n",
       "386798                           107            9.0   \n",
       "386799                           272            8.4   \n",
       "386800                           457            6.8   \n",
       "386801                           365            8.1   \n",
       "386802                           222            9.0   \n",
       "\n",
       "        review_total_negative_word_counts  total_number_of_reviews  \\\n",
       "0                                       3                     1994   \n",
       "1                                       3                     1361   \n",
       "2                                       6                      406   \n",
       "3                                       0                      607   \n",
       "4                                       4                     7586   \n",
       "...                                   ...                      ...   \n",
       "386798                                  0                      617   \n",
       "386799                                  0                     3224   \n",
       "386800                                 12                     2751   \n",
       "386801                                  0                     1567   \n",
       "386802                                 20                     1209   \n",
       "\n",
       "        review_total_positive_word_counts  \\\n",
       "0                                       4   \n",
       "1                                       2   \n",
       "2                                       0   \n",
       "3                                      11   \n",
       "4                                      20   \n",
       "...                                   ...   \n",
       "386798                                 10   \n",
       "386799                                 93   \n",
       "386800                                  9   \n",
       "386801                                  6   \n",
       "386802                                 20   \n",
       "\n",
       "        total_number_of_reviews_reviewer_has_given        lat        lng  \n",
       "0                                                7  51.507894   0.143671  \n",
       "1                                               14  51.521009   0.123097  \n",
       "2                                               14  48.845377   2.325643  \n",
       "3                                                8  48.888697   2.394540  \n",
       "4                                               10  52.385601   4.847060  \n",
       "...                                            ...        ...        ...  \n",
       "386798                                          10  51.494028   0.191050  \n",
       "386799                                           1  48.192379  16.399451  \n",
       "386800                                          21  51.520795   0.131084  \n",
       "386801                                          28  51.515125   0.160066  \n",
       "386802                                           2  51.493109   0.190208  \n",
       "\n",
       "[386803 rows x 8 columns]"
      ]
     },
     "execution_count": 40,
     "metadata": {},
     "output_type": "execute_result"
    }
   ],
   "source": [
    "X"
   ]
  },
  {
   "cell_type": "code",
   "execution_count": 41,
   "metadata": {},
   "outputs": [
    {
     "data": {
      "text/plain": [
       "<AxesSubplot: >"
      ]
     },
     "execution_count": 41,
     "metadata": {},
     "output_type": "execute_result"
    },
    {
     "data": {
      "image/png": "[encoded data removed]",
      "text/plain": [
       "<Figure size 640x480 with 1 Axes>"
      ]
     },
     "metadata": {},
     "output_type": "display_data"
    }
   ],
   "source": [
    "y=y.astype('int')\n",
    "\n",
    "from sklearn.feature_selection import chi2 # хи-квадрат\n",
    "\n",
    "imp_cat = pd.Series(chi2(X[cat_cols], y)[0], index=cat_cols)\n",
    "imp_cat.sort_values(inplace = True)\n",
    "imp_cat.plot(kind = 'barh')"
   ]
  },
  {
   "cell_type": "code",
   "execution_count": 50,
   "metadata": {},
   "outputs": [],
   "source": [
    "# Загружаем специальный инструмент для разбивки:  \n",
    "from sklearn.model_selection import train_test_split  "
   ]
  },
  {
   "cell_type": "code",
   "execution_count": 51,
   "metadata": {},
   "outputs": [],
   "source": [
    "# Наборы данных с меткой \"train\" будут использоваться для обучения модели, \"test\" - для тестирования.  \n",
    "# Для тестирования мы будем использовать 25% от исходного датасета.  \n",
    "X_train, X_test, y_train, y_test = train_test_split(X, y, test_size=0.25, random_state=42)"
   ]
  },
  {
   "cell_type": "code",
   "execution_count": 52,
   "metadata": {},
   "outputs": [],
   "source": [
    "# Импортируем необходимые библиотеки:  \n",
    "from sklearn.ensemble import RandomForestRegressor # инструмент для создания и обучения модели  \n",
    "from sklearn import metrics # инструменты для оценки точности модели  \n",
    "  \n",
    "# Создаём модель  \n",
    "regr = RandomForestRegressor(n_estimators=100)  \n",
    "      \n",
    "# Обучаем модель на тестовом наборе данных  \n",
    "regr.fit(X_train, y_train)  \n",
    "      \n",
    "# Используем обученную модель для предсказания рейтинга отелей в тестовой выборке.  \n",
    "# Предсказанные значения записываем в переменную y_pred  \n",
    "y_pred = regr.predict(X_test)  \n"
   ]
  },
  {
   "cell_type": "code",
   "execution_count": 53,
   "metadata": {},
   "outputs": [
    {
     "name": "stdout",
     "output_type": "stream",
     "text": [
      "MAPE: 0.1413842177998976\n"
     ]
    }
   ],
   "source": [
    "# Сравниваем предсказанные значения (y_pred) с реальными (y_test), и смотрим насколько они отличаются  \n",
    "# Метрика называется Mean Absolute Percentage Error (MAPE) и показывает среднюю абсолютную процентную ошибку предсказанных значений от фактических.  \n",
    "print('MAPE:', metrics.mean_absolute_percentage_error(y_test, y_pred))"
   ]
  },
  {
   "attachments": {},
   "cell_type": "markdown",
   "metadata": {},
   "source": [
    "Небольшой бонус:\n"
   ]
  },
  {
   "cell_type": "code",
   "execution_count": 10,
   "metadata": {},
   "outputs": [],
   "source": [
    "# # убираем признаки которые еще не успели обработать, \n",
    "# # модель на признаках с dtypes \"object\" обучаться не будет, просто выберим их и удалим\n",
    "# object_columns = [s for s in hotels.columns if hotels[s].dtypes == 'object']\n",
    "# hotels.drop(object_columns, axis = 1, inplace=True)\n",
    "\n",
    "# # заполняем пропуски самым простым способом\n",
    "# hotels = hotels.fillna(0)"
   ]
  }
 ],
 "metadata": {
  "kernelspec": {
   "display_name": "Python 3",
   "language": "python",
   "name": "python3"
  },
  "language_info": {
   "codemirror_mode": {
    "name": "ipython",
    "version": 3
   },
   "file_extension": ".py",
   "mimetype": "text/x-python",
   "name": "python",
   "nbconvert_exporter": "python",
   "pygments_lexer": "ipython3",
   "version": "3.9.10"
  }
 },
 "nbformat": 4,
 "nbformat_minor": 2
}
