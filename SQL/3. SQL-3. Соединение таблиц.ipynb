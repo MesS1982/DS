{
 "cells": [
  {
   "cell_type": "code",
   "execution_count": 26,
   "metadata": {},
   "outputs": [],
   "source": [
    "import pandas as pd\n",
    "import psycopg2\n",
    "from sqlalchemy import create_engine"
   ]
  },
  {
   "cell_type": "code",
   "execution_count": 27,
   "metadata": {},
   "outputs": [],
   "source": [
    "DBNAME = 'skillfactory'\n",
    "USER = 'skillfactory'\n",
    "PASSWORD = 'cCkxxLVrDE8EbvjueeMedPKt'\n",
    "HOST = '84.201.134.129'\n",
    "PORT = 5432"
   ]
  },
  {
   "cell_type": "code",
   "execution_count": 28,
   "metadata": {},
   "outputs": [],
   "source": [
    "postgres_str = ('postgresql://{username}:{password}@{ipaddress}:{port}/{dbname}'\n",
    "    .format(username=USER,\n",
    "    password=PASSWORD,\n",
    "    ipaddress=HOST,\n",
    "    port=PORT,\n",
    "    dbname=DBNAME))\n",
    "# Create the connection\n",
    "cnx = create_engine(postgres_str)"
   ]
  },
  {
   "cell_type": "code",
   "execution_count": 29,
   "metadata": {},
   "outputs": [],
   "source": [
    "n = 10\n",
    "query = f'''select * \n",
    "            from sql.pokemon \n",
    "            limit {n}\n",
    "         '''"
   ]
  },
  {
   "cell_type": "code",
   "execution_count": 35,
   "metadata": {},
   "outputs": [],
   "source": [
    "# Используя LEFT JOIN, выведите список уникальных названий команд, содержащихся в таблице matches. \n",
    "# Отсортируйте список в алфавитном порядке.\n",
    "\n",
    "query = f'''select\n",
    " distinct t.long_name\n",
    "\n",
    "from\n",
    "    sql.matches as m\n",
    "    \n",
    "left join \n",
    "    sql.teams as t on m.home_team_api_id = t.api_id or m.away_team_api_id = t.api_id\n",
    "    \n",
    "order by t.long_name\n",
    "         '''"
   ]
  },
  {
   "cell_type": "code",
   "execution_count": 36,
   "metadata": {},
   "outputs": [],
   "source": [
    "connection = psycopg2.connect(\n",
    "    dbname=DBNAME,\n",
    "    user=USER,\n",
    "    host=HOST,\n",
    "    password=PASSWORD,\n",
    "    port=PORT\n",
    ")"
   ]
  },
  {
   "cell_type": "code",
   "execution_count": 37,
   "metadata": {},
   "outputs": [
    {
     "name": "stderr",
     "output_type": "stream",
     "text": [
      "C:\\Users\\u1\\AppData\\Local\\Temp\\ipykernel_2484\\137330334.py:1: UserWarning: pandas only supports SQLAlchemy connectable (engine/connection) or database string URI or sqlite3 DBAPI2 connection. Other DBAPI2 objects are not tested. Please consider using SQLAlchemy.\n",
      "  df = pd.read_sql_query(query, connection)\n"
     ]
    },
    {
     "data": {
      "text/html": [
       "<div>\n",
       "<style scoped>\n",
       "    .dataframe tbody tr th:only-of-type {\n",
       "        vertical-align: middle;\n",
       "    }\n",
       "\n",
       "    .dataframe tbody tr th {\n",
       "        vertical-align: top;\n",
       "    }\n",
       "\n",
       "    .dataframe thead th {\n",
       "        text-align: right;\n",
       "    }\n",
       "</style>\n",
       "<table border=\"1\" class=\"dataframe\">\n",
       "  <thead>\n",
       "    <tr style=\"text-align: right;\">\n",
       "      <th></th>\n",
       "      <th>long_name</th>\n",
       "    </tr>\n",
       "  </thead>\n",
       "  <tbody>\n",
       "    <tr>\n",
       "      <th>0</th>\n",
       "      <td>1. FC Kaiserslautern</td>\n",
       "    </tr>\n",
       "    <tr>\n",
       "      <th>1</th>\n",
       "      <td>1. FC Köln</td>\n",
       "    </tr>\n",
       "    <tr>\n",
       "      <th>2</th>\n",
       "      <td>1. FC Nürnberg</td>\n",
       "    </tr>\n",
       "    <tr>\n",
       "      <th>3</th>\n",
       "      <td>1. FSV Mainz 05</td>\n",
       "    </tr>\n",
       "    <tr>\n",
       "      <th>4</th>\n",
       "      <td>Aberdeen</td>\n",
       "    </tr>\n",
       "    <tr>\n",
       "      <th>...</th>\n",
       "      <td>...</td>\n",
       "    </tr>\n",
       "    <tr>\n",
       "      <th>284</th>\n",
       "      <td>Wisła Kraków</td>\n",
       "    </tr>\n",
       "    <tr>\n",
       "      <th>285</th>\n",
       "      <td>Wolverhampton Wanderers</td>\n",
       "    </tr>\n",
       "    <tr>\n",
       "      <th>286</th>\n",
       "      <td>Xerez Club Deportivo</td>\n",
       "    </tr>\n",
       "    <tr>\n",
       "      <th>287</th>\n",
       "      <td>Zagłębie Lubin</td>\n",
       "    </tr>\n",
       "    <tr>\n",
       "      <th>288</th>\n",
       "      <td>Zawisza Bydgoszcz</td>\n",
       "    </tr>\n",
       "  </tbody>\n",
       "</table>\n",
       "<p>289 rows × 1 columns</p>\n",
       "</div>"
      ],
      "text/plain": [
       "                   long_name\n",
       "0       1. FC Kaiserslautern\n",
       "1                 1. FC Köln\n",
       "2             1. FC Nürnberg\n",
       "3            1. FSV Mainz 05\n",
       "4                   Aberdeen\n",
       "..                       ...\n",
       "284             Wisła Kraków\n",
       "285  Wolverhampton Wanderers\n",
       "286     Xerez Club Deportivo\n",
       "287           Zagłębie Lubin\n",
       "288        Zawisza Bydgoszcz\n",
       "\n",
       "[289 rows x 1 columns]"
      ]
     },
     "execution_count": 37,
     "metadata": {},
     "output_type": "execute_result"
    }
   ],
   "source": [
    "df = pd.read_sql_query(query, connection)\n",
    "df"
   ]
  },
  {
   "attachments": {},
   "cell_type": "markdown",
   "metadata": {},
   "source": [
    "Таблица teams с данными о командах\n",
    "Название столбца\n",
    "Содержимое столбца\n",
    "id\tid команды\n",
    "api_id\tключ на таблицу matches\n",
    "long_name\tполное название команды\n",
    "short_name\tсокращённое название команды"
   ]
  },
  {
   "attachments": {},
   "cell_type": "markdown",
   "metadata": {},
   "source": [
    "Таблица matches с данными о матчах\n",
    "Название столбца\n",
    "Содержимое столбца\n",
    "id\tid матча\n",
    "season\tсезон\n",
    "date\tдата матча\n",
    "home_team_api_id\tapi_id домашней команды, ключ на таблицу teams\n",
    "away_team_api_id\tapi_id гостевой команды, ключ на таблицу teams\n",
    "home_team_goals\tколичество голов домашней команды\n",
    "away_team_goals\tколичество голов гостевой команды"
   ]
  },
  {
   "cell_type": "code",
   "execution_count": null,
   "metadata": {},
   "outputs": [],
   "source": [
    "# Используя LEFT JOIN, напишите запрос, который выведет полное название команды (long_name), \n",
    "# количество матчей, в которых участвовала команда, — домашних и гостевых (matches_cnt). \n",
    "# Отсортируйте по количеству матчей в порядке возрастания, затем — по названию команды в алфавитном порядке.\n",
    "\n"
   ]
  }
 ],
 "metadata": {
  "kernelspec": {
   "display_name": "Python 3",
   "language": "python",
   "name": "python3"
  },
  "language_info": {
   "codemirror_mode": {
    "name": "ipython",
    "version": 3
   },
   "file_extension": ".py",
   "mimetype": "text/x-python",
   "name": "python",
   "nbconvert_exporter": "python",
   "pygments_lexer": "ipython3",
   "version": "3.9.10"
  },
  "orig_nbformat": 4,
  "vscode": {
   "interpreter": {
    "hash": "e563b20a463c464f34e1bb02005c577e36b7a645b96b80c63322fa525100086a"
   }
  }
 },
 "nbformat": 4,
 "nbformat_minor": 2
}
