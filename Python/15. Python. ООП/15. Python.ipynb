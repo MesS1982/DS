{
 "cells": [
  {
   "cell_type": "code",
   "execution_count": 13,
   "metadata": {},
   "outputs": [
    {
     "name": "stdout",
     "output_type": "stream",
     "text": [
      "[1000000, 400000]\n",
      "700000.0\n"
     ]
    }
   ],
   "source": [
    "# Допишите определение класса DepartmentReport, \n",
    "# который выводит отчёт по отделам компании. У него должны быть определены:\n",
    "\n",
    "# атрибут revenues — список, где мы храним значения выручки отделов;\n",
    "# метод add_revenue, который добавляет выручку одного отдела;\n",
    "# метод average_revenue, который возвращает среднюю выручку по всем отделам.\n",
    "# В случае правильного описания класса код, приведённый ниже, должен выдать следующий результат:\n",
    "\n",
    "class DepartmentReport():\n",
    "    \n",
    "    def add_revenue(self, revenue):\n",
    "        if not hasattr(self, 'revenues'):\n",
    "            self.revenues = []\n",
    "        self.revenues.append(revenue)\n",
    "            \n",
    "    def average_revenue(self):\n",
    "        return sum(self.revenues) / len(self.revenues)\n",
    "        \n",
    "    \n",
    "report = DepartmentReport()\n",
    "report.add_revenue(1_000_000)\n",
    "report.add_revenue(400_000)\n",
    "print(report.revenues)\n",
    "# [1000000, 400000]\n",
    "print(report.average_revenue())\n",
    "# 700000.0"
   ]
  },
  {
   "cell_type": "code",
   "execution_count": 32,
   "metadata": {},
   "outputs": [
    {
     "name": "stdout",
     "output_type": "stream",
     "text": [
      "Average department revenue for Danon: 700000\n"
     ]
    }
   ],
   "source": [
    "# Улучшите класс DepartmentReport. \n",
    "# Класс при инициализации должен принимать переменную company_name и инициализировать её значением атрибут company,\n",
    "# а также инициализировать атрибут revenues пустым списком. \n",
    "# Метод average_revenue должен возвращать строку \n",
    "# \"Average department revenue for (company_name): (average_revenue)\".\n",
    "\n",
    "# В случае правильного описания класса код, приведённый ниже, должен выдать следующий результат:\n",
    "\n",
    "class DepartmentReport():\n",
    "    def __init__(self, company_name):  \n",
    "        self.revenues = []  \n",
    "        self.company = company_name\n",
    "    \n",
    "    def add_revenue(self, revenue):\n",
    "        self.revenues.append(revenue)\n",
    "            \n",
    "    def average_revenue(self):\n",
    "        average_revenue = round(sum(self.revenues) / len(self.revenues))\n",
    "        return (f\"Average department revenue for {self.company}: {average_revenue}\")\n",
    "\n",
    "report = DepartmentReport(\"Danon\")\n",
    "report.add_revenue(1_000_000)\n",
    "report.add_revenue(400_000)\n",
    "\n",
    "print(report.average_revenue())\n",
    "# Average department revenue for Danon: 700000\n",
    "# Подсказка числовое значение округлите до целого библиотечной функцией round."
   ]
  },
  {
   "cell_type": "code",
   "execution_count": 14,
   "metadata": {},
   "outputs": [
    {
     "name": "stdout",
     "output_type": "stream",
     "text": [
      "Total sales: 40000\n"
     ]
    }
   ],
   "source": [
    "class SalesReport():  \n",
    "    # Позволим добавлять много разных сделок   \n",
    "    def add_deal(self, amount):   \n",
    "        # На первой сделке создадим список для хранения всех сделок   \n",
    "        if not hasattr(self, 'deals'):  \n",
    "            self.deals = []  \n",
    "        # Добавим текущую сделку  \n",
    "        self.deals.append(amount)  \n",
    "          \n",
    "    # Посчитаем сумму всех сделок      \n",
    "    def total_amount(self):  \n",
    "        return sum(self.deals)  \n",
    "      \n",
    "    def print_report(self):  \n",
    "        print(\"Total sales:\", self.total_amount())  \n",
    "          \n",
    "# Используем наши новые возможности  \n",
    "# Добавим две сделки и распечатаем отчёт  \n",
    "report = SalesReport()  \n",
    "report.add_deal(10_000)  \n",
    "report.add_deal(30_000)  \n",
    "report.print_report() # => Total sales: 40000  "
   ]
  },
  {
   "cell_type": "code",
   "execution_count": 35,
   "metadata": {},
   "outputs": [
    {
     "name": "stdout",
     "output_type": "stream",
     "text": [
      "False\n",
      "True\n",
      "19700\n"
     ]
    }
   ],
   "source": [
    "# Задание 5.1\n",
    "# Определите класс для пользователей User.\n",
    "\n",
    "# У него должны быть:\n",
    "\n",
    "# атрибуты email, password и balance, которые устанавливаются при инициализации;\n",
    "# метод login, который принимает емайл и пароль. Если они совпадают с атрибутами объекта, \n",
    "# он возвращает True, а иначе —False;\n",
    "# метод update_balance(amount), который изменяет баланс счёта на величину amount.\n",
    "# В случае правильного описания класса код, приведённый ниже, должен выдать следующий результат:\n",
    "\n",
    "class User():\n",
    "    def __init__(self, email, password, balance):\n",
    "        self.email = email\n",
    "        self.password = password\n",
    "        self.balance = balance\n",
    "    \n",
    "    def login(self, email, password):\n",
    "        if (email == self.email) and (password == self.password):\n",
    "            return True\n",
    "        else:\n",
    "            return False\n",
    "        \n",
    "    def update_balance(self, amount):\n",
    "        self.balance += amount\n",
    "        return self.balance\n",
    "        \n",
    "\n",
    "\n",
    "user = User(\"gosha@roskino.org\", \"qwerty\", 20_000)\n",
    "print(user.login(\"gosha@roskino.org\", \"qwerty123\"))\n",
    "# False\n",
    "print(user.login(\"gosha@roskino.org\", \"qwerty\"))\n",
    "# True\n",
    "user.update_balance(200)\n",
    "user.update_balance(-500)\n",
    "print(user.balance)\n",
    "# 19700"
   ]
  },
  {
   "cell_type": "code",
   "execution_count": 51,
   "metadata": {},
   "outputs": [
    {
     "name": "stdout",
     "output_type": "stream",
     "text": [
      "[4, 4, 3, 0, 2, 0, 4]\n"
     ]
    },
    {
     "data": {
      "text/plain": [
       "4"
      ]
     },
     "execution_count": 51,
     "metadata": {},
     "output_type": "execute_result"
    }
   ],
   "source": [
    "# Задание 5.2\n",
    "# Определите класс IntDataFrame, который принимает список неотрицательных \n",
    "# чисел и приводит к целым значениям все числа в этом списке. \n",
    "# После этого становится доступен метод count, который считает количество ненулевых элементов, \n",
    "# и метод unique, который возвращает число уникальных элементов.\n",
    "\n",
    "# В случае правильного описания класса код, приведённый ниже, должен выдать следующий результат:\n",
    "\n",
    "class IntDataFrame():\n",
    "    def __init__(self, lst) -> None:\n",
    "        self.lst = lst\n",
    "        self.to_int()\n",
    "        \n",
    "    def to_int(self):\n",
    "        self.lst = [int(a) for a in self.lst]\n",
    "        print(self.lst)\n",
    "        \n",
    "    def count(self):\n",
    "        cnt = 0\n",
    "        for num in self.lst:\n",
    "            if num != 0:\n",
    "                cnt += 1\n",
    "        return cnt\n",
    "    \n",
    "    def unique(self):\n",
    "        unq = []\n",
    "        for num in self.lst:\n",
    "            if num in unq:\n",
    "                continue\n",
    "            else:\n",
    "                unq.append(num)\n",
    "        return len(unq)\n",
    "        \n",
    "df = IntDataFrame([4.7, 4, 3, 0, 2.4, 0.3, 4])\n",
    "\n",
    "df.count()\n",
    "# 5\n",
    "df.unique()\n",
    "# 4"
   ]
  },
  {
   "cell_type": "code",
   "execution_count": 52,
   "metadata": {},
   "outputs": [
    {
     "name": "stdout",
     "output_type": "stream",
     "text": [
      "{'perfomance': [10, 20, 10], 'clients': {'Romashka': 10, 'Vector': 34}}\n"
     ]
    }
   ],
   "source": [
    "import pickle  \n",
    "from datetime import datetime  \n",
    "from os import path  \n",
    "  \n",
    "class Dumper():  \n",
    "    def __init__(self, archive_dir=\"archive/\"):  \n",
    "        self.archive_dir = archive_dir  \n",
    "          \n",
    "    def dump(self, data):  \n",
    "        # Библиотека pickle позволяет доставать и класть объекты в файл  \n",
    "        with open(self.get_file_name(), 'wb') as file:  \n",
    "            pickle.dump(data, file)  \n",
    "              \n",
    "    def load_for_day(self, day):  \n",
    "        file_name = path.join(self.archive_dir, day + \".pkl\")   \n",
    "        with open(file_name, 'rb') as file:  \n",
    "            sets = pickle.load(file)  \n",
    "        return sets  \n",
    "          \n",
    "    # возвращает корректное имя для файла   \n",
    "    def get_file_name(self):   \n",
    "        today = datetime.now().strftime(\"%y-%m-%d\")   \n",
    "        return path.join(self.archive_dir, today + \".pkl\")  \n",
    "      \n",
    "      \n",
    "# Пример использования  \n",
    "  \n",
    "data = {  \n",
    "    'perfomance': [10, 20, 10],  \n",
    "    'clients': {\"Romashka\": 10, \"Vector\": 34}  \n",
    "}  \n",
    "  \n",
    "  \n",
    "dumper = Dumper()  \n",
    "  \n",
    "# Сохраним данные  \n",
    "dumper.dump(data)  \n",
    "  \n",
    "# Восстановим для сегодняшней даты  \n",
    "file_name = datetime.now().strftime(\"%y-%m-%d\")\n",
    "restored_data = dumper.load_for_day(file_name)\n",
    "print(restored_data)  \n",
    "# => {'perfomance': [10, 20, 10], 'clients': {'Romashka': 10, 'Vector': 34}}  "
   ]
  },
  {
   "cell_type": "code",
   "execution_count": 59,
   "metadata": {},
   "outputs": [
    {
     "name": "stdout",
     "output_type": "stream",
     "text": [
      "None\n",
      "Connection lost\n",
      "System started\n"
     ]
    }
   ],
   "source": [
    "# Задание 5.3\n",
    "# Напишите класс сборщика технических сообщений OwnLogger.\n",
    "\n",
    "# У него должен быть\n",
    "\n",
    "# атрибут logs, содержащий {\"info\": None, \"warning\": None, \"error\": None, \"all\": None}.\n",
    "# метод log(message, level), который записывает сообщения. \n",
    "# Здесь сообщение message может быть любым, а level — один из \"info\", \"warning\", \"error\".\n",
    "# метод show_last(level), где level может быть \"info\", \"warning\", \"error\", \"all\".\n",
    "# Для \"all\" он просто возвращает последнее добавленное сообщение, \n",
    "# а для остальных — последнее поступившее сообщение соответствующего уровня. \n",
    "# При этом по умолчанию значение именно \"all\".\n",
    "\n",
    "# Если подходящего сообщения нет, возвращает None.\n",
    "\n",
    "# В случае правильного описания класса код, приведённый ниже, должен выдать следующий результат:\n",
    "\n",
    "class OwnLogger():\n",
    "    def __init__(self):\n",
    "        self.logs = {\"info\": None, \"warning\": None, \"error\": None, \"all\": None}\n",
    "        \n",
    "    def log(self, message, level):\n",
    "        # if level not in [\"info\", \"warning\", \"error\", \"all\"]:\n",
    "        #     return 'log error'\n",
    "        self.logs[level] = message\n",
    "        self.logs['all'] = message\n",
    "        \n",
    "    def show_last(self, level='all'):\n",
    "        return self.logs[level]\n",
    "    \n",
    "        \n",
    "    \n",
    "\n",
    "logger = OwnLogger()\n",
    "logger.log(\"System started\", \"info\")\n",
    "print(logger.show_last(\"error\"))\n",
    "# None\n",
    "# Некоторые интерпретаторы Python могут не выводить None, тогда в этой проверке у вас будет пустая строка\n",
    "logger.log(\"Connection instable\", \"warning\")\n",
    "logger.log(\"Connection lost\", \"error\")\n",
    "\n",
    "print(logger.show_last())\n",
    "# Connection lost\n",
    "print(logger.show_last(\"info\"))\n",
    "# System started"
   ]
  },
  {
   "cell_type": "code",
   "execution_count": 65,
   "metadata": {},
   "outputs": [
    {
     "data": {
      "text/plain": [
       "'Paw'"
      ]
     },
     "execution_count": 65,
     "metadata": {},
     "output_type": "execute_result"
    }
   ],
   "source": [
    "# Задание 6.3\n",
    "# Определите класс Dog, у которого есть методы bark и give_paw. \n",
    "# При этом, пусть методы принимают список из любого количества аргументов.\n",
    "\n",
    "# bark возвращает строку \"Bark!\"\n",
    "# give_paw возвращает строку \"Paw\"\n",
    "\n",
    "class Dog():\n",
    "    \n",
    "    def bark(*self):\n",
    "        return \"Bark!\"\n",
    "    \n",
    "    def give_paw(*self):\n",
    "        return \"Paw\"\n",
    "    \n",
    "get = Dog()\n",
    "get.give_paw(['d', 'd'])"
   ]
  },
  {
   "cell_type": "code",
   "execution_count": 73,
   "metadata": {},
   "outputs": [
    {
     "name": "stdout",
     "output_type": "stream",
     "text": [
      "d:\\documents\\SkillFactory\\IDE\\Python\\15. Python. ООП\\test\n"
     ]
    },
    {
     "data": {
      "text/plain": [
       "<generator object _walk at 0x000001ED2A9A30B0>"
      ]
     },
     "execution_count": 73,
     "metadata": {},
     "output_type": "execute_result"
    }
   ],
   "source": [
    "import os\n",
    "my_dir = os.getcwd()\n",
    "\n",
    "print(os.path.join(my_dir, 'test'))"
   ]
  },
  {
   "cell_type": "code",
   "execution_count": 77,
   "metadata": {},
   "outputs": [
    {
     "name": "stdout",
     "output_type": "stream",
     "text": [
      "Текущая директория d:\\documents\\SkillFactory\\IDE\\Python\n",
      "---\n",
      "Список папок ['10. Python. Pandas', '11. Python. Pandas', '12. Python. Pandas', '13. Python. Визуализация', '14. Python. Очистка данных', '15. Python. ООП']\n",
      "---\n",
      "Список файлов ['9. Python. NumPy.ipynb']\n",
      "---\n",
      "Все пути:\n",
      "Файл  d:\\documents\\SkillFactory\\IDE\\Python\\9. Python. NumPy.ipynb\n",
      "Папка  d:\\documents\\SkillFactory\\IDE\\Python\\10. Python. Pandas\n",
      "Папка  d:\\documents\\SkillFactory\\IDE\\Python\\11. Python. Pandas\n",
      "Папка  d:\\documents\\SkillFactory\\IDE\\Python\\12. Python. Pandas\n",
      "Папка  d:\\documents\\SkillFactory\\IDE\\Python\\13. Python. Визуализация\n",
      "Папка  d:\\documents\\SkillFactory\\IDE\\Python\\14. Python. Очистка данных\n",
      "Папка  d:\\documents\\SkillFactory\\IDE\\Python\\15. Python. ООП\n",
      "===\n",
      "Текущая директория d:\\documents\\SkillFactory\\IDE\\Python\\10. Python. Pandas\n",
      "---\n",
      "Список папок ['data']\n",
      "---\n",
      "Список файлов ['10.Python. Pandas.ipynb']\n",
      "---\n",
      "Все пути:\n",
      "Файл  d:\\documents\\SkillFactory\\IDE\\Python\\10. Python. Pandas\\10.Python. Pandas.ipynb\n",
      "Папка  d:\\documents\\SkillFactory\\IDE\\Python\\10. Python. Pandas\\data\n",
      "===\n",
      "Текущая директория d:\\documents\\SkillFactory\\IDE\\Python\\10. Python. Pandas\\data\n",
      "---\n",
      "Папок нет\n",
      "---\n",
      "Список файлов ['countries.csv', 'melb_data.csv', 'students_performance.csv']\n",
      "---\n",
      "Файл  d:\\documents\\SkillFactory\\IDE\\Python\\10. Python. Pandas\\data\\countries.csv\n",
      "Файл  d:\\documents\\SkillFactory\\IDE\\Python\\10. Python. Pandas\\data\\melb_data.csv\n",
      "Файл  d:\\documents\\SkillFactory\\IDE\\Python\\10. Python. Pandas\\data\\students_performance.csv\n",
      "===\n",
      "Текущая директория d:\\documents\\SkillFactory\\IDE\\Python\\11. Python. Pandas\n",
      "---\n",
      "Список папок ['data']\n",
      "---\n",
      "Список файлов ['11. Python. Pandas.ipynb']\n",
      "---\n",
      "Все пути:\n",
      "Файл  d:\\documents\\SkillFactory\\IDE\\Python\\11. Python. Pandas\\11. Python. Pandas.ipynb\n",
      "Папка  d:\\documents\\SkillFactory\\IDE\\Python\\11. Python. Pandas\\data\n",
      "===\n",
      "Текущая директория d:\\documents\\SkillFactory\\IDE\\Python\\11. Python. Pandas\\data\n",
      "---\n",
      "Папок нет\n",
      "---\n",
      "Список файлов ['citibike-tripdata.csv', 'melb_data_ps.csv', 'melb_data_ps_copy.csv', 'melb_df_ps_copy.csv', 'ufo.csv']\n",
      "---\n",
      "Файл  d:\\documents\\SkillFactory\\IDE\\Python\\11. Python. Pandas\\data\\citibike-tripdata.csv\n",
      "Файл  d:\\documents\\SkillFactory\\IDE\\Python\\11. Python. Pandas\\data\\melb_data_ps.csv\n",
      "Файл  d:\\documents\\SkillFactory\\IDE\\Python\\11. Python. Pandas\\data\\melb_data_ps_copy.csv\n",
      "Файл  d:\\documents\\SkillFactory\\IDE\\Python\\11. Python. Pandas\\data\\melb_df_ps_copy.csv\n",
      "Файл  d:\\documents\\SkillFactory\\IDE\\Python\\11. Python. Pandas\\data\\ufo.csv\n",
      "===\n",
      "Текущая директория d:\\documents\\SkillFactory\\IDE\\Python\\12. Python. Pandas\n",
      "---\n",
      "Список папок ['data']\n",
      "---\n",
      "Список файлов ['12. Python. Pandas.ipynb']\n",
      "---\n",
      "Все пути:\n",
      "Файл  d:\\documents\\SkillFactory\\IDE\\Python\\12. Python. Pandas\\12. Python. Pandas.ipynb\n",
      "Папка  d:\\documents\\SkillFactory\\IDE\\Python\\12. Python. Pandas\\data\n",
      "===\n",
      "Текущая директория d:\\documents\\SkillFactory\\IDE\\Python\\12. Python. Pandas\\data\n",
      "---\n",
      "Список папок ['movies_data', 'orders_and_products']\n",
      "---\n",
      "Список файлов ['melb_data_fe.csv', 'ratings_movies.csv']\n",
      "---\n",
      "Все пути:\n",
      "Файл  d:\\documents\\SkillFactory\\IDE\\Python\\12. Python. Pandas\\data\\melb_data_fe.csv\n",
      "Файл  d:\\documents\\SkillFactory\\IDE\\Python\\12. Python. Pandas\\data\\ratings_movies.csv\n",
      "Папка  d:\\documents\\SkillFactory\\IDE\\Python\\12. Python. Pandas\\data\\movies_data\n",
      "Папка  d:\\documents\\SkillFactory\\IDE\\Python\\12. Python. Pandas\\data\\orders_and_products\n",
      "===\n",
      "Текущая директория d:\\documents\\SkillFactory\\IDE\\Python\\12. Python. Pandas\\data\\movies_data\n",
      "---\n",
      "Папок нет\n",
      "---\n",
      "Список файлов ['dates.csv', 'movies.csv', 'ratings1.csv', 'ratings2.csv']\n",
      "---\n",
      "Файл  d:\\documents\\SkillFactory\\IDE\\Python\\12. Python. Pandas\\data\\movies_data\\dates.csv\n",
      "Файл  d:\\documents\\SkillFactory\\IDE\\Python\\12. Python. Pandas\\data\\movies_data\\movies.csv\n",
      "Файл  d:\\documents\\SkillFactory\\IDE\\Python\\12. Python. Pandas\\data\\movies_data\\ratings1.csv\n",
      "Файл  d:\\documents\\SkillFactory\\IDE\\Python\\12. Python. Pandas\\data\\movies_data\\ratings2.csv\n",
      "===\n",
      "Текущая директория d:\\documents\\SkillFactory\\IDE\\Python\\12. Python. Pandas\\data\\orders_and_products\n",
      "---\n",
      "Папок нет\n",
      "---\n",
      "Список файлов ['orders.csv', 'products.csv']\n",
      "---\n",
      "Файл  d:\\documents\\SkillFactory\\IDE\\Python\\12. Python. Pandas\\data\\orders_and_products\\orders.csv\n",
      "Файл  d:\\documents\\SkillFactory\\IDE\\Python\\12. Python. Pandas\\data\\orders_and_products\\products.csv\n",
      "===\n",
      "Текущая директория d:\\documents\\SkillFactory\\IDE\\Python\\13. Python. Визуализация\n",
      "---\n",
      "Список папок ['data']\n",
      "---\n",
      "Список файлов ['churn.ipynb', 'python 13.ipynb', 'Types_of_visualization.ipynb']\n",
      "---\n",
      "Все пути:\n",
      "Файл  d:\\documents\\SkillFactory\\IDE\\Python\\13. Python. Визуализация\\churn.ipynb\n",
      "Файл  d:\\documents\\SkillFactory\\IDE\\Python\\13. Python. Визуализация\\python 13.ipynb\n",
      "Файл  d:\\documents\\SkillFactory\\IDE\\Python\\13. Python. Визуализация\\Types_of_visualization.ipynb\n",
      "Папка  d:\\documents\\SkillFactory\\IDE\\Python\\13. Python. Визуализация\\data\n",
      "===\n",
      "Текущая директория d:\\documents\\SkillFactory\\IDE\\Python\\13. Python. Визуализация\\data\n",
      "---\n",
      "Папок нет\n",
      "---\n",
      "Список файлов ['churn.csv', 'country_vaccinations.csv', 'covid_data.csv']\n",
      "---\n",
      "Файл  d:\\documents\\SkillFactory\\IDE\\Python\\13. Python. Визуализация\\data\\churn.csv\n",
      "Файл  d:\\documents\\SkillFactory\\IDE\\Python\\13. Python. Визуализация\\data\\country_vaccinations.csv\n",
      "Файл  d:\\documents\\SkillFactory\\IDE\\Python\\13. Python. Визуализация\\data\\covid_data.csv\n",
      "===\n",
      "Текущая директория d:\\documents\\SkillFactory\\IDE\\Python\\14. Python. Очистка данных\n",
      "---\n",
      "Список папок ['data']\n",
      "---\n",
      "Список файлов ['14. Python.ipynb', 'TSUM.ipynb']\n",
      "---\n",
      "Все пути:\n",
      "Файл  d:\\documents\\SkillFactory\\IDE\\Python\\14. Python. Очистка данных\\14. Python.ipynb\n",
      "Файл  d:\\documents\\SkillFactory\\IDE\\Python\\14. Python. Очистка данных\\TSUM.ipynb\n",
      "Папка  d:\\documents\\SkillFactory\\IDE\\Python\\14. Python. Очистка данных\\data\n",
      "===\n",
      "Текущая директория d:\\documents\\SkillFactory\\IDE\\Python\\14. Python. Очистка данных\\data\n",
      "---\n",
      "Папок нет\n",
      "---\n",
      "Список файлов ['Data_TSUM.xlsx', 'diabetes_data.csv', 'sber_data.csv']\n",
      "---\n",
      "Файл  d:\\documents\\SkillFactory\\IDE\\Python\\14. Python. Очистка данных\\data\\Data_TSUM.xlsx\n",
      "Файл  d:\\documents\\SkillFactory\\IDE\\Python\\14. Python. Очистка данных\\data\\diabetes_data.csv\n",
      "Файл  d:\\documents\\SkillFactory\\IDE\\Python\\14. Python. Очистка данных\\data\\sber_data.csv\n",
      "===\n",
      "Текущая директория d:\\documents\\SkillFactory\\IDE\\Python\\15. Python. ООП\n",
      "---\n",
      "Список папок ['archive']\n",
      "---\n",
      "Список файлов ['15. Python.ipynb', 'index.html']\n",
      "---\n",
      "Все пути:\n",
      "Файл  d:\\documents\\SkillFactory\\IDE\\Python\\15. Python. ООП\\15. Python.ipynb\n",
      "Файл  d:\\documents\\SkillFactory\\IDE\\Python\\15. Python. ООП\\index.html\n",
      "Папка  d:\\documents\\SkillFactory\\IDE\\Python\\15. Python. ООП\\archive\n",
      "===\n",
      "Текущая директория d:\\documents\\SkillFactory\\IDE\\Python\\15. Python. ООП\\archive\n",
      "---\n",
      "Папок нет\n",
      "---\n",
      "Список файлов ['23-01-29.pkl']\n",
      "---\n",
      "Файл  d:\\documents\\SkillFactory\\IDE\\Python\\15. Python. ООП\\archive\\23-01-29.pkl\n",
      "===\n"
     ]
    }
   ],
   "source": [
    "# Задание 7.3\n",
    "# Задание на самопроверку.\n",
    "\n",
    "# Сделайте функцию, которая принимает от пользователя путь и выводит всю информацию о содержимом этой папки. \n",
    "# Для реализации используйте функцию встроенного модуля os.walk(). \n",
    "# Если путь не указан, то сравнение начинается с текущей директории.\n",
    "import os\n",
    "\n",
    "def walk_desc(path=None):\n",
    "    start_path = path if path is not None else os.getcwd()\n",
    "\n",
    "    for root, dirs, files in os.walk(start_path):\n",
    "        print(\"Текущая директория\", root)\n",
    "        print(\"---\")\n",
    "\n",
    "        if dirs:\n",
    "            print(\"Список папок\", dirs)\n",
    "        else:\n",
    "            print(\"Папок нет\")\n",
    "        print(\"---\")\n",
    "\n",
    "        if files:\n",
    "            print(\"Список файлов\", files)\n",
    "        else:\n",
    "            print(\"Файлов нет\")\n",
    "        print(\"---\")\n",
    "\n",
    "        if files and dirs:\n",
    "            print(\"Все пути:\")\n",
    "        for f in files:\n",
    "            print(\"Файл \", os.path.join(root, f))\n",
    "        for d in dirs:\n",
    "            print(\"Папка \", os.path.join(root, d))\n",
    "        print(\"===\")\n",
    "    \n",
    "walk_desc('d:\\documents\\SkillFactory\\IDE\\Python')"
   ]
  },
  {
   "cell_type": "code",
   "execution_count": 121,
   "metadata": {},
   "outputs": [],
   "source": [
    "# Задание 7.4\n",
    "# Задание на самопроверку.\n",
    "\n",
    "# Создайте любой файл на операционной системе под название input.txt и построчно перепишите его в файл output.txt.\n",
    "\n",
    "i = open('data\\input.txt', 'r')\n",
    "o = open('data\\output.txt', 'w')\n",
    "for line in i:\n",
    "    o.writelines(line)\n",
    "    \n",
    "i.close()\n",
    "o.close()\n",
    "    "
   ]
  },
  {
   "cell_type": "code",
   "execution_count": 122,
   "metadata": {},
   "outputs": [],
   "source": [
    "# Задание 7.5\n",
    "# Задание на самопроверку.\n",
    "\n",
    "# Дан файл numbers.txt, компоненты которого являются действительными числами \n",
    "# (файл создайте самостоятельно и заполните любыми числам, в одной строке одно число). \n",
    "# Найдите сумму наибольшего и наименьшего из значений и запишите результат в файл output.txt.\n",
    "\n",
    "with open('data//numbers.txt', 'r') as numbs:\n",
    "    min_ = max_ = float(numbs.readline())\n",
    "    for numb in numbs:\n",
    "        if float(numb) > max_:\n",
    "            max_ = float(numb)\n",
    "        if float(numb) < min_:\n",
    "            min_ = float(numb)\n",
    "    sum_ = min_ + max_\n",
    "    \n",
    "with open('data/output.txt', 'w') as out_:\n",
    "    out_.write(str(sum_))"
   ]
  },
  {
   "cell_type": "code",
   "execution_count": 143,
   "metadata": {},
   "outputs": [
    {
     "name": "stdout",
     "output_type": "stream",
     "text": [
      "4\n"
     ]
    }
   ],
   "source": [
    "# Задание 7.6\n",
    "# Задание на самопроверку.\n",
    "\n",
    "# В текстовый файл построчно записаны фамилии и имена учащихся класса и их оценки за контрольную. \n",
    "# Подсчитайте количество учащихся, чья оценка меньше 3 баллов.\n",
    "\n",
    "with open('data//marks.txt', 'r', encoding='utf8') as marks:\n",
    "\n",
    "    count = 0\n",
    "    for mark in marks:\n",
    "        if float(mark.split()[-1]) < 3:\n",
    "             count += 1\n",
    "    print(count)"
   ]
  },
  {
   "cell_type": "code",
   "execution_count": 147,
   "metadata": {},
   "outputs": [],
   "source": [
    "# Задание 7.7\n",
    "# Задание на самопроверку.\n",
    "\n",
    "# Выполните реверсирование строк файла (перестановку строк файла в обратном порядке).\n",
    "\n",
    "with open(\"data//marks.txt\", \"r\", encoding='utf8') as input_file:\n",
    "    with open(\"data//marks2.txt\", \"w\") as output_file:\n",
    "        for line in reversed(input_file.readlines()):\n",
    "            output_file.write(line)"
   ]
  }
 ],
 "metadata": {
  "kernelspec": {
   "display_name": "Python 3",
   "language": "python",
   "name": "python3"
  },
  "language_info": {
   "codemirror_mode": {
    "name": "ipython",
    "version": 3
   },
   "file_extension": ".py",
   "mimetype": "text/x-python",
   "name": "python",
   "nbconvert_exporter": "python",
   "pygments_lexer": "ipython3",
   "version": "3.9.10"
  },
  "orig_nbformat": 4,
  "vscode": {
   "interpreter": {
    "hash": "e563b20a463c464f34e1bb02005c577e36b7a645b96b80c63322fa525100086a"
   }
  }
 },
 "nbformat": 4,
 "nbformat_minor": 2
}
