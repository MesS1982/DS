{
 "cells": [
  {
   "cell_type": "code",
   "execution_count": 13,
   "metadata": {},
   "outputs": [
    {
     "name": "stdout",
     "output_type": "stream",
     "text": [
      "[1000000, 400000]\n",
      "700000.0\n"
     ]
    }
   ],
   "source": [
    "# Допишите определение класса DepartmentReport, \n",
    "# который выводит отчёт по отделам компании. У него должны быть определены:\n",
    "\n",
    "# атрибут revenues — список, где мы храним значения выручки отделов;\n",
    "# метод add_revenue, который добавляет выручку одного отдела;\n",
    "# метод average_revenue, который возвращает среднюю выручку по всем отделам.\n",
    "# В случае правильного описания класса код, приведённый ниже, должен выдать следующий результат:\n",
    "\n",
    "class DepartmentReport():\n",
    "    \n",
    "    def add_revenue(self, revenue):\n",
    "        if not hasattr(self, 'revenues'):\n",
    "            self.revenues = []\n",
    "        self.revenues.append(revenue)\n",
    "            \n",
    "    def average_revenue(self):\n",
    "        return sum(self.revenues) / len(self.revenues)\n",
    "        \n",
    "    \n",
    "report = DepartmentReport()\n",
    "report.add_revenue(1_000_000)\n",
    "report.add_revenue(400_000)\n",
    "print(report.revenues)\n",
    "# [1000000, 400000]\n",
    "print(report.average_revenue())\n",
    "# 700000.0"
   ]
  },
  {
   "cell_type": "code",
   "execution_count": 32,
   "metadata": {},
   "outputs": [
    {
     "name": "stdout",
     "output_type": "stream",
     "text": [
      "Average department revenue for Danon: 700000\n"
     ]
    }
   ],
   "source": [
    "# Улучшите класс DepartmentReport. \n",
    "# Класс при инициализации должен принимать переменную company_name и инициализировать её значением атрибут company,\n",
    "# а также инициализировать атрибут revenues пустым списком. \n",
    "# Метод average_revenue должен возвращать строку \n",
    "# \"Average department revenue for (company_name): (average_revenue)\".\n",
    "\n",
    "# В случае правильного описания класса код, приведённый ниже, должен выдать следующий результат:\n",
    "\n",
    "class DepartmentReport():\n",
    "    def __init__(self, company_name):  \n",
    "        self.revenues = []  \n",
    "        self.company = company_name\n",
    "    \n",
    "    def add_revenue(self, revenue):\n",
    "        self.revenues.append(revenue)\n",
    "            \n",
    "    def average_revenue(self):\n",
    "        average_revenue = round(sum(self.revenues) / len(self.revenues))\n",
    "        return (f\"Average department revenue for {self.company}: {average_revenue}\")\n",
    "\n",
    "report = DepartmentReport(\"Danon\")\n",
    "report.add_revenue(1_000_000)\n",
    "report.add_revenue(400_000)\n",
    "\n",
    "print(report.average_revenue())\n",
    "# Average department revenue for Danon: 700000\n",
    "# Подсказка числовое значение округлите до целого библиотечной функцией round."
   ]
  },
  {
   "cell_type": "code",
   "execution_count": 14,
   "metadata": {},
   "outputs": [
    {
     "name": "stdout",
     "output_type": "stream",
     "text": [
      "Total sales: 40000\n"
     ]
    }
   ],
   "source": [
    "class SalesReport():  \n",
    "    # Позволим добавлять много разных сделок   \n",
    "    def add_deal(self, amount):   \n",
    "        # На первой сделке создадим список для хранения всех сделок   \n",
    "        if not hasattr(self, 'deals'):  \n",
    "            self.deals = []  \n",
    "        # Добавим текущую сделку  \n",
    "        self.deals.append(amount)  \n",
    "          \n",
    "    # Посчитаем сумму всех сделок      \n",
    "    def total_amount(self):  \n",
    "        return sum(self.deals)  \n",
    "      \n",
    "    def print_report(self):  \n",
    "        print(\"Total sales:\", self.total_amount())  \n",
    "          \n",
    "# Используем наши новые возможности  \n",
    "# Добавим две сделки и распечатаем отчёт  \n",
    "report = SalesReport()  \n",
    "report.add_deal(10_000)  \n",
    "report.add_deal(30_000)  \n",
    "report.print_report() # => Total sales: 40000  "
   ]
  },
  {
   "cell_type": "code",
   "execution_count": 35,
   "metadata": {},
   "outputs": [
    {
     "name": "stdout",
     "output_type": "stream",
     "text": [
      "False\n",
      "True\n",
      "19700\n"
     ]
    }
   ],
   "source": [
    "# Задание 5.1\n",
    "# Определите класс для пользователей User.\n",
    "\n",
    "# У него должны быть:\n",
    "\n",
    "# атрибуты email, password и balance, которые устанавливаются при инициализации;\n",
    "# метод login, который принимает емайл и пароль. Если они совпадают с атрибутами объекта, \n",
    "# он возвращает True, а иначе —False;\n",
    "# метод update_balance(amount), который изменяет баланс счёта на величину amount.\n",
    "# В случае правильного описания класса код, приведённый ниже, должен выдать следующий результат:\n",
    "\n",
    "class User():\n",
    "    def __init__(self, email, password, balance):\n",
    "        self.email = email\n",
    "        self.password = password\n",
    "        self.balance = balance\n",
    "    \n",
    "    def login(self, email, password):\n",
    "        if (email == self.email) and (password == self.password):\n",
    "            return True\n",
    "        else:\n",
    "            return False\n",
    "        \n",
    "    def update_balance(self, amount):\n",
    "        self.balance += amount\n",
    "        return self.balance\n",
    "        \n",
    "\n",
    "\n",
    "user = User(\"gosha@roskino.org\", \"qwerty\", 20_000)\n",
    "print(user.login(\"gosha@roskino.org\", \"qwerty123\"))\n",
    "# False\n",
    "print(user.login(\"gosha@roskino.org\", \"qwerty\"))\n",
    "# True\n",
    "user.update_balance(200)\n",
    "user.update_balance(-500)\n",
    "print(user.balance)\n",
    "# 19700"
   ]
  },
  {
   "cell_type": "code",
   "execution_count": 51,
   "metadata": {},
   "outputs": [
    {
     "name": "stdout",
     "output_type": "stream",
     "text": [
      "[4, 4, 3, 0, 2, 0, 4]\n"
     ]
    },
    {
     "data": {
      "text/plain": [
       "4"
      ]
     },
     "execution_count": 51,
     "metadata": {},
     "output_type": "execute_result"
    }
   ],
   "source": [
    "# Задание 5.2\n",
    "# Определите класс IntDataFrame, который принимает список неотрицательных \n",
    "# чисел и приводит к целым значениям все числа в этом списке. \n",
    "# После этого становится доступен метод count, который считает количество ненулевых элементов, \n",
    "# и метод unique, который возвращает число уникальных элементов.\n",
    "\n",
    "# В случае правильного описания класса код, приведённый ниже, должен выдать следующий результат:\n",
    "\n",
    "class IntDataFrame():\n",
    "    def __init__(self, lst) -> None:\n",
    "        self.lst = lst\n",
    "        self.to_int()\n",
    "        \n",
    "    def to_int(self):\n",
    "        self.lst = [int(a) for a in self.lst]\n",
    "        print(self.lst)\n",
    "        \n",
    "    def count(self):\n",
    "        cnt = 0\n",
    "        for num in self.lst:\n",
    "            if num != 0:\n",
    "                cnt += 1\n",
    "        return cnt\n",
    "    \n",
    "    def unique(self):\n",
    "        unq = []\n",
    "        for num in self.lst:\n",
    "            if num in unq:\n",
    "                continue\n",
    "            else:\n",
    "                unq.append(num)\n",
    "        return len(unq)\n",
    "        \n",
    "df = IntDataFrame([4.7, 4, 3, 0, 2.4, 0.3, 4])\n",
    "\n",
    "df.count()\n",
    "# 5\n",
    "df.unique()\n",
    "# 4"
   ]
  },
  {
   "cell_type": "code",
   "execution_count": 52,
   "metadata": {},
   "outputs": [
    {
     "name": "stdout",
     "output_type": "stream",
     "text": [
      "{'perfomance': [10, 20, 10], 'clients': {'Romashka': 10, 'Vector': 34}}\n"
     ]
    }
   ],
   "source": [
    "import pickle  \n",
    "from datetime import datetime  \n",
    "from os import path  \n",
    "  \n",
    "class Dumper():  \n",
    "    def __init__(self, archive_dir=\"archive/\"):  \n",
    "        self.archive_dir = archive_dir  \n",
    "          \n",
    "    def dump(self, data):  \n",
    "        # Библиотека pickle позволяет доставать и класть объекты в файл  \n",
    "        with open(self.get_file_name(), 'wb') as file:  \n",
    "            pickle.dump(data, file)  \n",
    "              \n",
    "    def load_for_day(self, day):  \n",
    "        file_name = path.join(self.archive_dir, day + \".pkl\")   \n",
    "        with open(file_name, 'rb') as file:  \n",
    "            sets = pickle.load(file)  \n",
    "        return sets  \n",
    "          \n",
    "    # возвращает корректное имя для файла   \n",
    "    def get_file_name(self):   \n",
    "        today = datetime.now().strftime(\"%y-%m-%d\")   \n",
    "        return path.join(self.archive_dir, today + \".pkl\")  \n",
    "      \n",
    "      \n",
    "# Пример использования  \n",
    "  \n",
    "data = {  \n",
    "    'perfomance': [10, 20, 10],  \n",
    "    'clients': {\"Romashka\": 10, \"Vector\": 34}  \n",
    "}  \n",
    "  \n",
    "  \n",
    "dumper = Dumper()  \n",
    "  \n",
    "# Сохраним данные  \n",
    "dumper.dump(data)  \n",
    "  \n",
    "# Восстановим для сегодняшней даты  \n",
    "file_name = datetime.now().strftime(\"%y-%m-%d\")\n",
    "restored_data = dumper.load_for_day(file_name)\n",
    "print(restored_data)  \n",
    "# => {'perfomance': [10, 20, 10], 'clients': {'Romashka': 10, 'Vector': 34}}  "
   ]
  },
  {
   "cell_type": "code",
   "execution_count": 59,
   "metadata": {},
   "outputs": [
    {
     "name": "stdout",
     "output_type": "stream",
     "text": [
      "None\n",
      "Connection lost\n",
      "System started\n"
     ]
    }
   ],
   "source": [
    "# Задание 5.3\n",
    "# Напишите класс сборщика технических сообщений OwnLogger.\n",
    "\n",
    "# У него должен быть\n",
    "\n",
    "# атрибут logs, содержащий {\"info\": None, \"warning\": None, \"error\": None, \"all\": None}.\n",
    "# метод log(message, level), который записывает сообщения. \n",
    "# Здесь сообщение message может быть любым, а level — один из \"info\", \"warning\", \"error\".\n",
    "# метод show_last(level), где level может быть \"info\", \"warning\", \"error\", \"all\".\n",
    "# Для \"all\" он просто возвращает последнее добавленное сообщение, \n",
    "# а для остальных — последнее поступившее сообщение соответствующего уровня. \n",
    "# При этом по умолчанию значение именно \"all\".\n",
    "\n",
    "# Если подходящего сообщения нет, возвращает None.\n",
    "\n",
    "# В случае правильного описания класса код, приведённый ниже, должен выдать следующий результат:\n",
    "\n",
    "class OwnLogger():\n",
    "    def __init__(self):\n",
    "        self.logs = {\"info\": None, \"warning\": None, \"error\": None, \"all\": None}\n",
    "        \n",
    "    def log(self, message, level):\n",
    "        # if level not in [\"info\", \"warning\", \"error\", \"all\"]:\n",
    "        #     return 'log error'\n",
    "        self.logs[level] = message\n",
    "        self.logs['all'] = message\n",
    "        \n",
    "    def show_last(self, level='all'):\n",
    "        return self.logs[level]\n",
    "    \n",
    "        \n",
    "    \n",
    "\n",
    "logger = OwnLogger()\n",
    "logger.log(\"System started\", \"info\")\n",
    "print(logger.show_last(\"error\"))\n",
    "# None\n",
    "# Некоторые интерпретаторы Python могут не выводить None, тогда в этой проверке у вас будет пустая строка\n",
    "logger.log(\"Connection instable\", \"warning\")\n",
    "logger.log(\"Connection lost\", \"error\")\n",
    "\n",
    "print(logger.show_last())\n",
    "# Connection lost\n",
    "print(logger.show_last(\"info\"))\n",
    "# System started"
   ]
  }
 ],
 "metadata": {
  "kernelspec": {
   "display_name": "Python 3",
   "language": "python",
   "name": "python3"
  },
  "language_info": {
   "codemirror_mode": {
    "name": "ipython",
    "version": 3
   },
   "file_extension": ".py",
   "mimetype": "text/x-python",
   "name": "python",
   "nbconvert_exporter": "python",
   "pygments_lexer": "ipython3",
   "version": "3.9.10"
  },
  "orig_nbformat": 4,
  "vscode": {
   "interpreter": {
    "hash": "e563b20a463c464f34e1bb02005c577e36b7a645b96b80c63322fa525100086a"
   }
  }
 },
 "nbformat": 4,
 "nbformat_minor": 2
}
