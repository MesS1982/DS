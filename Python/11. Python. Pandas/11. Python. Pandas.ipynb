{
 "cells": [
  {
   "attachments": {},
   "cell_type": "markdown",
   "metadata": {},
   "source": [
    "Данные представляют собой таблицу, в которой содержится 23 столбца:\n",
    "\n",
    "index — номер строки\n",
    "Suburb — наименование пригорода\n",
    "Address — адрес\n",
    "Rooms — количество комнат в помещении\n",
    "Type — тип здания (h — дом, коттедж, вилла, терраса; u — блочный, дуплексный дом; t — таунхаус)\n",
    "Price — цена помещения\n",
    "Method — метод продажи \n",
    "SellerG — риэлторская компания\n",
    "Date — дата продажи (в формате день/месяц/год)\n",
    "Distance — расстояния до объекта от центра Мельбурна \n",
    "Postcode — почтовый индекс\n",
    "Bedroom — количество спален\n",
    "Bathroom — количество ванных комнат\n",
    "Car — количество парковочных мест\n",
    "Landsize — площадь прилегающей территории\n",
    "BuildingArea — площадь здания\n",
    "YearBuilt — год постройки\n",
    "CouncilArea — региональное управление\n",
    "Lattitude — географическая широта\n",
    "Longitude — географическая долгота\n",
    "Regionname — наименование района Мельбурна\n",
    "Propertycount — количество объектов недвижимости в районе\n",
    "Coordinates — широта и долгота, объединённые в кортеж"
   ]
  },
  {
   "cell_type": "code",
   "execution_count": 8,
   "metadata": {},
   "outputs": [
    {
     "data": {
      "text/plain": [
       "0        5\n",
       "1        3\n",
       "2        5\n",
       "3        5\n",
       "4        5\n",
       "        ..\n",
       "13575    5\n",
       "13576    5\n",
       "13577    5\n",
       "13578    5\n",
       "13579    5\n",
       "Name: WeekdaySale, Length: 13580, dtype: int64"
      ]
     },
     "metadata": {},
     "output_type": "display_data"
    }
   ],
   "source": [
    "import pandas as pd\n",
    "\n",
    "melb_data = pd.read_csv('data/melb_data_ps.csv', sep=',')\n",
    "# melb_data.head()\n",
    "\n",
    "melb_df = melb_data.copy()\n",
    "# melb_df.to_csv('data/melb_data_ps_copy.csv')\n",
    "# melb_df.head()\n",
    "# melb_df = melb_df.drop(['index', 'Coordinates'], axis=1)\n",
    "# melb_df.head()\n",
    "total_rooms = melb_df['Rooms'] + melb_df['Bedroom'] + melb_df['Bathroom']\n",
    "# display(total_rooms)\n",
    "# melb_df['MeanRoomsSquare'] = melb_df['BuildingArea'] / total_rooms\n",
    "# display(melb_df['MeanRoomsSquare'])\n",
    "# diff_area = melb_df['BuildingArea'] - melb_df['Landsize']\n",
    "# sum_area = melb_df['BuildingArea'] + melb_df['Landsize']\n",
    "# melb_df['AreaRatio'] = diff_area/sum_area\n",
    "# display(melb_df['AreaRatio'])\n",
    "melb_df['Date'] = pd.to_datetime(melb_df['Date'], dayfirst=True)\n",
    "# display(melb_df['Date'])\n",
    "melb_df['MonthSale'] = melb_df['Date'].dt.month\n",
    "melb_df['MonthSale'].value_counts(normalize=True)\n",
    "delta_days = melb_df['Date'] - pd.to_datetime('2016-01-01') \n",
    "# display(delta_days)\n",
    "# melb_df['AgeBuilding'] = melb_df['Date'].dt.year - melb_df['YearBuilt']\n",
    "# display(melb_df['AgeBuilding'])\n",
    "# melb_df = melb_df.drop('YearBuilt', axis=1)\n",
    "melb_df['WeekdaySale'] = melb_df['Date'].dt.dayofweek\n",
    "# melb_df['WeekdaySale'].count\n",
    "display(melb_df['WeekdaySale'])\n",
    "\n",
    "# melb_df.to_csv('data/melb_df_ps_copy.csv')\n",
    "weekend_count = melb_df[(melb_df['WeekdaySale'] == 6) | (melb_df['WeekdaySale'] == 5)]['WeekdaySale'].count()\n",
    "# melb_df['WeekdaySale'].shape\n",
    "\n"
   ]
  },
  {
   "cell_type": "code",
   "execution_count": 9,
   "metadata": {},
   "outputs": [
    {
     "data": {
      "text/plain": [
       "0        1\n",
       "1        0\n",
       "2        1\n",
       "3        1\n",
       "4        1\n",
       "        ..\n",
       "13575    1\n",
       "13576    1\n",
       "13577    1\n",
       "13578    1\n",
       "13579    1\n",
       "Name: Weekend, Length: 13580, dtype: int64"
      ]
     },
     "metadata": {},
     "output_type": "display_data"
    },
    {
     "name": "stdout",
     "output_type": "stream",
     "text": [
      "1081199\n"
     ]
    }
   ],
   "source": [
    "# Задание 4.2\n",
    "\n",
    "# Ранее, в задании 3.3, мы создали признак WeekdaySale в таблице melb_df — день недели продажи. \n",
    "# Из полученных в задании результатов можно сделать вывод, что объекты недвижимости в Мельбурне \n",
    "# продаются преимущественно по выходным (суббота и воскресенье).\n",
    "# Напишите функцию get_weekend(weekday), которая принимает на вход элемент столбца WeekdaySale и возвращает 1, \n",
    "# если день является выходным, и 0 — в противном случае, и создайте столбец Weekend в таблице melb_df с помощью неё.\n",
    "\n",
    "# Примените эту функцию к столбцу и вычислите среднюю цену объекта недвижимости, проданного в выходные дни. \n",
    "# Результат округлите до целых.\n",
    "\n",
    "def get_weekend(weekday):\n",
    "    if (weekday == 5) or (weekday == 6):\n",
    "        weekday = 1\n",
    "    else:\n",
    "        weekday = 0\n",
    "    return weekday\n",
    "melb_df['Weekend'] = melb_df['WeekdaySale'].apply(get_weekend)\n",
    "display(melb_df['Weekend'])\n",
    "print(round(melb_df[melb_df['Weekend'] == 1]['Price'].mean()))\n"
   ]
  },
  {
   "cell_type": "code",
   "execution_count": 10,
   "metadata": {},
   "outputs": [
    {
     "name": "stdout",
     "output_type": "stream",
     "text": [
      "Index(['Nelson', 'Jellis', 'hockingstuart', 'Barry', 'Ray', 'Marshall',\n",
      "       'Buxton', 'Biggin', 'Brad', 'Fletchers', 'Woodards', 'Jas', 'Greg',\n",
      "       'McGrath', 'Sweeney', 'Noel', 'Miles', 'RT', 'Gary', 'Harcourts',\n",
      "       'Hodges', 'YPA', 'Stockdale', 'Village', 'Kay', 'Raine', 'Williams',\n",
      "       'Love', 'Douglas', 'Chisholm', 'RW', 'Rendina', 'HAR', 'O'Brien', 'C21',\n",
      "       'Collins', 'Cayzer', 'Eview', 'Purplebricks', 'Philip', 'Buckingham',\n",
      "       'Bells', 'Thomson', 'Nick', 'Alexkarbon', 'McDonald', 'Burnham',\n",
      "       'Moonee', 'LITTLE'],\n",
      "      dtype='object')\n",
      "1.3\n"
     ]
    }
   ],
   "source": [
    "# Задание 4.3\n",
    "\n",
    "# Преобразуйте столбец SellerG с наименованиями риелторских компаний в таблице melb_df следующим образом:\n",
    "#     оставьте в столбце только 49 самых популярных компаний, а остальные обозначьте как 'other'.\n",
    "# Найдите, во сколько раз минимальная цена объектов недвижимости, проданных компанией 'Nelson', \n",
    "# больше минимальной цены объектов, проданных компаниями, обозначенными как 'other'. Ответ округлите до десятых.\n",
    "\n",
    "melb_df['SellerG']\n",
    "popular_comp = melb_df['SellerG'].value_counts().nlargest(49).index\n",
    "print(popular_comp)\n",
    "melb_df['SellerG'] = melb_df['SellerG'].apply(lambda x: x if x in popular_comp else 'other')\n",
    "a = melb_df[melb_df['SellerG'] == 'Nelson']['Price'].min() \n",
    "b = melb_df[melb_df['SellerG'] == 'other']['Price'].min()\n",
    "print(round(a/b, 2))"
   ]
  },
  {
   "cell_type": "code",
   "execution_count": 22,
   "metadata": {},
   "outputs": [
    {
     "name": "stdout",
     "output_type": "stream",
     "text": [
      "<class 'pandas.core.series.Series'>\n",
      "RangeIndex: 13580 entries, 0 to 13579\n",
      "Series name: Suburb\n",
      "Non-Null Count  Dtype   \n",
      "--------------  -----   \n",
      "13580 non-null  category\n",
      "dtypes: category(1)\n",
      "memory usage: 18.4 KB\n",
      "<class 'pandas.core.series.Series'>\n",
      "RangeIndex: 13580 entries, 0 to 13579\n",
      "Series name: Suburb\n",
      "Non-Null Count  Dtype   \n",
      "--------------  -----   \n",
      "13580 non-null  category\n",
      "dtypes: category(1)\n",
      "memory usage: 18.4 KB\n",
      "0.08574218750000001\n"
     ]
    }
   ],
   "source": [
    "# Задание 5.2\n",
    "\n",
    "# При преобразовании столбцов таблицы о недвижимости к типу category \n",
    "# мы оставили без внимания столбец Suburb (пригород). Давайте исправим это.\n",
    "# С помощью метода info() узнайте, сколько памяти занимает таблица melb_df.\n",
    "# Преобразуйте признак Suburb следующим образом: оставьте в столбце только 119 наиболее популярных пригородов, \n",
    "# остальные замените на 'other'.\n",
    "# Приведите данные в столбце Suburb к категориальному типу.\n",
    "# В качестве ответа запишите разницу между объёмом занимаемой памяти до преобразования \n",
    "# (который мы получили ранее в модуле) и после него в Мб. Ответ округлите до десятых.\n",
    "\n",
    "melb_df['Suburb'].info()\n",
    "memory1 = 106.2 / 1024\n",
    "suburb_cat = melb_df['Suburb'].value_counts().nlargest(119).index\n",
    "melb_df['Suburb'] = melb_df['Suburb'].apply(lambda x: x if x in suburb_cat else 'other')\n",
    "melb_df['Suburb'] = melb_df['Suburb'].astype('category')\n",
    "melb_df['Suburb'].info()\n",
    "memory2 = 18.4 / 1024\n",
    "memory_dif = memory1 - memory2\n",
    "print(memory_dif)"
   ]
  },
  {
   "cell_type": "code",
   "execution_count": 12,
   "metadata": {},
   "outputs": [
    {
     "name": "stdout",
     "output_type": "stream",
     "text": [
      "   number2  cust_id2  cust_age2  cust_year_birth2  cust_order2\n",
      "0        0       128         13              2008         1400\n",
      "1        1      1201         21              2000        14142\n",
      "2        2      9832         19              2002          900\n",
      "3        3      4392         21              2000         1240\n",
      "4        4      7472         60              1961         8430\n"
     ]
    }
   ],
   "source": [
    "# Задание 2.3\n",
    "# Напишите функцию delete_columns(df, col=[]), \n",
    "# которая удаляет столбцы из DataFrame и возвращает новую таблицу. \n",
    "# Если одного из указанных столбцов не существует в таблице, то функция должна возвращать None.\n",
    "\n",
    "# Пример DataFrame:\n",
    "import pandas as pd\n",
    "customer_df = pd.DataFrame({\n",
    "            'number': [0, 1, 2, 3, 4],\n",
    "            'cust_id': [128, 1201, 9832, 4392, 7472],\n",
    "            'cust_age': [13, 21, 19, 21, 60],\n",
    "            'cust_sale': [0, 0, 0.2, 0.15, 0.3],\n",
    "            'cust_year_birth': [2008, 2000, 2002, 2000, 1961],\n",
    "            'cust_order': [1400, 14142, 900, 1240, 8430]\n",
    "        })   \n",
    "\n",
    "\n",
    "# def delete_columns(df, col=[]):\n",
    "#     col = set(col)\n",
    "#     col = list(col)\n",
    "#     colums_list = df.columns\n",
    "\n",
    "#     for i in col:\n",
    "#         if i in colums_list:\n",
    "#             df.drop(i, axis=1, inplace = True)\n",
    "#             colums_list = df.columns\n",
    "#         else:\n",
    "#             return None\n",
    "#     return df\n",
    "def delete_columns(df, col=[]):\n",
    "    for cc in col:\n",
    "        if cc not in df.columns:\n",
    "            return None\n",
    "    return df.drop(col, axis=1) \n",
    "    \n",
    "# delete_columns(customer_df, ['cust_age', 'cust_order'])\n",
    "# display(customer_df)\n",
    "\n",
    "test_df_2 = pd.DataFrame({\n",
    "            'number2': [0, 1, 2, 3, 4],\n",
    "            'cust_id2': [128, 1201, 9832, 4392, 7472],\n",
    "            'cust_age2': [13, 21, 19, 21, 60],\n",
    "            'cust_sale2': [0, 0, 0.2, 0.15, 0.3],\n",
    "            'cust_year_birth2': [2008, 2000, 2002, 2000, 1961],\n",
    "            'cust_order2': [1400, 14142, 900, 1240, 8430]\n",
    "        })\n",
    "\n",
    "\n",
    "print(delete_columns(col = ['cust_sale2', 'cust_sale2'], df = test_df_2))"
   ]
  },
  {
   "cell_type": "code",
   "execution_count": 13,
   "metadata": {},
   "outputs": [
    {
     "name": "stdout",
     "output_type": "stream",
     "text": [
      "84.93\n"
     ]
    }
   ],
   "source": [
    "# Для каждой страны рассчитайте плотность населения (количество человек на квадратный километр).\n",
    "\n",
    "# Затем по полученным данным рассчитайте среднее по плотностям населения в указанных странах. \n",
    "# Ответ округлите до сотых.\n",
    "\n",
    "# Плотность населения рассчитывается как количество человек, \n",
    "# проживающих на территории отдельной страны, делённое на площадь этой страны. \n",
    "# Обратите внимание, что население в таблице представлено в миллионах.\n",
    "\n",
    "import pandas as pd\n",
    "countries_df = pd.DataFrame({\n",
    "    'country': ['Англия', 'Канада', 'США', 'Россия', 'Украина', 'Беларусь', 'Казахстан'],\n",
    "    'population': [56.29, 38.05, 322.28, 146.24, 45.5, 9.5, 17.04],\n",
    "    'square': [133396, 9984670, 9826630, 17125191, 603628, 207600, 2724902]\n",
    "})\n",
    "\n",
    "countries_df['density'] = countries_df['population'] * 1000000 / countries_df['square']\n",
    "mean_density = countries_df['density'].mean()\n",
    "print(round(mean_density, 2))"
   ]
  },
  {
   "attachments": {},
   "cell_type": "markdown",
   "metadata": {},
   "source": [
    "\"City\" — город, где был замечен НЛО;\n",
    "\"Colors Reported\" — цвет объекта;\n",
    "\"Shape Reported\" — форма объекта;\n",
    "\"State\" — обозначение штата;\n",
    "\"Time\" — время, когда был замечен НЛО (данные отсортированы от старых наблюдений к новым). "
   ]
  },
  {
   "cell_type": "code",
   "execution_count": 14,
   "metadata": {},
   "outputs": [
    {
     "data": {
      "text/plain": [
       "0    1999\n",
       "Name: Time, dtype: int64"
      ]
     },
     "execution_count": 14,
     "metadata": {},
     "output_type": "execute_result"
    }
   ],
   "source": [
    "import pandas as pd\n",
    "ufo = pd.read_csv('data/ufo.csv', sep=',')\n",
    "ufo['Time'] = pd.to_datetime(ufo['Time'])\n",
    "# В каком году отмечается наибольшее количество случаев наблюдения НЛО в США?\n",
    "\n",
    "years = ufo['Time'].dt.year\n",
    "years.mode()\n"
   ]
  },
  {
   "cell_type": "code",
   "execution_count": 15,
   "metadata": {},
   "outputs": [
    {
     "data": {
      "text/plain": [
       "69"
      ]
     },
     "execution_count": 15,
     "metadata": {},
     "output_type": "execute_result"
    }
   ],
   "source": [
    "# Задание 3.5\n",
    "# Найдите средний интервал времени (в днях) \n",
    "# между двумя последовательными случаями наблюдения НЛО в штате Невада (NV).\n",
    "# Чтобы выделить дату из столбца Time, можно воспользоваться атрибутом datetime date.\n",
    "\n",
    "# Чтобы вычислить разницу между двумя соседними датами в столбце, примените к нему метод diff().\n",
    "\n",
    "# Чтобы перевести интервал времени в дни, воспользуйтесь атрибутом timedelta days.\n",
    "\n",
    "ufo['Date'] = ufo['Time'].dt.date\n",
    "round(ufo[ufo['State'] == 'NV']['Date'].diff().dt.days.mean())\n",
    "# pd.to_datetime(diff)\n",
    "# display(diff.mode())\n",
    "# ufo[ufo['State'] == 'NV']['Date']) [ufo['State'] == 'NV']\n",
    "\n"
   ]
  },
  {
   "cell_type": "code",
   "execution_count": 16,
   "metadata": {},
   "outputs": [
    {
     "data": {
      "text/plain": [
       "0      Опыт работы 8 лет 3 месяца\n",
       "1    Опыт работы 3 года 5 месяцев\n",
       "2     Опыт работы 1 год 9 месяцев\n",
       "3            Опыт работы 3 месяца\n",
       "4               Опыт работы 6 лет\n",
       "dtype: object"
      ]
     },
     "metadata": {},
     "output_type": "display_data"
    },
    {
     "data": {
      "text/plain": [
       "0    99\n",
       "1    41\n",
       "2    21\n",
       "3     3\n",
       "4    72\n",
       "dtype: int64"
      ]
     },
     "execution_count": 16,
     "metadata": {},
     "output_type": "execute_result"
    }
   ],
   "source": [
    "# Задание 4.4\n",
    "# Представьте, что вы занимаетесь подготовкой данных о вакансиях с платформы hh.ru. \n",
    "# В вашем распоряжении имеется таблица, в которой с помощью парсинга собраны резюме кандидатов. \n",
    "# В этой таблице есть текстовый столбец «Опыт работы». \n",
    "# Пример такого столбца представлен ниже в виде объекта Series. \n",
    "# Структура текста в столбце фиксирована и не может измениться.\n",
    "\n",
    "# Напишите функцию get_experience(arg), аргументом которой является строка столбца с опытом работы. \n",
    "# Функция должна возвращать опыт работы в месяцах. Не забудьте привести результат к целому числу.\n",
    "\n",
    "# Примечание. Обратите внимание, что опыт работы может выражаться только в годах или только в месяцах. \n",
    "# Учтите это при построении своей функции.\n",
    "\n",
    "# При проверке мы будем применять вашу функцию к разным Series с помощью метода apply().\n",
    "\n",
    "# Пример результата работы функции get_experience:\n",
    "import pandas as pd\n",
    "exp_list = [\"Опыт работы 8 лет 3 месяца\", \"Опыт работы 3 года 5 месяцев\", \"Опыт работы 1 год 9 месяцев\", \"Опыт работы 3 месяца\", \"Опыт работы 6 лет\"]\n",
    "experience_col = pd.Series(data=exp_list)\n",
    "display(experience_col)\n",
    "def get_experience(arg):\n",
    "    arg_splited = arg.split()\n",
    "    year_keys = ['лет', 'год', 'года']\n",
    "    mounth_keys = ['месяца', 'месяцев', 'месяц']\n",
    "    years = 0\n",
    "    month = 0\n",
    "    for i in range(len(arg_splited)):\n",
    "        if arg_splited[i] in year_keys:\n",
    "            years += int(arg_splited[i-1])\n",
    "        if arg_splited[i] in mounth_keys:\n",
    "            month += int(arg_splited[i-1])\n",
    "    return (years * 12 + month)\n",
    "experience_col.apply(get_experience)\n",
    "        \n"
   ]
  },
  {
   "attachments": {},
   "cell_type": "markdown",
   "metadata": {},
   "source": [
    "starttime — время начала поездки (дата, время);\n",
    "stoptime — время окончания поездки (дата, время);\n",
    "start station id — идентификатор стартовой стоянки;\n",
    "start station name — название стартовой стоянки;\n",
    "start station latitude, start station longitude — географическая широта и долгота стартовой стоянки;\n",
    "end station id — идентификатор конечной стоянки;\n",
    "end station name — название конечной стоянки;\n",
    "end station latitude, end station longitude — географическая широта и долгота конечной стоянки;\n",
    "bikeid — идентификатор велосипеда;\n",
    "usertype — тип пользователя (Customer — клиент с подпиской на 24 часа или на три дня, Subscriber — подписчик с годовой арендой велосипеда);\n",
    "birth year — год рождения клиента;\n",
    "gender — пол клиента (0 — неизвестный, 1 — мужчина, 2 — женщина)."
   ]
  },
  {
   "cell_type": "code",
   "execution_count": 25,
   "metadata": {},
   "outputs": [
    {
     "name": "stdout",
     "output_type": "stream",
     "text": [
      "<class 'pandas.core.series.Series'>\n",
      "RangeIndex: 300000 entries, 0 to 299999\n",
      "Series name: starttime\n",
      "Non-Null Count   Dtype \n",
      "--------------   ----- \n",
      "300000 non-null  object\n",
      "dtypes: object(1)\n",
      "memory usage: 2.3+ MB\n"
     ]
    }
   ],
   "source": [
    "import pandas as pd\n",
    "tripdata = pd.read_csv('data/citibike-tripdata.csv', sep=',')\n",
    "\n"
   ]
  },
  {
   "cell_type": "code",
   "execution_count": 93,
   "metadata": {},
   "outputs": [
    {
     "name": "stdout",
     "output_type": "stream",
     "text": [
      "9\n"
     ]
    }
   ],
   "source": [
    "#Сколько пропусков в столбце start station id?\n",
    "# tripdata['starttime'].info()\n",
    "\n",
    "# Найдите идентификатор самой популярной стартовой стоянки. Запишите идентификатор в виде целого числа.\n",
    "# tripdata['start station id'].mode()\n",
    "\n",
    "# Велосипед с каким идентификатором является самым популярным?\n",
    "# tripdata['bikeid'].mode()\n",
    "\n",
    "# Какой тип клиентов (столбец usertype) является преобладающим — Subscriber или Customer?\n",
    "# В качестве ответа запишите долю клиентов преобладающего типа среди общего количества клиентов. \n",
    "# Ответ округлите до сотых.\n",
    "# tripdata['usertype'].value_counts(normalize=True)\n",
    "\n",
    "\n",
    "# Кто больше занимается велоспортом — мужчины или женщины? \n",
    "# В ответ запишите число поездок для той группы, у которой их больше.\n",
    "# tripdata['gender'].value_counts()\n",
    "\n",
    "# tripdata['end station name'].value_counts()\n",
    "\n",
    "# В наших данных присутствуют столбцы, которые дублируют информацию друг о друге: \n",
    "#     это столбцы с идентификатором и названием стартовой и конечной стоянки. \n",
    "# Удалите признаки идентификаторов стоянок. Сколько столбцов осталось?\n",
    "# tripdata.drop(['start station id', 'end station id'], axis=1, inplace=True)\n",
    "# tripdata.info()\n",
    "\n",
    "# Замените признак birth year на более понятный признак возраста клиента age. \n",
    "# Годом отсчёта возраста выберите 2018 год. \n",
    "# Столбец birth year удалите из таблицы. \n",
    "# Сколько поездок совершено клиентами старше 60 лет?\n",
    "\n",
    "# tripdata['age'] = 2018 - tripdata['birth year']\n",
    "# display(tripdata['age'])\n",
    "# tripdata.drop(['birth year'], axis=1, inplace=True)\n",
    "# tripdata[tripdata['age'] > 60]['age'].count()\n",
    "\n",
    "# Создайте признак длительности поездки trip duration. \n",
    "# Для этого вычислите интервал времени между временем окончания поездки (stoptime) и её началом (starttime). \n",
    "# Сколько целых минут длилась поездка под индексом 3 в таблице?\n",
    "# display(tripdata['starttime'])\n",
    "# tripdata['starttime'] = pd.to_datetime(tripdata['starttime'])\n",
    "# tripdata['stoptime'] = pd.to_datetime(tripdata['stoptime'])\n",
    "# tripdata['trip duration'] = tripdata['stoptime'] - tripdata['starttime']\n",
    "# tripdata['trip duration']\n",
    "\n",
    "# Создайте «признак-мигалку» weekend, который равен 1, если поездка начиналась в выходной день \n",
    "# (суббота или воскресенье), \n",
    "# и 0 — в противном случае. Выясните, сколько поездок начиналось в выходные.\n",
    "# tripdata['weekend'] = tripdata['starttime'].dt.dayofweek\n",
    "\n",
    "# weekend_count = tripdata[(tripdata['weekend'] == 5) | (tripdata['weekend'] == 6)]['weekend'].count()\n",
    "# print(weekend_count)\n",
    "# def weekend_count(x):\n",
    "#     if x == 5:\n",
    "#         return 1\n",
    "#     elif x == 6:\n",
    "#         return 1\n",
    "#     else:\n",
    "#         return 0\n",
    "# tripdata['weekend'] = tripdata['weekend'].apply(lambda x: 1 if (x == 6) or (x == 5) else 0)\n",
    "# tripdata['weekend'].value_counts()\n",
    "\n",
    "# Создайте признак времени суток поездки time_of_day. \n",
    "# Время суток будем определять из часа начала поездки. Условимся, что:\n",
    "# поездка совершается ночью (night), если её час приходится \n",
    "# на интервал от 0 (включительно) до 6 (включительно) часов;\n",
    "# поездка совершается утром (morning), если её час приходится на интервал от 6 (не включительно) \n",
    "# до 12 (включительно) часов;\n",
    "# поездка совершается днём (day), если её час приходится на интервал \n",
    "# от 12 (не включительно) до 18 (включительно) часов;\n",
    "# поездка совершается вечером (evening),\n",
    "# если её час приходится на интервал от 18 (не включительно) до 23 часов (включительно).\n",
    "\n",
    "# Во сколько раз количество поездок, совершённых днём, больше, \n",
    "# чем количество поездок, совёршенных ночью, за представленный в данных период времени? \n",
    "# Ответ округлите до целых.\n",
    "\n",
    "tripdata['time_of_day'] = tripdata['starttime'].dt.hour\n",
    "def time_of_day(hour):\n",
    "    if hour >= 0 and hour <= 6:\n",
    "        return 'night'\n",
    "    elif hour > 6 and hour <= 12:\n",
    "        return 'morning'\n",
    "    elif hour > 12 and hour <= 18:\n",
    "        return 'day'\n",
    "    elif hour > 18 and hour <= 23:\n",
    "        return 'evening'\n",
    "tripdata['time_of_day'] = tripdata['time_of_day'].apply(time_of_day)\n",
    "x = tripdata[tripdata['time_of_day'] == 'day']['time_of_day'].count() \n",
    "y= tripdata[tripdata['time_of_day'] == 'night']['time_of_day'].count()\n",
    "print(round(x/y))\n"
   ]
  }
 ],
 "metadata": {
  "kernelspec": {
   "display_name": "Python 3",
   "language": "python",
   "name": "python3"
  },
  "language_info": {
   "codemirror_mode": {
    "name": "ipython",
    "version": 3
   },
   "file_extension": ".py",
   "mimetype": "text/x-python",
   "name": "python",
   "nbconvert_exporter": "python",
   "pygments_lexer": "ipython3",
   "version": "3.9.10 (tags/v3.9.10:f2f3f53, Jan 17 2022, 15:14:21) [MSC v.1929 64 bit (AMD64)]"
  },
  "orig_nbformat": 4,
  "vscode": {
   "interpreter": {
    "hash": "e563b20a463c464f34e1bb02005c577e36b7a645b96b80c63322fa525100086a"
   }
  }
 },
 "nbformat": 4,
 "nbformat_minor": 2
}
