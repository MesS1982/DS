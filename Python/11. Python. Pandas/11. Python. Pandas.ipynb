{
 "cells": [
  {
   "attachments": {},
   "cell_type": "markdown",
   "metadata": {},
   "source": [
    "Данные представляют собой таблицу, в которой содержится 23 столбца:\n",
    "\n",
    "index — номер строки\n",
    "Suburb — наименование пригорода\n",
    "Address — адрес\n",
    "Rooms — количество комнат в помещении\n",
    "Type — тип здания (h — дом, коттедж, вилла, терраса; u — блочный, дуплексный дом; t — таунхаус)\n",
    "Price — цена помещения\n",
    "Method — метод продажи \n",
    "SellerG — риэлторская компания\n",
    "Date — дата продажи (в формате день/месяц/год)\n",
    "Distance — расстояния до объекта от центра Мельбурна \n",
    "Postcode — почтовый индекс\n",
    "Bedroom — количество спален\n",
    "Bathroom — количество ванных комнат\n",
    "Car — количество парковочных мест\n",
    "Landsize — площадь прилегающей территории\n",
    "BuildingArea — площадь здания\n",
    "YearBuilt — год постройки\n",
    "CouncilArea — региональное управление\n",
    "Lattitude — географическая широта\n",
    "Longitude — географическая долгота\n",
    "Regionname — наименование района Мельбурна\n",
    "Propertycount — количество объектов недвижимости в районе\n",
    "Coordinates — широта и долгота, объединённые в кортеж"
   ]
  },
  {
   "cell_type": "code",
   "execution_count": 85,
   "metadata": {},
   "outputs": [
    {
     "data": {
      "text/plain": [
       "0        5\n",
       "1        3\n",
       "2        5\n",
       "3        5\n",
       "4        5\n",
       "        ..\n",
       "13575    5\n",
       "13576    5\n",
       "13577    5\n",
       "13578    5\n",
       "13579    5\n",
       "Name: WeekdaySale, Length: 13580, dtype: int64"
      ]
     },
     "metadata": {},
     "output_type": "display_data"
    },
    {
     "data": {
      "text/plain": [
       "12822"
      ]
     },
     "execution_count": 85,
     "metadata": {},
     "output_type": "execute_result"
    }
   ],
   "source": [
    "import pandas as pd\n",
    "\n",
    "melb_data = pd.read_csv('data/melb_data_ps.csv', sep=',')\n",
    "# melb_data.head()\n",
    "\n",
    "# melb_df = melb_data.copy()\n",
    "# melb_df.to_csv('data/melb_data_ps_copy.csv')\n",
    "# melb_df.head()\n",
    "# melb_df = melb_df.drop(['index', 'Coordinates'], axis=1)\n",
    "# melb_df.head()\n",
    "total_rooms = melb_df['Rooms'] + melb_df['Bedroom'] + melb_df['Bathroom']\n",
    "# display(total_rooms)\n",
    "# melb_df['MeanRoomsSquare'] = melb_df['BuildingArea'] / total_rooms\n",
    "# display(melb_df['MeanRoomsSquare'])\n",
    "# diff_area = melb_df['BuildingArea'] - melb_df['Landsize']\n",
    "# sum_area = melb_df['BuildingArea'] + melb_df['Landsize']\n",
    "# melb_df['AreaRatio'] = diff_area/sum_area\n",
    "# display(melb_df['AreaRatio'])\n",
    "melb_df['Date'] = pd.to_datetime(melb_df['Date'], dayfirst=True)\n",
    "# display(melb_df['Date'])\n",
    "melb_df['MonthSale'] = melb_df['Date'].dt.month\n",
    "melb_df['MonthSale'].value_counts(normalize=True)\n",
    "delta_days = melb_df['Date'] - pd.to_datetime('2016-01-01') \n",
    "# display(delta_days)\n",
    "# melb_df['AgeBuilding'] = melb_df['Date'].dt.year - melb_df['YearBuilt']\n",
    "# display(melb_df['AgeBuilding'])\n",
    "# melb_df = melb_df.drop('YearBuilt', axis=1)\n",
    "melb_df['WeekdaySale'] = melb_df['Date'].dt.dayofweek\n",
    "# melb_df['WeekdaySale'].count\n",
    "display(melb_df['WeekdaySale'])\n",
    "\n",
    "# melb_df.to_csv('data/melb_df_ps_copy.csv')\n",
    "weekend_count = melb_df[(melb_df['WeekdaySale'] == 6) | (melb_df['WeekdaySale'] == 5)]['WeekdaySale'].count()\n",
    "# melb_df['WeekdaySale'].shape"
   ]
  },
  {
   "cell_type": "code",
   "execution_count": 47,
   "metadata": {},
   "outputs": [
    {
     "name": "stdout",
     "output_type": "stream",
     "text": [
      "   number2  cust_id2  cust_age2  cust_year_birth2  cust_order2\n",
      "0        0       128         13              2008         1400\n",
      "1        1      1201         21              2000        14142\n",
      "2        2      9832         19              2002          900\n",
      "3        3      4392         21              2000         1240\n",
      "4        4      7472         60              1961         8430\n"
     ]
    }
   ],
   "source": [
    "# Задание 2.3\n",
    "# Напишите функцию delete_columns(df, col=[]), \n",
    "# которая удаляет столбцы из DataFrame и возвращает новую таблицу. \n",
    "# Если одного из указанных столбцов не существует в таблице, то функция должна возвращать None.\n",
    "\n",
    "# Пример DataFrame:\n",
    "import pandas as pd\n",
    "customer_df = pd.DataFrame({\n",
    "            'number': [0, 1, 2, 3, 4],\n",
    "            'cust_id': [128, 1201, 9832, 4392, 7472],\n",
    "            'cust_age': [13, 21, 19, 21, 60],\n",
    "            'cust_sale': [0, 0, 0.2, 0.15, 0.3],\n",
    "            'cust_year_birth': [2008, 2000, 2002, 2000, 1961],\n",
    "            'cust_order': [1400, 14142, 900, 1240, 8430]\n",
    "        })   \n",
    "\n",
    "\n",
    "# def delete_columns(df, col=[]):\n",
    "#     col = set(col)\n",
    "#     col = list(col)\n",
    "#     colums_list = df.columns\n",
    "\n",
    "#     for i in col:\n",
    "#         if i in colums_list:\n",
    "#             df.drop(i, axis=1, inplace = True)\n",
    "#             colums_list = df.columns\n",
    "#         else:\n",
    "#             return None\n",
    "#     return df\n",
    "def delete_columns(df, col=[]):\n",
    "    for cc in col:\n",
    "        if cc not in df.columns:\n",
    "            return None\n",
    "    return df.drop(col, axis=1) \n",
    "    \n",
    "# delete_columns(customer_df, ['cust_age', 'cust_order'])\n",
    "# display(customer_df)\n",
    "\n",
    "test_df_2 = pd.DataFrame({\n",
    "            'number2': [0, 1, 2, 3, 4],\n",
    "            'cust_id2': [128, 1201, 9832, 4392, 7472],\n",
    "            'cust_age2': [13, 21, 19, 21, 60],\n",
    "            'cust_sale2': [0, 0, 0.2, 0.15, 0.3],\n",
    "            'cust_year_birth2': [2008, 2000, 2002, 2000, 1961],\n",
    "            'cust_order2': [1400, 14142, 900, 1240, 8430]\n",
    "        })\n",
    "\n",
    "\n",
    "print(delete_columns(col = ['cust_sale2', 'cust_sale2'], df = test_df_2))"
   ]
  },
  {
   "cell_type": "code",
   "execution_count": 49,
   "metadata": {},
   "outputs": [
    {
     "name": "stdout",
     "output_type": "stream",
     "text": [
      "84.93\n"
     ]
    }
   ],
   "source": [
    "# Для каждой страны рассчитайте плотность населения (количество человек на квадратный километр).\n",
    "\n",
    "# Затем по полученным данным рассчитайте среднее по плотностям населения в указанных странах. \n",
    "# Ответ округлите до сотых.\n",
    "\n",
    "# Плотность населения рассчитывается как количество человек, \n",
    "# проживающих на территории отдельной страны, делённое на площадь этой страны. \n",
    "# Обратите внимание, что население в таблице представлено в миллионах.\n",
    "\n",
    "import pandas as pd\n",
    "countries_df = pd.DataFrame({\n",
    "    'country': ['Англия', 'Канада', 'США', 'Россия', 'Украина', 'Беларусь', 'Казахстан'],\n",
    "    'population': [56.29, 38.05, 322.28, 146.24, 45.5, 9.5, 17.04],\n",
    "    'square': [133396, 9984670, 9826630, 17125191, 603628, 207600, 2724902]\n",
    "})\n",
    "\n",
    "countries_df['density'] = countries_df['population'] * 1000000 / countries_df['square']\n",
    "mean_density = countries_df['density'].mean()\n",
    "print(round(mean_density, 2))"
   ]
  },
  {
   "attachments": {},
   "cell_type": "markdown",
   "metadata": {},
   "source": [
    "\"City\" — город, где был замечен НЛО;\n",
    "\"Colors Reported\" — цвет объекта;\n",
    "\"Shape Reported\" — форма объекта;\n",
    "\"State\" — обозначение штата;\n",
    "\"Time\" — время, когда был замечен НЛО (данные отсортированы от старых наблюдений к новым). "
   ]
  },
  {
   "cell_type": "code",
   "execution_count": 113,
   "metadata": {},
   "outputs": [],
   "source": [
    "import pandas as pd\n",
    "ufo = pd.read_csv('data/ufo.csv', sep=',')\n",
    "ufo['Time'] = pd.to_datetime(ufo['Time'])\n",
    "# В каком году отмечается наибольшее количество случаев наблюдения НЛО в США?\n",
    "\n",
    "years = ufo['Time'].dt.year\n",
    "years.mode()\n"
   ]
  },
  {
   "cell_type": "code",
   "execution_count": 159,
   "metadata": {},
   "outputs": [
    {
     "data": {
      "text/plain": [
       "69"
      ]
     },
     "execution_count": 159,
     "metadata": {},
     "output_type": "execute_result"
    }
   ],
   "source": [
    "# Задание 3.5\n",
    "# Найдите средний интервал времени (в днях) \n",
    "# между двумя последовательными случаями наблюдения НЛО в штате Невада (NV).\n",
    "# Чтобы выделить дату из столбца Time, можно воспользоваться атрибутом datetime date.\n",
    "\n",
    "# Чтобы вычислить разницу между двумя соседними датами в столбце, примените к нему метод diff().\n",
    "\n",
    "# Чтобы перевести интервал времени в дни, воспользуйтесь атрибутом timedelta days.\n",
    "\n",
    "ufo['Date'] = ufo['Time'].dt.date\n",
    "round(ufo[ufo['State'] == 'NV']['Date'].diff().dt.days.mean())\n",
    "# pd.to_datetime(diff)\n",
    "# display(diff.mode())\n",
    "# ufo[ufo['State'] == 'NV']['Date']) [ufo['State'] == 'NV']\n",
    "\n"
   ]
  }
 ],
 "metadata": {
  "kernelspec": {
   "display_name": "Python 3",
   "language": "python",
   "name": "python3"
  },
  "language_info": {
   "codemirror_mode": {
    "name": "ipython",
    "version": 3
   },
   "file_extension": ".py",
   "mimetype": "text/x-python",
   "name": "python",
   "nbconvert_exporter": "python",
   "pygments_lexer": "ipython3",
   "version": "3.9.10"
  },
  "orig_nbformat": 4,
  "vscode": {
   "interpreter": {
    "hash": "e563b20a463c464f34e1bb02005c577e36b7a645b96b80c63322fa525100086a"
   }
  }
 },
 "nbformat": 4,
 "nbformat_minor": 2
}
