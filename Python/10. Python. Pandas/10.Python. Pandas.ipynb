{
 "cells": [
  {
   "cell_type": "code",
   "execution_count": 2,
   "metadata": {},
   "outputs": [
    {
     "name": "stdout",
     "output_type": "stream",
     "text": [
      "261.5\n"
     ]
    }
   ],
   "source": [
    "simplelist = [19, 242, 14, 152, 142, 1000]\n",
    "print(sum(simplelist)/len(simplelist))"
   ]
  },
  {
   "cell_type": "code",
   "execution_count": 4,
   "metadata": {},
   "outputs": [
    {
     "name": "stdout",
     "output_type": "stream",
     "text": [
      "pandas\n"
     ]
    }
   ],
   "source": [
    "import pandas as pd\n",
    "pd.__version__\n",
    "print(pd.__name__)"
   ]
  },
  {
   "cell_type": "code",
   "execution_count": 12,
   "metadata": {},
   "outputs": [
    {
     "data": {
      "text/plain": [
       "chlorhexidine    15\n",
       "cyntomycin       18\n",
       "afobazol          7\n",
       "dtype: int64"
      ]
     },
     "metadata": {},
     "output_type": "display_data"
    },
    {
     "name": "stdout",
     "output_type": "stream",
     "text": [
      "37.5\n"
     ]
    }
   ],
   "source": [
    "# Задание 2.4\n",
    "# В аптеку поступают партии лекарств. \n",
    "# Их названия находятся в списке names, количество единиц товара находится в списке counts.\n",
    "\n",
    "# Например:\n",
    "\n",
    "# names = ['chlorhexidine', 'cyntomycin', 'afobazol'] counts = [15, 18, 7]\n",
    "\n",
    "# Напишите функцию create_medications(names, counts), \n",
    "# которая создает Series medications, \n",
    "# индексами которой являются названия лекарств names, \n",
    "# а значениями - их количество в поставке counts.\n",
    "\n",
    "# А также напишите функцию get_percent(medications, name), \n",
    "# которая возвращает долю количества товара с именем name от общего количества товаров в поставке в процентах.\n",
    "\n",
    "# Примечание. Не забудьте ипортировать библиотеки.\n",
    "\n",
    "# Пример:\n",
    "import pandas as pd\n",
    "\n",
    "def create_medications(names, counts):\n",
    "    medications = pd.Series(data = counts, index = names)\n",
    "    display(medications)\n",
    "    return medications\n",
    "\n",
    "def get_percent(medications, name):\n",
    "    return medications[name] / sum(medications[:]) * 100\n",
    "\n",
    "names=['chlorhexidine', 'cyntomycin', 'afobazol']\n",
    "counts=[15, 18, 7]\n",
    "medications = create_medications(names, counts)\n",
    "\n",
    "print(get_percent(medications, \"chlorhexidine\")) #37.5"
   ]
  },
  {
   "cell_type": "code",
   "execution_count": 28,
   "metadata": {},
   "outputs": [],
   "source": [
    "# ЗАДАНИЕ 3.5\n",
    "# Вы работаете аналитиком в компании ScienceYou. \n",
    "# Ваша задача — проанализировать чистую прибыль.\n",
    "\n",
    "# Доходы (income), расходы (expenses) и годы (years), \n",
    "# соответствующие им, предоставлены вам в виде списков.\n",
    "\n",
    "# Например:\n",
    "\n",
    "income = [478, 512, 196]\n",
    "expenses = [156, 130, 270]\n",
    "years = [2018, 2019, 2020]\n",
    "# Создайте функцию create_companyDF(income, expenses, years), \n",
    "# которая возвращает DataFrame, составленный из входных данных со столбцами Income и Expenses и индексами, \n",
    "# соответствующими годам рассматриваемого периода.\n",
    "\n",
    "# Пример такого DataFrame представлен ниже.\n",
    "\n",
    "\n",
    "#     Income  Expenses\n",
    "# 2018    478     156\n",
    "# 2019    512     130\n",
    "# 2020    196     270\n",
    "# Также напишите функцию get_profit(df, year), \n",
    "# которая возвращает разницу между доходом и расходом, записанными в таблице df, за год year.\n",
    "\n",
    "# Примечание. Если информация за запрашиваемый год не указана в вашей таблице, вам необходимо вернуть None.\n",
    "\n",
    "# Примечание. Не забудьте ипортировать библиотеки.\n",
    "import pandas as pd\n",
    "def create_companyDF(income, expenses, years):\n",
    "    create_companyDF = pd.DataFrame({'Income': income, 'Expenses': expenses}, index = years)\n",
    "    return create_companyDF\n",
    "\n",
    "def get_profit(df, year):\n",
    "    # try:\n",
    "    #     profit = df.loc[year, 'Income'] - df.loc[year, 'Expenses']\n",
    "    # except KeyError:\n",
    "    #     return None\n",
    "    # return profit\n",
    "    if year in df.index:\n",
    "        profit = df.loc[year, 'Income'] - df.loc[year, 'Expenses']\n",
    "    else:\n",
    "        profit = None\n",
    "    return profit\n",
    "\n",
    "\n",
    "\n",
    "\n",
    "get_profit(create_companyDF(income, expenses, years), 2017)\n",
    "\n"
   ]
  },
  {
   "cell_type": "code",
   "execution_count": 29,
   "metadata": {},
   "outputs": [],
   "source": [
    "import pandas as pd\n",
    "countries_df = pd.DataFrame({\n",
    "    'country': ['Англия', 'Канада', 'США', 'Россия', 'Украина', 'Беларусь', 'Казахстан'],\n",
    "    'population': [56.29, 38.05, 322.28, 146.24, 45.5, 9.5, 17.04],\n",
    "    'square': [133396, 9984670, 9826630, 17125191, 603628, 207600, 2724902]\n",
    "})\n",
    "\n",
    "countries_df.to_csv('data/countries.csv', index=False, sep=';')"
   ]
  },
  {
   "cell_type": "code",
   "execution_count": 30,
   "metadata": {},
   "outputs": [
    {
     "data": {
      "text/html": [
       "<div>\n",
       "<style scoped>\n",
       "    .dataframe tbody tr th:only-of-type {\n",
       "        vertical-align: middle;\n",
       "    }\n",
       "\n",
       "    .dataframe tbody tr th {\n",
       "        vertical-align: top;\n",
       "    }\n",
       "\n",
       "    .dataframe thead th {\n",
       "        text-align: right;\n",
       "    }\n",
       "</style>\n",
       "<table border=\"1\" class=\"dataframe\">\n",
       "  <thead>\n",
       "    <tr style=\"text-align: right;\">\n",
       "      <th></th>\n",
       "      <th>country</th>\n",
       "      <th>population</th>\n",
       "      <th>square</th>\n",
       "    </tr>\n",
       "  </thead>\n",
       "  <tbody>\n",
       "    <tr>\n",
       "      <th>0</th>\n",
       "      <td>Англия</td>\n",
       "      <td>56.29</td>\n",
       "      <td>133396</td>\n",
       "    </tr>\n",
       "    <tr>\n",
       "      <th>1</th>\n",
       "      <td>Канада</td>\n",
       "      <td>38.05</td>\n",
       "      <td>9984670</td>\n",
       "    </tr>\n",
       "    <tr>\n",
       "      <th>2</th>\n",
       "      <td>США</td>\n",
       "      <td>322.28</td>\n",
       "      <td>9826630</td>\n",
       "    </tr>\n",
       "    <tr>\n",
       "      <th>3</th>\n",
       "      <td>Россия</td>\n",
       "      <td>146.24</td>\n",
       "      <td>17125191</td>\n",
       "    </tr>\n",
       "    <tr>\n",
       "      <th>4</th>\n",
       "      <td>Украина</td>\n",
       "      <td>45.50</td>\n",
       "      <td>603628</td>\n",
       "    </tr>\n",
       "    <tr>\n",
       "      <th>5</th>\n",
       "      <td>Беларусь</td>\n",
       "      <td>9.50</td>\n",
       "      <td>207600</td>\n",
       "    </tr>\n",
       "    <tr>\n",
       "      <th>6</th>\n",
       "      <td>Казахстан</td>\n",
       "      <td>17.04</td>\n",
       "      <td>2724902</td>\n",
       "    </tr>\n",
       "  </tbody>\n",
       "</table>\n",
       "</div>"
      ],
      "text/plain": [
       "     country  population    square\n",
       "0     Англия       56.29    133396\n",
       "1     Канада       38.05   9984670\n",
       "2        США      322.28   9826630\n",
       "3     Россия      146.24  17125191\n",
       "4    Украина       45.50    603628\n",
       "5   Беларусь        9.50    207600\n",
       "6  Казахстан       17.04   2724902"
      ]
     },
     "metadata": {},
     "output_type": "display_data"
    }
   ],
   "source": [
    "import pandas as pd\n",
    "countries_data = pd.read_csv('data/countries.csv', sep=';')\n",
    "display(countries_data)"
   ]
  },
  {
   "cell_type": "code",
   "execution_count": null,
   "metadata": {},
   "outputs": [],
   "source": [
    "data = pd.read_csv('https://raw.githubusercontent.com/esabunor/MLWorkspace/master/melb_data.csv')\n",
    "display(data)"
   ]
  },
  {
   "cell_type": "code",
   "execution_count": 59,
   "metadata": {},
   "outputs": [
    {
     "data": {
      "text/plain": [
       "0    Northern Metropolitan\n",
       "Name: Regionname, dtype: object"
      ]
     },
     "execution_count": 59,
     "metadata": {},
     "output_type": "execute_result"
    }
   ],
   "source": [
    "import pandas as pd\n",
    "melb_data = pd.read_csv('data/melb_data.csv', sep=',')\n",
    "# print(melb_data.loc[90, 'Date'])\n",
    "# print(round(melb_data.loc[3521, 'Landsize'] / melb_data.loc[1690, 'Landsize']))\n",
    "\n",
    "# display(melb_data.head())\n",
    "# melb_data.tail(7)\n",
    "# melb_data.shape\n",
    "# print(melb_data.info())\n",
    "# melb_data['Car'] = melb_data['Car'].astype('int64')\n",
    "# melb_data['Bedroom'] = melb_data['Bedroom'].astype('int64')\n",
    "# melb_data['Bathroom'] = melb_data['Bathroom'].astype('int64')\n",
    "# melb_data['Propertycount'] = melb_data['Propertycount'].astype('int64')\n",
    "# melb_data['YearBuilt'] = melb_data['YearBuilt'].astype('int64')\n",
    "# print(melb_data.info())\n",
    "# melb_data.describe().loc[:, ['Distance', 'BuildingArea' , 'Price']]\n",
    "# melb_data.describe()\n",
    "# melb_data['Type'].value_counts(normalize=True)\n",
    "# print(melb_data['CouncilArea'].info())\n",
    "# print(melb_data['Distance'].std())\n",
    "# BuildingArea_median = melb_data['BuildingArea'].median() \n",
    "# BuildingArea_mean =  melb_data['BuildingArea'].mean()\n",
    "# print(abs(BuildingArea_median - BuildingArea_mean)/BuildingArea_mean)\n",
    "# round(melb_data[((melb_data['Rooms'] > 5) | (melb_data['YearBuilt'] > 2015)) & (melb_data['Price']\n",
    "    # < 1000000)]['Price'].mean())\n",
    "# Какова средняя цена объектов недвижимости в таблице melb_data с ценой менее одного миллиона, \n",
    "# в которых либо количество комнат больше пяти, либо здание моложе 2015 года?\n",
    "melb_data[(melb_data['Type'] == 'h') & (melb_data['Price'] < 3000000)]['Regionname'].mode()\n",
    "# В каком районе Мельбурна чаще всего продаются виллы и коттеджи (тип здания — h) с ценой меньше трёх миллионов?\n"
   ]
  },
  {
   "cell_type": "code",
   "execution_count": 101,
   "metadata": {},
   "outputs": [
    {
     "name": "stdout",
     "output_type": "stream",
     "text": [
      "-5.827586206896555\n"
     ]
    }
   ],
   "source": [
    "import pandas as pd\n",
    "student_data = pd.read_csv('data/students_performance.csv', sep=',')\n",
    "# student_data.head()\n",
    "# student_data.shape\n",
    "# student_data.iloc[155]\n",
    "# print(student_data[student_data['lunch'] == 'standard']['math score'].mean())\n",
    "a = student_data[student_data['race/ethnicity'] == \"group A\"]['writing score'].median()\n",
    "b = student_data[student_data['race/ethnicity'] == \"group C\"]['writing score'].mean()\n",
    "print (a-b)"
   ]
  },
  {
   "attachments": {},
   "cell_type": "markdown",
   "metadata": {},
   "source": [
    "gender — пол;\n",
    "race/ethnicity — раса/этническая принадлежность;\n",
    "parental level of education — уровень образования родителей;\n",
    "lunch — какие обеды получал студент во время обучения (standard — платный, free/reduced — бесплатный);\n",
    "test preparation course — посещал ли студент курсы подготовки к экзаменам (none — не посещал, completed — посещал);\n",
    "math score, reading score, writing score — баллы по математике, чтению и письму по сто балльной шкале."
   ]
  }
 ],
 "metadata": {
  "kernelspec": {
   "display_name": "Python 3.9.10 64-bit",
   "language": "python",
   "name": "python3"
  },
  "language_info": {
   "codemirror_mode": {
    "name": "ipython",
    "version": 3
   },
   "file_extension": ".py",
   "mimetype": "text/x-python",
   "name": "python",
   "nbconvert_exporter": "python",
   "pygments_lexer": "ipython3",
   "version": "3.9.10"
  },
  "orig_nbformat": 4,
  "vscode": {
   "interpreter": {
    "hash": "e563b20a463c464f34e1bb02005c577e36b7a645b96b80c63322fa525100086a"
   }
  }
 },
 "nbformat": 4,
 "nbformat_minor": 2
}
