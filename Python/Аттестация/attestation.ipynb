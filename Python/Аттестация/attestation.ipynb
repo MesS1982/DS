{
 "cells": [
  {
   "cell_type": "code",
   "execution_count": 1,
   "metadata": {},
   "outputs": [],
   "source": [
    "one = [1, \"2\", 3, \"4\"]\n",
    "two = (\"a\", \"b\", \"c\", \"d\")\n",
    "three = two + (\"f\", 'g')"
   ]
  },
  {
   "cell_type": "code",
   "execution_count": 4,
   "metadata": {},
   "outputs": [
    {
     "data": {
      "text/plain": [
       "[3, 2, 1]"
      ]
     },
     "execution_count": 4,
     "metadata": {},
     "output_type": "execute_result"
    }
   ],
   "source": [
    "my_lst = [1, 2, 3]\n",
    "my_dict.sort()\n",
    "my_lst"
   ]
  },
  {
   "cell_type": "code",
   "execution_count": 9,
   "metadata": {},
   "outputs": [
    {
     "data": {
      "text/plain": [
       "0"
      ]
     },
     "execution_count": 9,
     "metadata": {},
     "output_type": "execute_result"
    }
   ],
   "source": [
    "config = {\n",
    "    \"server\": {\n",
    "        \"host\": \"127.0.0.1\",\n",
    "        \"port\": \"22\"\n",
    "    },\n",
    "    \"configuration\": {\n",
    "        \"ssh\": {\n",
    "            \"access\": True,\n",
    "            \"login\": \"some\",\n",
    "            \"password\": \"some\"\n",
    "        },\n",
    "        \"name\": \"2491Oaaf1414\"\n",
    "    }\n",
    "}\n",
    "config.get('login', 0)"
   ]
  },
  {
   "cell_type": "code",
   "execution_count": 13,
   "metadata": {},
   "outputs": [
    {
     "data": {
      "text/plain": [
       "False"
      ]
     },
     "execution_count": 13,
     "metadata": {},
     "output_type": "execute_result"
    }
   ],
   "source": [
    "s = 'dgsdg fsdgsdf'\n",
    "s.isnumeric()"
   ]
  },
  {
   "cell_type": "code",
   "execution_count": 15,
   "metadata": {},
   "outputs": [
    {
     "ename": "NameError",
     "evalue": "name 'data' is not defined",
     "output_type": "error",
     "traceback": [
      "\u001b[1;31m---------------------------------------------------------------------------\u001b[0m",
      "\u001b[1;31mNameError\u001b[0m                                 Traceback (most recent call last)",
      "Cell \u001b[1;32mIn[15], line 21\u001b[0m\n\u001b[0;32m     19\u001b[0m \u001b[39m# Вызов функций\u001b[39;00m\n\u001b[0;32m     20\u001b[0m read_data()\n\u001b[1;32m---> 21\u001b[0m freq(\u001b[39m'\u001b[39;49m\u001b[39mвойна\u001b[39;49m\u001b[39m'\u001b[39;49m)\n",
      "Cell \u001b[1;32mIn[15], line 11\u001b[0m, in \u001b[0;36mfreq\u001b[1;34m(target_word)\u001b[0m\n\u001b[0;32m      9\u001b[0m \u001b[39mdef\u001b[39;00m \u001b[39mfreq\u001b[39m(target_word):  \n\u001b[0;32m     10\u001b[0m     new_dict \u001b[39m=\u001b[39m \u001b[39mdict\u001b[39m() \n\u001b[1;32m---> 11\u001b[0m     \u001b[39mfor\u001b[39;00m i \u001b[39min\u001b[39;00m data: \u001b[39m# СТРОКА С ОШИБКОЙ\u001b[39;00m\n\u001b[0;32m     12\u001b[0m         \u001b[39mif\u001b[39;00m i \u001b[39mnot\u001b[39;00m \u001b[39min\u001b[39;00m new_dict:\n\u001b[0;32m     13\u001b[0m             new_dict[i] \u001b[39m=\u001b[39m \u001b[39m1\u001b[39m\n",
      "\u001b[1;31mNameError\u001b[0m: name 'data' is not defined"
     ]
    }
   ],
   "source": [
    "# Функция чтения данных\n",
    "def read_data():\n",
    "    data = open('war_peace_processed.txt', 'rt', encoding='utf-8').read()\n",
    "    data = data.split('\\n')\n",
    "    return data\n",
    "\n",
    "\n",
    "# Функция подсчёта частоты употребления слова в тексте\n",
    "def freq(target_word):  \n",
    "    new_dict = dict() \n",
    "    for i in data: # СТРОКА С ОШИБКОЙ\n",
    "        if i not in new_dict:\n",
    "            new_dict[i] = 1\n",
    "        else:\n",
    "            new_dict[i] = new_dict.get(i) + 1\n",
    "    return new_dict.get(target_word, 0)\n",
    "\n",
    "\n",
    "# Вызов функций\n",
    "read_data()\n",
    "freq('война')"
   ]
  },
  {
   "cell_type": "code",
   "execution_count": 39,
   "metadata": {},
   "outputs": [
    {
     "name": "stdout",
     "output_type": "stream",
     "text": [
      "33.0\n",
      "12.0\n",
      "18.0\n"
     ]
    },
    {
     "data": {
      "text/plain": [
       "{'Oranges (packaged)': 114.99,\n",
       " 'Candy (Rotfront)': 280.0,\n",
       " 'Boiled sausage': 133.99,\n",
       " 'Juice J7 (orange)': 105.59,\n",
       " 'Trout (Seven Seas)': 327.99}"
      ]
     },
     "execution_count": 39,
     "metadata": {},
     "output_type": "execute_result"
    }
   ],
   "source": [
    "# Задание 2.1 (Внешний источник)\n",
    "# Вам предоставлен словарь products, ключами которого являются названия продуктов, \n",
    "# а значениями — их цены. Затем вы получаете другой словарь (stocks), \n",
    "# ключи которого — товары, а значения — скидки (в процентах) на товары.\n",
    "\n",
    "# Напишите функцию apply_discounts(products, stocks), \n",
    "# которая снижает цену продуктов в словаре products на указанный в словаре stocks процент.\n",
    "# Функция должна вернуть результирующий словарь, ключи которого — товары, а значения — новые цены. \n",
    "# Если продукта из словаря products нет в словаре stocks, то скидка к нему не применяется. \n",
    "# Цены округлите до второго знака после запятой.\n",
    "\n",
    "\n",
    "def apply_discounts(products, stocks):\n",
    "    for x in products.keys():\n",
    "        if x in stocks.keys():\n",
    "            stocks[x] = float(stocks[x].replace('%', ''))\n",
    "            \n",
    "            products[x] = round(products[x] * (1 -(stocks[x] / 100)), 2)\n",
    "        else:\n",
    "            continue\n",
    "    return products\n",
    "\n",
    "products = {'Oranges (packaged)': 114.99, 'Candy (Rotfront)': 280.0, 'Boiled sausage': 199.99, \n",
    "            'Juice J7 (orange)': 119.99, 'Trout (Seven Seas)': 399.99}\n",
    "stocks = {'Boiled sausage': '33%', 'Juice J7 (orange)': '12%', 'Trout (Seven Seas)': '18%'}\n",
    "z = apply_discounts(products, stocks)\n",
    "z"
   ]
  },
  {
   "cell_type": "code",
   "execution_count": 40,
   "metadata": {},
   "outputs": [
    {
     "ename": "SyntaxError",
     "evalue": "invalid syntax (405190776.py, line 15)",
     "output_type": "error",
     "traceback": [
      "\u001b[1;36m  Cell \u001b[1;32mIn[40], line 15\u001b[1;36m\u001b[0m\n\u001b[1;33m    merged =\u001b[0m\n\u001b[1;37m             ^\u001b[0m\n\u001b[1;31mSyntaxError\u001b[0m\u001b[1;31m:\u001b[0m invalid syntax\n"
     ]
    }
   ],
   "source": [
    "# Задание 2.2 (Внешний источник)\n",
    "# Вам даны два файла bronze_top.csv и silver_top.csv, \n",
    "# в которых хранится информация о ТОП-5 стран по числу бронзовых \n",
    "# и серебряных медалей соответственно. В каждой таблице два одинаковых столбца: \n",
    "#     Country — страна и Total — число медалей.\n",
    "\n",
    "# Объедините две таблицы по странам таким образом, \n",
    "# чтобы в результат вошли данные только о тех странах, которые попали в оба рейтинга. \n",
    "# При этом в качестве суффиксов укажите строки \"_bronze\" и \"_silver\", чтобы столбцы таблиц, \n",
    "# не участвовавших в объединении, можно было различать.\n",
    "\n",
    "# Результат занесите в переменную merged.\n",
    "import numpy as np\n",
    "import pandas as pd\n",
    "bronze_top = pd.read_csv('bronze_top.csv')\n",
    "silver_top = pd.read_csv('silver_top.csv')\n",
    "merged = bronze_top.merge(silver_top, on=['Country'], suffixes=('_bronze', '_silver'))"
   ]
  }
 ],
 "metadata": {
  "kernelspec": {
   "display_name": "Python 3",
   "language": "python",
   "name": "python3"
  },
  "language_info": {
   "codemirror_mode": {
    "name": "ipython",
    "version": 3
   },
   "file_extension": ".py",
   "mimetype": "text/x-python",
   "name": "python",
   "nbconvert_exporter": "python",
   "pygments_lexer": "ipython3",
   "version": "3.9.10"
  },
  "orig_nbformat": 4,
  "vscode": {
   "interpreter": {
    "hash": "e563b20a463c464f34e1bb02005c577e36b7a645b96b80c63322fa525100086a"
   }
  }
 },
 "nbformat": 4,
 "nbformat_minor": 2
}
